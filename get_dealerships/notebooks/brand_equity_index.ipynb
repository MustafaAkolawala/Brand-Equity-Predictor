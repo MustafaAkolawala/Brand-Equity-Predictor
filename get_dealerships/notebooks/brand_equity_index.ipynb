{
  "cells": [
    {
      "cell_type": "code",
      "execution_count": null,
      "metadata": {
        "colab": {
          "base_uri": "https://localhost:8080/"
        },
        "id": "ZMGamqaEWiPa",
        "outputId": "69146dab-3a48-49cc-92ae-278b66aa1d11"
      },
      "outputs": [
        {
          "name": "stdout",
          "output_type": "stream",
          "text": [
            "Requirement already satisfied: firecrawl-py in /usr/local/lib/python3.11/dist-packages (1.15.0)\n",
            "Requirement already satisfied: requests in /usr/local/lib/python3.11/dist-packages (from firecrawl-py) (2.32.3)\n",
            "Requirement already satisfied: python-dotenv in /usr/local/lib/python3.11/dist-packages (from firecrawl-py) (1.1.0)\n",
            "Requirement already satisfied: websockets in /usr/local/lib/python3.11/dist-packages (from firecrawl-py) (15.0.1)\n",
            "Requirement already satisfied: nest-asyncio in /usr/local/lib/python3.11/dist-packages (from firecrawl-py) (1.6.0)\n",
            "Requirement already satisfied: pydantic>=2.10.3 in /usr/local/lib/python3.11/dist-packages (from firecrawl-py) (2.10.6)\n",
            "Requirement already satisfied: annotated-types>=0.6.0 in /usr/local/lib/python3.11/dist-packages (from pydantic>=2.10.3->firecrawl-py) (0.7.0)\n",
            "Requirement already satisfied: pydantic-core==2.27.2 in /usr/local/lib/python3.11/dist-packages (from pydantic>=2.10.3->firecrawl-py) (2.27.2)\n",
            "Requirement already satisfied: typing-extensions>=4.12.2 in /usr/local/lib/python3.11/dist-packages (from pydantic>=2.10.3->firecrawl-py) (4.12.2)\n",
            "Requirement already satisfied: charset-normalizer<4,>=2 in /usr/local/lib/python3.11/dist-packages (from requests->firecrawl-py) (3.4.1)\n",
            "Requirement already satisfied: idna<4,>=2.5 in /usr/local/lib/python3.11/dist-packages (from requests->firecrawl-py) (3.10)\n",
            "Requirement already satisfied: urllib3<3,>=1.21.1 in /usr/local/lib/python3.11/dist-packages (from requests->firecrawl-py) (2.3.0)\n",
            "Requirement already satisfied: certifi>=2017.4.17 in /usr/local/lib/python3.11/dist-packages (from requests->firecrawl-py) (2025.1.31)\n"
          ]
        }
      ],
      "source": [
        "!pip install firecrawl-py"
      ]
    },
    {
      "cell_type": "code",
      "execution_count": null,
      "metadata": {
        "id": "RBkJZPermItc"
      },
      "outputs": [],
      "source": [
        "API_KEY= \"fc-c0223c2469104f5da1148e9eab714ba0\"\n",
        "from firecrawl import FirecrawlApp\n",
        "app = FirecrawlApp(api_key=API_KEY)"
      ]
    },
    {
      "cell_type": "code",
      "execution_count": null,
      "metadata": {
        "colab": {
          "base_uri": "https://localhost:8080/"
        },
        "id": "PGsdFE3nmSbT",
        "outputId": "0df4ed41-2347-49e1-bf2c-83dae7da8913"
      },
      "outputs": [
        {
          "data": {
            "text/plain": [
              "<firecrawl.firecrawl.FirecrawlApp at 0x78433fe98110>"
            ]
          },
          "execution_count": 37,
          "metadata": {},
          "output_type": "execute_result"
        }
      ],
      "source": [
        "app"
      ]
    },
    {
      "cell_type": "code",
      "execution_count": null,
      "metadata": {
        "id": "U69kbSd4mTOA"
      },
      "outputs": [],
      "source": [
        "\n",
        "# data = app.scrape_url(\n",
        "#     \"https://www.carwale.com/dealer-showrooms/toyota\",\n",
        "#     params={\n",
        "#             \"formats\": [\"html\"]\n",
        "#             }\n",
        "# )\n",
        "# print(data)\n",
        "\n",
        "data = app.scrape_url(\n",
        "  \"https://www.carwale.com/dealer-showrooms/toyota\",\n",
        "    params={\n",
        "        'formats': ['markdown', 'extract'],\n",
        "        'extract': {\n",
        "            'prompt': \"Find any mentions of specific count and return them \",\n",
        "            'systemPrompt': \"You are a helpful assistant that extracts numerical data of showrooms.\"\n",
        "        }\n",
        "    }\n",
        ")\n"
      ]
    },
    {
      "cell_type": "code",
      "execution_count": null,
      "metadata": {
        "colab": {
          "base_uri": "https://localhost:8080/"
        },
        "id": "Nt8HaKXZKT5h",
        "outputId": "2a5415eb-a587-4d09-f0d0-7d45ea9d2014"
      },
      "outputs": [
        {
          "data": {
            "text/plain": [
              "{'markdown': '![](https://imgd.aeplcdn.com/0x0/statics/loader.gif)\\n\\nSelect your City\\n\\nDetect my location\\n\\nPopular Cities\\n\\n![Mumbai](https://imgd.aeplcdn.com/0x0/n/kvkeneb_1770463.jpg)Mumbai\\n\\n![Bangalore](https://imgd.aeplcdn.com/0x0/n/fj6eneb_1770469.jpg)Bangalore\\n\\n![Delhi](https://imgd.aeplcdn.com/0x0/n/8wqeneb_1770471.jpg)Delhi\\n\\n![Pune](https://imgd.aeplcdn.com/0x0/n/4i5eneb_1770473.jpg)Pune\\n\\n![Navi Mumbai](https://imgd.aeplcdn.com/0x0/n/n9ueneb_1770477.jpg)Navi Mumbai\\n\\n![Hyderabad](https://imgd.aeplcdn.com/0x0/n/cxveneb_1770479.jpg)Hyderabad\\n\\n![Ahmedabad](https://imgd.aeplcdn.com/0x0/n/p6a9neb_1770481.jpg)Ahmedabad\\n\\n![Chennai](https://imgd.aeplcdn.com/0x0/n/m4c9neb_1770483.jpg)Chennai\\n\\n![Kolkata](https://imgd.aeplcdn.com/0x0/n/1xf9neb_1770487.jpg)Kolkata\\n\\n![Chandigarh](https://imgd.aeplcdn.com/0x0/n/2gh9neb_1770489.jpg)Chandigarh\\n\\nWe won\\'t support this browser soon. For a better experience, we recommend using another browser.\\nLearn More\\n\\n- [Home](https://www.carwale.com/ \"CarWale\")\\n- [Find Dealer](https://www.carwale.com/dealer-showrooms/ \"Find Dealer\")\\n- Toyota Showrooms\\n\\nAston MartinAudiBentleyBMWBYDCitroenFerrariForce MotorsHondaHyundaiIsuzuJaguarJeepKiaLamborghiniLand RoverLexusMahindraMaruti SuzukiMaseratiMercedes-BenzMGMININissanPorscheRenaultRolls-RoyceSkodaTataToyotaVolkswagenVolvo\\n\\n- Toyota\\n\\nPlease select a make\\n\\nAboharAdoniAgartalaAgraAhmedabadAhmednagarAizawlAjmerAlappuzhaAligarhAlwarAmbala CityAmbikapurAmravatiAmritsarAnandAnantapurAngulArariaAsandhAsansolAurangabadAzamgarhBalasoreBangaloreBardezBardoliBareillyBarmerBarpetaBarshiBathindaBeedBelgaumBellaryBetulBhagalpurBharuchBhavnagarBhilaiBhilwaraBhimavaramBhopalBhubaneswarBhujBikanerBilaspurBrahmapurBuxarChambaChandigarhChandrapurChennaiChhatarpurChhindwaraChikamagalurChikkaballapurChittoorCoimbatoreCooch BeharCuttackDaltonganjDarjeelingDavanagereDehradunDelhiDeogarhDeogharDeoriaDevbhumi DwarkaDhamtariDhanbadDharapuramDharmapuriDhuleDibrugarhDimapurDindigulDurgapurEast SiangErnakulamErodeEtawahFaizabadFaridabadFatehabadFirozpurGandhidhamGandhinagarGanganagarGangtokGanjamGayaGhaziabadGobichettipalayamGodhraGondiaGorakhpurGreater NoidaGulbargaGummudipoondiGunaGuntakalGunturGurgaonGuwahatiGwaliorHaldiaHaldwaniHamirpur (Himachal Pradesh)HansiHanumangarhHardaHassanHathrasHazaribaghHimmatnagarHindupurHisarHoshiarpurHospetHosurHowrahHubliHyderabadImphalIndoreJabalpurJagdalpurJaipurJaisalmerJalandharJalgaonJalnaJammuJamnagarJamshedpurJanjgir-ChampaJaunpurJhajjarJhansiJindJodhpurJorhatJunagadhKadapaKaithalKakinadaKancheepuramKangraKankavaliKannurKanpurKanpur NagarKaraikudiKarimnagarKarnalKarurKasaragodKavaliKhammamKhargoneKochiKohimaKolarKolhapurKolkataKollamKorbaKotaKotdwarKottarakkaraKottayamKozhikodeKuchamanKumbakonamKurnoolKurukshetraLakhimpur KheriLaturLucknowLudhianaMachilipatnamMadanapalleMadikeriMaduraiMalappuramMandasurMandiMandyaMangaloreMedakMeerutMehsanaMogaMohaliMoradabadMorbiMuktsarMumbaiMuvattupuzhaMuzaffurpurMysoreNagaonNagaurNagercoilNagpurNaharlagunNakodarNalgondaNamakkalNandedNandurbarNashikNavi MumbaiNavsariNawadaNawanshahrNeemuchNelloreNoidaNorth GoaOngolePalakkadPalamuPalanpurPaliPalwalPanchkulaPanipatPanjimPanvelPaschim MedinipurPathanamthittaPatialaPatnaPhagwaraPondicherryPort BlairPrakasamPunePurneaPutturRaichurRaigarhRaipurRajahumundryRajkotRajsamandRanchiRanipetRatlamRatnagiriRohtakRoorkeeRourkelaRudrapurSagaraSaharanpurSalemSambalpurSanga ReddySangliSangrurSasaramSataraSatnaSecunderabadSeramporeShillongShimlaShimogaShirurSiddipetSikarSilcharSirsaSolanSolapurSonbhadraSouth GoaSrikakulamSrinagarSultanpurSuratSuriapetTapiTarn TaranTenkasiTezpurThaneThanjavurTheniThiruvallaThiruvallurThiruvananthapuramThodupuzhaThrissurTinsukiaTiruchirappalliTirunelveliTirupathurTirupatiTiruppurTiruvannamalaiTumkurUdaipurUdupiUjjainUna (HP)VadakaraVadodaraVapiVaranasiVasaiVelloreVijaywadaVikarabadVisakhapatnamWanaparthyWarangalWardhaWayanadYamunanagarYavatmalZira\\n\\nFind Dealers\\n\\n# Toyota Dealers in India\\n\\nToyota has 501 authorized showrooms across India. Here is a list of dealer showrooms in various states and cities.\\n\\n- Andaman Nicobar\\n\\n\\n- [Port Blair\\xa0(1)](https://www.carwale.com/toyota-dealer-showrooms/portblair-andamannicobar-296/)\\n\\n- Andhra Pradesh\\n\\n\\n- [Adoni\\xa0(1)](https://www.carwale.com/toyota-dealer-showrooms/adoni-490/)\\n- [Anantapur\\xa0(1)](https://www.carwale.com/toyota-dealer-showrooms/anantapur-100/)\\n- [Bhimavaram\\xa0(1)](https://www.carwale.com/toyota-dealer-showrooms/bhimavaram-528/)\\n- [Chittoor\\xa0(1)](https://www.carwale.com/toyota-dealer-showrooms/chittoor-101/)\\n- [Guntakal\\xa0(1)](https://www.carwale.com/toyota-dealer-showrooms/guntakal-494/)\\n- [Guntur\\xa0(1)](https://www.carwale.com/toyota-dealer-showrooms/guntur-104/)\\n- [Hindupur\\xa0(1)](https://www.carwale.com/toyota-dealer-showrooms/hindupur-537/)\\n- [Kadapa\\xa0(2)](https://www.carwale.com/toyota-dealer-showrooms/kadapa-691/)\\n- [Kakinada\\xa0(2)](https://www.carwale.com/toyota-dealer-showrooms/kakinada-252/)\\n- [Kavali\\xa0(1)](https://www.carwale.com/toyota-dealer-showrooms/kavali-503/)\\n- [Kurnool\\xa0(1)](https://www.carwale.com/toyota-dealer-showrooms/kurnool-11/)\\n- [Machilipatnam\\xa0(1)](https://www.carwale.com/toyota-dealer-showrooms/machilipatnam-512/)\\n- [Madanapalle\\xa0(1)](https://www.carwale.com/toyota-dealer-showrooms/madanapalle-689/)\\n- [Nellore\\xa0(1)](https://www.carwale.com/toyota-dealer-showrooms/nellore-112/)\\n- [Ongole\\xa0(1)](https://www.carwale.com/toyota-dealer-showrooms/ongole-505/)\\n- [Prakasam\\xa0(1)](https://www.carwale.com/toyota-dealer-showrooms/prakasam-114/)\\n- [Rajahumundry\\xa0(3)](https://www.carwale.com/toyota-dealer-showrooms/rajahumundry-287/)\\n- [Srikakulam\\xa0(2)](https://www.carwale.com/toyota-dealer-showrooms/srikakulam-116/)\\n- [Tirupati\\xa0(1)](https://www.carwale.com/toyota-dealer-showrooms/tirupati-297/)\\n- [Vijaywada\\xa0(2)](https://www.carwale.com/toyota-dealer-showrooms/vijaywada-209/)\\n- [Visakhapatnam\\xa0(4)](https://www.carwale.com/toyota-dealer-showrooms/visakhapatnam-117/)\\n\\n- Arunachal Pradesh\\n\\n\\n- [East Siang\\xa0(1)](https://www.carwale.com/toyota-dealer-showrooms/eastsiang-1198/)\\n- [Naharlagun\\xa0(1)](https://www.carwale.com/toyota-dealer-showrooms/naharlagun-481/)\\n\\n- Assam\\n\\n\\n- [Barpeta\\xa0(1)](https://www.carwale.com/toyota-dealer-showrooms/barpeta-903/)\\n- [Dibrugarh\\xa0(1)](https://www.carwale.com/toyota-dealer-showrooms/dibrugarh-238/)\\n- [Guwahati\\xa0(2)](https://www.carwale.com/toyota-dealer-showrooms/guwahati-226/)\\n- [Jorhat\\xa0(2)](https://www.carwale.com/toyota-dealer-showrooms/jorhat-272/)\\n- [Nagaon\\xa0(1)](https://www.carwale.com/toyota-dealer-showrooms/nagaon-615/)\\n- [Silchar\\xa0(1)](https://www.carwale.com/toyota-dealer-showrooms/silchar-240/)\\n- [Tezpur\\xa0(1)](https://www.carwale.com/toyota-dealer-showrooms/tezpur-300/)\\n- [Tinsukia\\xa0(1)](https://www.carwale.com/toyota-dealer-showrooms/tinsukia-227/)\\n\\n- Bihar\\n\\n\\n- [Araria\\xa0(1)](https://www.carwale.com/toyota-dealer-showrooms/araria-1554/)\\n- [Bhagalpur\\xa0(1)](https://www.carwale.com/toyota-dealer-showrooms/bhagalpur-302/)\\n- [Buxar\\xa0(1)](https://www.carwale.com/toyota-dealer-showrooms/buxar-1387/)\\n- [Gaya\\xa0(2)](https://www.carwale.com/toyota-dealer-showrooms/gaya-535/)\\n- [Muzaffurpur\\xa0(1)](https://www.carwale.com/toyota-dealer-showrooms/muzaffurpur-305/)\\n- [Nawada\\xa0(1)](https://www.carwale.com/toyota-dealer-showrooms/nawada-637/)\\n- [Patna\\xa0(3)](https://www.carwale.com/toyota-dealer-showrooms/patna-210/)\\n- [Purnea\\xa0(1)](https://www.carwale.com/toyota-dealer-showrooms/purnea-483/)\\n- [Sasaram\\xa0(1)](https://www.carwale.com/toyota-dealer-showrooms/sasaram-996/)\\n\\n- Chandigarh\\n\\n\\n- [Chandigarh\\xa0(3)](https://www.carwale.com/toyota-dealer-showrooms/chandigarh-244/)\\n\\n- Chhattisgarh\\n\\n\\n- [Ambikapur\\xa0(1)](https://www.carwale.com/toyota-dealer-showrooms/ambikapur-634/)\\n- [Bhilai\\xa0(1)](https://www.carwale.com/toyota-dealer-showrooms/bhilai-269/)\\n- [Bilaspur\\xa0(1)](https://www.carwale.com/toyota-dealer-showrooms/bilaspur-chhattisgarh-206/)\\n- [Dhamtari\\xa0(2)](https://www.carwale.com/toyota-dealer-showrooms/dhamtari-598/)\\n- [Jagdalpur\\xa0(2)](https://www.carwale.com/toyota-dealer-showrooms/jagdalpur-218/)\\n- [Janjgir-Champa\\xa0(1)](https://www.carwale.com/toyota-dealer-showrooms/janjgirchampa-1130/)\\n- [Korba\\xa0(1)](https://www.carwale.com/toyota-dealer-showrooms/korba-306/)\\n- [Raigarh\\xa0(1)](https://www.carwale.com/toyota-dealer-showrooms/raigarh-124/)\\n- [Raipur\\xa0(1)](https://www.carwale.com/toyota-dealer-showrooms/raipur-125/)\\n\\n- Delhi\\n\\n\\n- [Delhi\\xa0(11)](https://www.carwale.com/toyota-dealer-showrooms/delhi-10/)\\n\\n- Goa\\n\\n\\n- [Bardez\\xa0(1)](https://www.carwale.com/toyota-dealer-showrooms/bardez-453/)\\n- [North Goa\\xa0(1)](https://www.carwale.com/toyota-dealer-showrooms/northgoa-1381/)\\n- [Panjim\\xa0(1)](https://www.carwale.com/toyota-dealer-showrooms/panjim-307/)\\n- [South Goa\\xa0(1)](https://www.carwale.com/toyota-dealer-showrooms/southgoa-1382/)\\n\\n- Gujarat\\n\\n\\n- [Ahmedabad\\xa0(4)](https://www.carwale.com/toyota-dealer-showrooms/ahmedabad-128/)\\n- [Anand\\xa0(1)](https://www.carwale.com/toyota-dealer-showrooms/anand-363/)\\n- [Bardoli\\xa0(2)](https://www.carwale.com/toyota-dealer-showrooms/bardoli-601/)\\n- [Bharuch\\xa0(2)](https://www.carwale.com/toyota-dealer-showrooms/bharuch-131/)\\n- [Bhavnagar\\xa0(1)](https://www.carwale.com/toyota-dealer-showrooms/bhavnagar-132/)\\n- [Bhuj\\xa0(1)](https://www.carwale.com/toyota-dealer-showrooms/bhuj-133/)\\n- [Devbhumi Dwarka\\xa0(1)](https://www.carwale.com/toyota-dealer-showrooms/devbhumidwarka-1215/)\\n- [Gandhidham\\xa0(1)](https://www.carwale.com/toyota-dealer-showrooms/gandhidham-293/)\\n- [Gandhinagar\\xa0(1)](https://www.carwale.com/toyota-dealer-showrooms/gandhinagar-135/)\\n- [Godhra\\xa0(2)](https://www.carwale.com/toyota-dealer-showrooms/godhra-408/)\\n- [Himmatnagar\\xa0(1)](https://www.carwale.com/toyota-dealer-showrooms/himmatnagar-285/)\\n- [Jamnagar\\xa0(1)](https://www.carwale.com/toyota-dealer-showrooms/jamnagar-136/)\\n- [Junagadh\\xa0(1)](https://www.carwale.com/toyota-dealer-showrooms/junagadh-137/)\\n- [Mehsana\\xa0(1)](https://www.carwale.com/toyota-dealer-showrooms/mehsana-139/)\\n- [Morbi\\xa0(1)](https://www.carwale.com/toyota-dealer-showrooms/morbi-589/)\\n- [Navsari\\xa0(1)](https://www.carwale.com/toyota-dealer-showrooms/navsari-366/)\\n- [Palanpur\\xa0(1)](https://www.carwale.com/toyota-dealer-showrooms/palanpur-367/)\\n- [Rajkot\\xa0(2)](https://www.carwale.com/toyota-dealer-showrooms/rajkot-141/)\\n- [Surat\\xa0(3)](https://www.carwale.com/toyota-dealer-showrooms/surat-143/)\\n- [Tapi\\xa0(1)](https://www.carwale.com/toyota-dealer-showrooms/tapi-1218/)\\n- [Vadodara\\xa0(2)](https://www.carwale.com/toyota-dealer-showrooms/vadodara-145/)\\n- [Vapi\\xa0(2)](https://www.carwale.com/toyota-dealer-showrooms/vapi-295/)\\n\\n- Haryana\\n\\n\\n- [Ambala City\\xa0(1)](https://www.carwale.com/toyota-dealer-showrooms/ambalacity-1277/)\\n- [Asandh\\xa0(1)](https://www.carwale.com/toyota-dealer-showrooms/asandh-807/)\\n- [Faridabad\\xa0(1)](https://www.carwale.com/toyota-dealer-showrooms/faridabad-273/)\\n- [Fatehabad\\xa0(2)](https://www.carwale.com/toyota-dealer-showrooms/fatehabad-592/)\\n- [Gurgaon\\xa0(6)](https://www.carwale.com/toyota-dealer-showrooms/gurgaon-246/)\\n- [Hansi\\xa0(1)](https://www.carwale.com/toyota-dealer-showrooms/hansi-809/)\\n- [Hisar\\xa0(1)](https://www.carwale.com/toyota-dealer-showrooms/hisar-309/)\\n- [Jhajjar\\xa0(1)](https://www.carwale.com/toyota-dealer-showrooms/jhajjar-707/)\\n- [Jind\\xa0(1)](https://www.carwale.com/toyota-dealer-showrooms/jind-705/)\\n- [Kaithal\\xa0(1)](https://www.carwale.com/toyota-dealer-showrooms/kaithal-310/)\\n- [Karnal\\xa0(1)](https://www.carwale.com/toyota-dealer-showrooms/karnal-253/)\\n- [Kurukshetra\\xa0(1)](https://www.carwale.com/toyota-dealer-showrooms/kurukshetra-288/)\\n- [Palwal\\xa0(1)](https://www.carwale.com/toyota-dealer-showrooms/palwal-898/)\\n- [Panchkula\\xa0(1)](https://www.carwale.com/toyota-dealer-showrooms/panchkula-291/)\\n- [Panipat\\xa0(1)](https://www.carwale.com/toyota-dealer-showrooms/panipat-249/)\\n- [Rohtak\\xa0(2)](https://www.carwale.com/toyota-dealer-showrooms/rohtak-264/)\\n- [Sirsa\\xa0(2)](https://www.carwale.com/toyota-dealer-showrooms/sirsa-312/)\\n- [Yamunanagar\\xa0(1)](https://www.carwale.com/toyota-dealer-showrooms/yamunanagar-314/)\\n\\n- Himachal Pradesh\\n\\n\\n- [Chamba\\xa0(1)](https://www.carwale.com/toyota-dealer-showrooms/chamba-571/)\\n- [Hamirpur (Himachal Pradesh)\\xa0(1)](https://www.carwale.com/toyota-dealer-showrooms/hamirpur-315/)\\n- [Kangra\\xa0(1)](https://www.carwale.com/toyota-dealer-showrooms/kangra-603/)\\n- [Mandi\\xa0(1)](https://www.carwale.com/toyota-dealer-showrooms/mandi-290/)\\n- [Shimla\\xa0(1)](https://www.carwale.com/toyota-dealer-showrooms/shimla-316/)\\n- [Solan\\xa0(1)](https://www.carwale.com/toyota-dealer-showrooms/solan-549/)\\n- [Una (HP)\\xa0(1)](https://www.carwale.com/toyota-dealer-showrooms/una-himachalpradesh-403/)\\n\\n- Jammu & Kashmir\\n\\n\\n- [Jammu\\xa0(1)](https://www.carwale.com/toyota-dealer-showrooms/jammu-259/)\\n- [Srinagar\\xa0(2)](https://www.carwale.com/toyota-dealer-showrooms/srinagar-260/)\\n\\n- Jharkhand\\n\\n\\n- [Daltonganj\\xa0(1)](https://www.carwale.com/toyota-dealer-showrooms/daltonganj-610/)\\n- [Deoghar\\xa0(1)](https://www.carwale.com/toyota-dealer-showrooms/deoghar-584/)\\n- [Dhanbad\\xa0(1)](https://www.carwale.com/toyota-dealer-showrooms/dhanbad-282/)\\n- [Hazaribagh\\xa0(1)](https://www.carwale.com/toyota-dealer-showrooms/hazaribagh-319/)\\n- [Jamshedpur\\xa0(3)](https://www.carwale.com/toyota-dealer-showrooms/jamshedpur-211/)\\n- [Palamu\\xa0(1)](https://www.carwale.com/toyota-dealer-showrooms/palamu-894/)\\n- [Ranchi\\xa0(3)](https://www.carwale.com/toyota-dealer-showrooms/ranchi-280/)\\n\\n- Karnataka\\n\\n\\n- [Bangalore\\xa0(13)](https://www.carwale.com/toyota-dealer-showrooms/bangalore-2/)\\n- [Belgaum\\xa0(2)](https://www.carwale.com/toyota-dealer-showrooms/belgaum-44/)\\n- [Bellary\\xa0(1)](https://www.carwale.com/toyota-dealer-showrooms/bellary-45/)\\n- [Chikamagalur\\xa0(1)](https://www.carwale.com/toyota-dealer-showrooms/chikamagalur-48/)\\n- [Chikkaballapur\\xa0(1)](https://www.carwale.com/toyota-dealer-showrooms/chikkaballapur-1221/)\\n- [Davanagere\\xa0(1)](https://www.carwale.com/toyota-dealer-showrooms/davangere-390/)\\n- [Gulbarga\\xa0(1)](https://www.carwale.com/toyota-dealer-showrooms/gulbarga-52/)\\n- [Hassan\\xa0(1)](https://www.carwale.com/toyota-dealer-showrooms/hassan-53/)\\n- [Hospet\\xa0(1)](https://www.carwale.com/toyota-dealer-showrooms/hospet-255/)\\n- [Hubli\\xa0(1)](https://www.carwale.com/toyota-dealer-showrooms/hubli-207/)\\n- [Kolar\\xa0(1)](https://www.carwale.com/toyota-dealer-showrooms/kolar-55/)\\n- [Madikeri\\xa0(1)](https://www.carwale.com/toyota-dealer-showrooms/madikeri-854/)\\n- [Mandya\\xa0(1)](https://www.carwale.com/toyota-dealer-showrooms/mandya-56/)\\n- [Mangalore\\xa0(2)](https://www.carwale.com/toyota-dealer-showrooms/mangalore-208/)\\n- [Mysore\\xa0(3)](https://www.carwale.com/toyota-dealer-showrooms/mysore-57/)\\n- [Puttur\\xa0(1)](https://www.carwale.com/toyota-dealer-showrooms/puttur-1555/)\\n- [Raichur\\xa0(2)](https://www.carwale.com/toyota-dealer-showrooms/raichur-58/)\\n- [Sagara\\xa0(1)](https://www.carwale.com/toyota-dealer-showrooms/sagara-1500/)\\n- [Shimoga\\xa0(1)](https://www.carwale.com/toyota-dealer-showrooms/shimoga-59/)\\n- [Tumkur\\xa0(1)](https://www.carwale.com/toyota-dealer-showrooms/tumkur-60/)\\n- [Udupi\\xa0(2)](https://www.carwale.com/toyota-dealer-showrooms/udupi-322/)\\n\\n- Kerala\\n\\n\\n- [Alappuzha\\xa0(2)](https://www.carwale.com/toyota-dealer-showrooms/alappuzha-410/)\\n- [Ernakulam\\xa0(2)](https://www.carwale.com/toyota-dealer-showrooms/ernakulam-200/)\\n- [Kannur\\xa0(1)](https://www.carwale.com/toyota-dealer-showrooms/kannur-326/)\\n- [Kasaragod\\xa0(1)](https://www.carwale.com/toyota-dealer-showrooms/kasaragod-563/)\\n- [Kochi\\xa0(4)](https://www.carwale.com/toyota-dealer-showrooms/kochi-9/)\\n- [Kollam\\xa0(1)](https://www.carwale.com/toyota-dealer-showrooms/kollam-399/)\\n- [Kottarakkara\\xa0(1)](https://www.carwale.com/toyota-dealer-showrooms/kottarakara-374/)\\n- [Kottayam\\xa0(3)](https://www.carwale.com/toyota-dealer-showrooms/kottayam-212/)\\n- [Kozhikode\\xa0(5)](https://www.carwale.com/toyota-dealer-showrooms/kozhikode-271/)\\n- [Malappuram\\xa0(3)](https://www.carwale.com/toyota-dealer-showrooms/malappuram-569/)\\n- [Muvattupuzha\\xa0(1)](https://www.carwale.com/toyota-dealer-showrooms/muvattupuzha-488/)\\n- [Palakkad\\xa0(1)](https://www.carwale.com/toyota-dealer-showrooms/palakkad-375/)\\n- [Pathanamthitta\\xa0(1)](https://www.carwale.com/toyota-dealer-showrooms/pathanamthitta-327/)\\n- [Thiruvalla\\xa0(1)](https://www.carwale.com/toyota-dealer-showrooms/thiruvalla-377/)\\n- [Thiruvananthapuram\\xa0(3)](https://www.carwale.com/toyota-dealer-showrooms/thiruvananthapuram-835/)\\n- [Thodupuzha\\xa0(1)](https://www.carwale.com/toyota-dealer-showrooms/thodupuzha-1348/)\\n- [Thrissur\\xa0(4)](https://www.carwale.com/toyota-dealer-showrooms/thrissur-328/)\\n- [Vadakara\\xa0(2)](https://www.carwale.com/toyota-dealer-showrooms/vadakara-1522/)\\n- [Wayanad\\xa0(1)](https://www.carwale.com/toyota-dealer-showrooms/wayanad-1067/)\\n\\n- Madhya Pradesh\\n\\n\\n- [Betul\\xa0(1)](https://www.carwale.com/toyota-dealer-showrooms/betul-63/)\\n- [Bhopal\\xa0(3)](https://www.carwale.com/toyota-dealer-showrooms/bhopal-4/)\\n- [Chhatarpur\\xa0(1)](https://www.carwale.com/toyota-dealer-showrooms/chhatarpur-66/)\\n- [Chhindwara\\xa0(1)](https://www.carwale.com/toyota-dealer-showrooms/chhindwara-67/)\\n- [Guna\\xa0(1)](https://www.carwale.com/toyota-dealer-showrooms/guna-72/)\\n- [Gwalior\\xa0(1)](https://www.carwale.com/toyota-dealer-showrooms/gwalior-73/)\\n- [Harda\\xa0(2)](https://www.carwale.com/toyota-dealer-showrooms/harda-1000/)\\n- [Indore\\xa0(3)](https://www.carwale.com/toyota-dealer-showrooms/indore-5/)\\n- [Jabalpur\\xa0(2)](https://www.carwale.com/toyota-dealer-showrooms/jabalpur-7/)\\n- [Khargone\\xa0(1)](https://www.carwale.com/toyota-dealer-showrooms/khargone-77/)\\n- [Mandasur\\xa0(1)](https://www.carwale.com/toyota-dealer-showrooms/mandasur-78/)\\n- [Neemuch\\xa0(1)](https://www.carwale.com/toyota-dealer-showrooms/neemuch-774/)\\n- [Ratlam\\xa0(1)](https://www.carwale.com/toyota-dealer-showrooms/ratlam-85/)\\n- [Satna\\xa0(1)](https://www.carwale.com/toyota-dealer-showrooms/satna-88/)\\n- [Ujjain\\xa0(2)](https://www.carwale.com/toyota-dealer-showrooms/ujjain-96/)\\n\\n- Maharashtra\\n\\n\\n- [Ahmednagar\\xa0(1)](https://www.carwale.com/toyota-dealer-showrooms/ahmednagar-14/)\\n- [Amravati\\xa0(2)](https://www.carwale.com/toyota-dealer-showrooms/amravati-16/)\\n- [Aurangabad\\xa0(2)](https://www.carwale.com/toyota-dealer-showrooms/aurangabad-maharashtra-17/)\\n- [Barshi\\xa0(1)](https://www.carwale.com/toyota-dealer-showrooms/barshi-1005/)\\n- [Beed\\xa0(1)](https://www.carwale.com/toyota-dealer-showrooms/beed-18/)\\n- [Chandrapur\\xa0(2)](https://www.carwale.com/toyota-dealer-showrooms/chandrapur-21/)\\n- [Dhule\\xa0(1)](https://www.carwale.com/toyota-dealer-showrooms/dhule-22/)\\n- [Gondia\\xa0(1)](https://www.carwale.com/toyota-dealer-showrooms/gondia-23/)\\n- [Jalgaon\\xa0(1)](https://www.carwale.com/toyota-dealer-showrooms/jalgaon-26/)\\n- [Jalna\\xa0(1)](https://www.carwale.com/toyota-dealer-showrooms/jalna-27/)\\n- [Kankavali\\xa0(1)](https://www.carwale.com/toyota-dealer-showrooms/kankavali-381/)\\n- [Kolhapur\\xa0(1)](https://www.carwale.com/toyota-dealer-showrooms/kolhapur-28/)\\n- [Latur\\xa0(1)](https://www.carwale.com/toyota-dealer-showrooms/latur-29/)\\n- [Mumbai\\xa0(11)](https://www.carwale.com/toyota-dealer-showrooms/mumbai-1/)\\n- [Nagpur\\xa0(3)](https://www.carwale.com/toyota-dealer-showrooms/nagpur-3/)\\n- [Nanded\\xa0(1)](https://www.carwale.com/toyota-dealer-showrooms/nanded-30/)\\n- [Nandurbar\\xa0(1)](https://www.carwale.com/toyota-dealer-showrooms/nandurbar-602/)\\n- [Nashik\\xa0(1)](https://www.carwale.com/toyota-dealer-showrooms/nashik-31/)\\n- [Navi Mumbai\\xa0(1)](https://www.carwale.com/toyota-dealer-showrooms/navi-mumbai-13/)\\n- [Panvel\\xa0(1)](https://www.carwale.com/toyota-dealer-showrooms/panvel-8/)\\n- [Pune\\xa0(5)](https://www.carwale.com/toyota-dealer-showrooms/pune-12/)\\n- [Ratnagiri\\xa0(2)](https://www.carwale.com/toyota-dealer-showrooms/ratnagiri-35/)\\n- [Sangli\\xa0(1)](https://www.carwale.com/toyota-dealer-showrooms/sangli-36/)\\n- [Satara\\xa0(1)](https://www.carwale.com/toyota-dealer-showrooms/satara-37/)\\n- [Shirur\\xa0(1)](https://www.carwale.com/toyota-dealer-showrooms/shirur-740/)\\n- [Solapur\\xa0(2)](https://www.carwale.com/toyota-dealer-showrooms/solapur-38/)\\n- [Thane\\xa0(6)](https://www.carwale.com/toyota-dealer-showrooms/thane-40/)\\n- [Vasai\\xa0(1)](https://www.carwale.com/toyota-dealer-showrooms/vasai-395/)\\n- [Wardha\\xa0(1)](https://www.carwale.com/toyota-dealer-showrooms/wardha-41/)\\n- [Yavatmal\\xa0(1)](https://www.carwale.com/toyota-dealer-showrooms/yavatmal-413/)\\n\\n- Manipur\\n\\n\\n- [Imphal\\xa0(1)](https://www.carwale.com/toyota-dealer-showrooms/imphal-329/)\\n\\n- Meghalaya\\n\\n\\n- [Shillong\\xa0(1)](https://www.carwale.com/toyota-dealer-showrooms/shillong-201/)\\n\\n- Mizoram\\n\\n\\n- [Aizawl\\xa0(1)](https://www.carwale.com/toyota-dealer-showrooms/aizawl-276/)\\n\\n- Nagaland\\n\\n\\n- [Dimapur\\xa0(1)](https://www.carwale.com/toyota-dealer-showrooms/dimapur-nagaland-330/)\\n- [Kohima\\xa0(1)](https://www.carwale.com/toyota-dealer-showrooms/kohima-910/)\\n\\n- Orissa\\n\\n\\n- [Angul\\xa0(1)](https://www.carwale.com/toyota-dealer-showrooms/angul-331/)\\n- [Balasore\\xa0(2)](https://www.carwale.com/toyota-dealer-showrooms/balasore-396/)\\n- [Bhubaneswar\\xa0(3)](https://www.carwale.com/toyota-dealer-showrooms/bhubaneswar-243/)\\n- [Brahmapur\\xa0(1)](https://www.carwale.com/toyota-dealer-showrooms/brahmapur-332/)\\n- [Cuttack\\xa0(1)](https://www.carwale.com/toyota-dealer-showrooms/cuttack-245/)\\n- [Deogarh\\xa0(1)](https://www.carwale.com/toyota-dealer-showrooms/deogarh-957/)\\n- [Ganjam\\xa0(1)](https://www.carwale.com/toyota-dealer-showrooms/ganjam-418/)\\n- [Rourkela\\xa0(1)](https://www.carwale.com/toyota-dealer-showrooms/rourkela-265/)\\n- [Sambalpur\\xa0(1)](https://www.carwale.com/toyota-dealer-showrooms/sambalpur-258/)\\n\\n- Pondicherry\\n\\n\\n- [Pondicherry\\xa0(1)](https://www.carwale.com/toyota-dealer-showrooms/pondicherry-358/)\\n\\n- Punjab\\n\\n\\n- [Abohar\\xa0(1)](https://www.carwale.com/toyota-dealer-showrooms/abohar-333/)\\n- [Amritsar\\xa0(1)](https://www.carwale.com/toyota-dealer-showrooms/amritsar-231/)\\n- [Bathinda\\xa0(1)](https://www.carwale.com/toyota-dealer-showrooms/bathinda-232/)\\n- [Firozpur\\xa0(1)](https://www.carwale.com/toyota-dealer-showrooms/firozpur-279/)\\n- [Hoshiarpur\\xa0(1)](https://www.carwale.com/toyota-dealer-showrooms/hoshiarpur-334/)\\n- [Jalandhar\\xa0(3)](https://www.carwale.com/toyota-dealer-showrooms/jalandhar-233/)\\n- [Ludhiana\\xa0(2)](https://www.carwale.com/toyota-dealer-showrooms/ludhiana-234/)\\n- [Moga\\xa0(1)](https://www.carwale.com/toyota-dealer-showrooms/moga-336/)\\n- [Mohali\\xa0(1)](https://www.carwale.com/toyota-dealer-showrooms/mohali-235/)\\n- [Muktsar\\xa0(1)](https://www.carwale.com/toyota-dealer-showrooms/muktsar-337/)\\n- [Nakodar\\xa0(2)](https://www.carwale.com/toyota-dealer-showrooms/nakodar-780/)\\n- [Nawanshahr\\xa0(1)](https://www.carwale.com/toyota-dealer-showrooms/nawanshahr-338/)\\n- [Patiala\\xa0(2)](https://www.carwale.com/toyota-dealer-showrooms/patiala-236/)\\n- [Phagwara\\xa0(1)](https://www.carwale.com/toyota-dealer-showrooms/phagwara-583/)\\n- [Sangrur\\xa0(1)](https://www.carwale.com/toyota-dealer-showrooms/sangrur-268/)\\n- [Tarn Taran\\xa0(1)](https://www.carwale.com/toyota-dealer-showrooms/tarntaran-764/)\\n- [Zira\\xa0(1)](https://www.carwale.com/toyota-dealer-showrooms/zira-1525/)\\n\\n- Rajasthan\\n\\n\\n- [Ajmer\\xa0(1)](https://www.carwale.com/toyota-dealer-showrooms/ajmer-147/)\\n- [Alwar\\xa0(2)](https://www.carwale.com/toyota-dealer-showrooms/alwar-148/)\\n- [Barmer\\xa0(1)](https://www.carwale.com/toyota-dealer-showrooms/barmer-150/)\\n- [Bhilwara\\xa0(1)](https://www.carwale.com/toyota-dealer-showrooms/bhilwara-152/)\\n- [Bikaner\\xa0(2)](https://www.carwale.com/toyota-dealer-showrooms/bikaner-153/)\\n- [Ganganagar\\xa0(1)](https://www.carwale.com/toyota-dealer-showrooms/ganganagar-1378/)\\n- [Hanumangarh\\xa0(2)](https://www.carwale.com/toyota-dealer-showrooms/hanumangarh-202/)\\n- [Jaipur\\xa0(4)](https://www.carwale.com/toyota-dealer-showrooms/jaipur-160/)\\n- [Jaisalmer\\xa0(1)](https://www.carwale.com/toyota-dealer-showrooms/jaisalmer-161/)\\n- [Jodhpur\\xa0(1)](https://www.carwale.com/toyota-dealer-showrooms/jodhpur-165/)\\n- [Kota\\xa0(1)](https://www.carwale.com/toyota-dealer-showrooms/kota-166/)\\n- [Kuchaman\\xa0(1)](https://www.carwale.com/toyota-dealer-showrooms/kuchaman-1468/)\\n- [Nagaur\\xa0(1)](https://www.carwale.com/toyota-dealer-showrooms/nagaur-167/)\\n- [Pali\\xa0(1)](https://www.carwale.com/toyota-dealer-showrooms/pali-168/)\\n- [Rajsamand\\xa0(1)](https://www.carwale.com/toyota-dealer-showrooms/rajsamand-617/)\\n- [Sikar\\xa0(1)](https://www.carwale.com/toyota-dealer-showrooms/sikar-169/)\\n- [Udaipur\\xa0(1)](https://www.carwale.com/toyota-dealer-showrooms/udaipur-174/)\\n\\n- Sikkim\\n\\n\\n- [Gangtok\\xa0(1)](https://www.carwale.com/toyota-dealer-showrooms/gangtok-339/)\\n\\n- Tamil Nadu\\n\\n\\n- [Chennai\\xa0(8)](https://www.carwale.com/toyota-dealer-showrooms/chennai-176/)\\n- [Coimbatore\\xa0(3)](https://www.carwale.com/toyota-dealer-showrooms/coimbatore-177/)\\n- [Dharapuram\\xa0(1)](https://www.carwale.com/toyota-dealer-showrooms/dharapuram-1581/)\\n- [Dharmapuri\\xa0(1)](https://www.carwale.com/toyota-dealer-showrooms/dharmapuri-180/)\\n- [Dindigul\\xa0(1)](https://www.carwale.com/toyota-dealer-showrooms/dindigul-181/)\\n- [Erode\\xa0(2)](https://www.carwale.com/toyota-dealer-showrooms/erode-340/)\\n- [Gobichettipalayam\\xa0(1)](https://www.carwale.com/toyota-dealer-showrooms/gobichettipalayam-751/)\\n- [Gummudipoondi\\xa0(1)](https://www.carwale.com/toyota-dealer-showrooms/gummudipoondi-1321/)\\n- [Hosur\\xa0(1)](https://www.carwale.com/toyota-dealer-showrooms/hosur-534/)\\n- [Kancheepuram\\xa0(1)](https://www.carwale.com/toyota-dealer-showrooms/kancheepuram-474/)\\n- [Karaikudi\\xa0(1)](https://www.carwale.com/toyota-dealer-showrooms/karaikudi-1523/)\\n- [Karur\\xa0(1)](https://www.carwale.com/toyota-dealer-showrooms/karur-386/)\\n- [Kumbakonam\\xa0(1)](https://www.carwale.com/toyota-dealer-showrooms/kumbakonam-1528/)\\n- [Madurai\\xa0(1)](https://www.carwale.com/toyota-dealer-showrooms/madurai-184/)\\n- [Nagercoil\\xa0(1)](https://www.carwale.com/toyota-dealer-showrooms/nagercoil-342/)\\n- [Namakkal\\xa0(1)](https://www.carwale.com/toyota-dealer-showrooms/namakkal-343/)\\n- [Ranipet\\xa0(1)](https://www.carwale.com/toyota-dealer-showrooms/ranipet-1733/)\\n- [Salem\\xa0(2)](https://www.carwale.com/toyota-dealer-showrooms/salem-191/)\\n- [Tenkasi\\xa0(1)](https://www.carwale.com/toyota-dealer-showrooms/tenkasi-833/)\\n- [Thanjavur\\xa0(1)](https://www.carwale.com/toyota-dealer-showrooms/thanjavur-193/)\\n- [Theni\\xa0(1)](https://www.carwale.com/toyota-dealer-showrooms/theni-621/)\\n- [Thiruvallur\\xa0(1)](https://www.carwale.com/toyota-dealer-showrooms/thiruvallur-1053/)\\n- [Tiruchirappalli\\xa0(1)](https://www.carwale.com/toyota-dealer-showrooms/tiruchirappalli-194/)\\n- [Tirunelveli\\xa0(1)](https://www.carwale.com/toyota-dealer-showrooms/tirunelveli-195/)\\n- [Tirupathur\\xa0(1)](https://www.carwale.com/toyota-dealer-showrooms/tirupathur-1589/)\\n- [Tiruppur\\xa0(2)](https://www.carwale.com/toyota-dealer-showrooms/tiruppur-347/)\\n- [Tiruvannamalai\\xa0(1)](https://www.carwale.com/toyota-dealer-showrooms/tiruvannamalai-580/)\\n- [Vellore\\xa0(1)](https://www.carwale.com/toyota-dealer-showrooms/vellore-304/)\\n\\n- Telangana\\n\\n\\n- [Hyderabad\\xa0(10)](https://www.carwale.com/toyota-dealer-showrooms/hyderabad-105/)\\n- [Karimnagar\\xa0(1)](https://www.carwale.com/toyota-dealer-showrooms/karimnagar-106/)\\n- [Khammam\\xa0(2)](https://www.carwale.com/toyota-dealer-showrooms/khammam-107/)\\n- [Medak\\xa0(1)](https://www.carwale.com/toyota-dealer-showrooms/medak-110/)\\n- [Nalgonda\\xa0(1)](https://www.carwale.com/toyota-dealer-showrooms/nalgonda-111/)\\n- [Sanga Reddy\\xa0(1)](https://www.carwale.com/toyota-dealer-showrooms/sangareddy-1173/)\\n- [Secunderabad\\xa0(1)](https://www.carwale.com/toyota-dealer-showrooms/secunderabad-394/)\\n- [Siddipet\\xa0(1)](https://www.carwale.com/toyota-dealer-showrooms/siddipet-1175/)\\n- [Suriapet\\xa0(1)](https://www.carwale.com/toyota-dealer-showrooms/suriapet-518/)\\n- [Vikarabad\\xa0(1)](https://www.carwale.com/toyota-dealer-showrooms/vikarabad-1174/)\\n- [Wanaparthy\\xa0(1)](https://www.carwale.com/toyota-dealer-showrooms/wanaparthy-694/)\\n- [Warangal\\xa0(2)](https://www.carwale.com/toyota-dealer-showrooms/warangal-119/)\\n\\n- Tripura\\n\\n\\n- [Agartala\\xa0(1)](https://www.carwale.com/toyota-dealer-showrooms/agartala-266/)\\n\\n- Uttar Pradesh\\n\\n\\n- [Agra\\xa0(1)](https://www.carwale.com/toyota-dealer-showrooms/agra-221/)\\n- [Aligarh\\xa0(1)](https://www.carwale.com/toyota-dealer-showrooms/aligarh-267/)\\n- [Azamgarh\\xa0(1)](https://www.carwale.com/toyota-dealer-showrooms/azamgarh-389/)\\n- [Bareilly\\xa0(2)](https://www.carwale.com/toyota-dealer-showrooms/bareilly-223/)\\n- [Deoria\\xa0(1)](https://www.carwale.com/toyota-dealer-showrooms/deoria-431/)\\n- [Etawah\\xa0(2)](https://www.carwale.com/toyota-dealer-showrooms/etawah-435/)\\n- [Faizabad\\xa0(1)](https://www.carwale.com/toyota-dealer-showrooms/faizabad-274/)\\n- [Ghaziabad\\xa0(1)](https://www.carwale.com/toyota-dealer-showrooms/ghaziabad-225/)\\n- [Gorakhpur\\xa0(1)](https://www.carwale.com/toyota-dealer-showrooms/gorakhpur-261/)\\n- [Greater Noida\\xa0(1)](https://www.carwale.com/toyota-dealer-showrooms/greaternoida-1526/)\\n- [Hathras\\xa0(1)](https://www.carwale.com/toyota-dealer-showrooms/hathras-614/)\\n- [Jaunpur\\xa0(1)](https://www.carwale.com/toyota-dealer-showrooms/jaunpur-626/)\\n- [Jhansi\\xa0(1)](https://www.carwale.com/toyota-dealer-showrooms/jhansi-348/)\\n- [Kanpur\\xa0(3)](https://www.carwale.com/toyota-dealer-showrooms/kanpur-237/)\\n- [Kanpur Nagar\\xa0(1)](https://www.carwale.com/toyota-dealer-showrooms/kanpurnagar-1425/)\\n- [Lakhimpur Kheri\\xa0(1)](https://www.carwale.com/toyota-dealer-showrooms/lakhimpur-669/)\\n- [Lucknow\\xa0(4)](https://www.carwale.com/toyota-dealer-showrooms/lucknow-220/)\\n- [Meerut\\xa0(1)](https://www.carwale.com/toyota-dealer-showrooms/meerut-277/)\\n- [Moradabad\\xa0(1)](https://www.carwale.com/toyota-dealer-showrooms/moradabad-350/)\\n- [Noida\\xa0(4)](https://www.carwale.com/toyota-dealer-showrooms/noida-224/)\\n- [Saharanpur\\xa0(1)](https://www.carwale.com/toyota-dealer-showrooms/saharanpur-485/)\\n- [Sonbhadra\\xa0(1)](https://www.carwale.com/toyota-dealer-showrooms/sonbhadra-442/)\\n- [Sultanpur\\xa0(1)](https://www.carwale.com/toyota-dealer-showrooms/sultanpur-656/)\\n- [Varanasi\\xa0(2)](https://www.carwale.com/toyota-dealer-showrooms/varanasi-250/)\\n\\n- Uttarakhand\\n\\n\\n- [Dehradun\\xa0(2)](https://www.carwale.com/toyota-dealer-showrooms/dehradun-262/)\\n- [Haldwani\\xa0(1)](https://www.carwale.com/toyota-dealer-showrooms/haldwani-353/)\\n- [Kotdwar\\xa0(1)](https://www.carwale.com/toyota-dealer-showrooms/kotdawara-479/)\\n- [Roorkee\\xa0(1)](https://www.carwale.com/toyota-dealer-showrooms/roorkee-263/)\\n- [Rudrapur\\xa0(1)](https://www.carwale.com/toyota-dealer-showrooms/rudrapur-354/)\\n\\n- West Bengal\\n\\n\\n- [Asansol\\xa0(1)](https://www.carwale.com/toyota-dealer-showrooms/asansol-214/)\\n- [Cooch Behar\\xa0(1)](https://www.carwale.com/toyota-dealer-showrooms/coochbehar-461/)\\n- [Darjeeling\\xa0(1)](https://www.carwale.com/toyota-dealer-showrooms/darjiling-402/)\\n- [Durgapur\\xa0(1)](https://www.carwale.com/toyota-dealer-showrooms/durgapur-397/)\\n- [Haldia\\xa0(1)](https://www.carwale.com/toyota-dealer-showrooms/haldia-462/)\\n- [Howrah\\xa0(1)](https://www.carwale.com/toyota-dealer-showrooms/howrah-421/)\\n- [Kolkata\\xa0(5)](https://www.carwale.com/toyota-dealer-showrooms/kolkata-198/)\\n- [Paschim Medinipur\\xa0(1)](https://www.carwale.com/toyota-dealer-showrooms/paschim-medinipur-1596/)\\n- [Serampore\\xa0(1)](https://www.carwale.com/toyota-dealer-showrooms/serampore-1352/)\\n\\n## Toyota Cars\\n\\n- [![Urban Cruiser Hyryder](https://imgd.aeplcdn.com/272x153/n/cw/ec/124027/urban-cruiser-hyryder-exterior-right-front-three-quarter-72.jpeg?isig=0&q=80)](https://www.carwale.com/toyota-cars/hyryder/)\\n\\n\\n\\n[Toyota Urban Cruiser Hyryder](https://www.carwale.com/toyota-cars/hyryder/ \"Toyota Urban Cruiser Hyryder\")\\n\\n\\n\\n₹ 11.14 Lakhonwards\\n\\n\\nAvg. Ex-Showroom price\\n\\n\\n- [![Urban Cruiser Taisor](https://imgd.aeplcdn.com/272x153/n/cw/ec/132427/taisor-exterior-right-front-three-quarter-2.png?isig=0&q=80)](https://www.carwale.com/toyota-cars/taisor/)\\n\\n\\n\\n[Toyota Urban Cruiser Taisor](https://www.carwale.com/toyota-cars/taisor/ \"Toyota Urban Cruiser Taisor\")\\n\\n\\n\\n₹ 7.74 Lakhonwards\\n\\n\\nAvg. Ex-Showroom price\\n\\n\\n- [![Fortuner](https://imgd.aeplcdn.com/272x153/n/cw/ec/44709/fortuner-exterior-right-front-three-quarter-20.jpeg?isig=0&q=80)](https://www.carwale.com/toyota-cars/fortuner/)\\n\\n\\n\\n[Toyota Fortuner](https://www.carwale.com/toyota-cars/fortuner/ \"Toyota Fortuner\")\\n\\n\\n\\n₹ 33.78 Lakhonwards\\n\\n\\nAvg. Ex-Showroom price\\n\\n\\n- [![Glanza](https://imgd.aeplcdn.com/272x153/n/cw/ec/112839/glanza-exterior-right-front-three-quarter-5.jpeg?isig=0&q=80)](https://www.carwale.com/toyota-cars/glanza/)\\n\\n\\n\\n[Toyota Glanza](https://www.carwale.com/toyota-cars/glanza/ \"Toyota Glanza\")\\n\\n\\n\\n₹ 6.90 Lakhonwards\\n\\n\\nAvg. Ex-Showroom price\\n\\n\\n- [![Innova Crysta](https://imgd.aeplcdn.com/272x153/n/cw/ec/140809/innova-crysta-exterior-right-front-three-quarter-2.png?isig=0&q=80)](https://www.carwale.com/toyota-cars/innova-crysta/)\\n\\n\\n\\n[Toyota Innova Crysta](https://www.carwale.com/toyota-cars/innova-crysta/ \"Toyota Innova Crysta\")\\n\\n\\n\\n₹ 19.99 Lakhonwards\\n\\n\\nAvg. Ex-Showroom price\\n\\n\\n- [![Innova Hycross](https://imgd.aeplcdn.com/272x153/n/cw/ec/115025/innova-hycross-exterior-right-front-three-quarter-73.jpeg?isig=0&q=80)](https://www.carwale.com/toyota-cars/innova-hycross/)\\n\\n\\n\\n[Toyota Innova Hycross](https://www.carwale.com/toyota-cars/innova-hycross/ \"Toyota Innova Hycross\")\\n\\n\\n\\n₹ 19.94 Lakhonwards\\n\\n\\nAvg. Ex-Showroom price\\n\\n\\n- [![Hilux](https://imgd.aeplcdn.com/272x153/n/cw/ec/109265/hilux-exterior-right-front-three-quarter-2.jpeg?isig=0&q=80)](https://www.carwale.com/toyota-cars/hilux/)\\n\\n\\n\\n[Toyota Hilux](https://www.carwale.com/toyota-cars/hilux/ \"Toyota Hilux\")\\n\\n\\n\\n₹ 30.40 Lakhonwards\\n\\n\\nAvg. Ex-Showroom price\\n\\n\\n- [![Fortuner Legender](https://imgd.aeplcdn.com/272x153/n/cw/ec/137767/fortuner-legender-exterior-right-front-three-quarter-3.png?isig=0&q=80)](https://www.carwale.com/toyota-cars/fortuner-legender/)\\n\\n\\n\\n[Toyota Fortuner Legender](https://www.carwale.com/toyota-cars/fortuner-legender/ \"Toyota Fortuner Legender\")\\n\\n\\n\\n₹ 44.11 Lakhonwards\\n\\n\\nAvg. Ex-Showroom price\\n\\n\\n- [![Rumion](https://imgd.aeplcdn.com/272x153/n/cw/ec/105799/rumion-exterior-right-front-three-quarter-5.jpeg?isig=0&q=80)](https://www.carwale.com/toyota-cars/rumion/)\\n\\n\\n\\n[Toyota Rumion](https://www.carwale.com/toyota-cars/rumion/ \"Toyota Rumion\")\\n\\n\\n\\n₹ 10.54 Lakhonwards\\n\\n\\nAvg. Ex-Showroom price\\n\\n\\n- [![Camry](https://imgd.aeplcdn.com/272x153/n/cw/ec/192443/camry-exterior-right-front-three-quarter-2.jpeg?isig=0&q=80)](https://www.carwale.com/toyota-cars/camry/)\\n\\n\\n\\n[Toyota Camry](https://www.carwale.com/toyota-cars/camry/ \"Toyota Camry\")\\n\\n\\n\\n₹ 48.00 Lakhonwards\\n\\n\\nAvg. Ex-Showroom price\\n\\n\\n- [![Land Cruiser](https://imgd.aeplcdn.com/272x153/n/cw/ec/139739/land-cruiser-exterior-right-front-three-quarter-2.jpeg?isig=0&q=80)](https://www.carwale.com/toyota-cars/land-cruiser/)\\n\\n\\n\\n[Toyota Land Cruiser](https://www.carwale.com/toyota-cars/land-cruiser/ \"Toyota Land Cruiser\")\\n\\n\\n\\n₹ 2.31 Croreonwards\\n\\n\\nAvg. Ex-Showroom price\\n\\n\\n- [![Vellfire](https://imgd.aeplcdn.com/272x153/n/cw/ec/154483/vellfire-exterior-right-front-three-quarter-2.jpeg?isig=0&q=80)](https://www.carwale.com/toyota-cars/vellfire/)\\n\\n\\n\\n[Toyota Vellfire](https://www.carwale.com/toyota-cars/vellfire/ \"Toyota Vellfire\")\\n\\n\\n\\n₹ 1.22 Croreonwards\\n\\n\\nAvg. Ex-Showroom price\\n\\n\\n\\nBuying a new Car?Ask the experts08068441441(Toll free)\\n\\nSelect your city to avail offers\\n\\nCurrently available only in\\n\\nSelect City\\n\\n[iframe](https://www.google.com/recaptcha/api2/bframe?hl=en&v=hbAq-YhJxOnlU-7cpgBoAJHb&k=6LeLi_cUAAAAAPns4hljev3I90mJD93AP9WfpqPM)\\n\\n[iframe](https://www.google.com/recaptcha/api2/bframe?hl=en&v=hbAq-YhJxOnlU-7cpgBoAJHb&k=6LeLi_cUAAAAAPns4hljev3I90mJD93AP9WfpqPM)',\n",
              " 'metadata': {'google-site-verification': 'y33JBqCALrAtfZBeI-VVHz7jyLJrZqpOsggckAZlBj8',\n",
              "  'robots': 'max-snippet:-1, max-image-preview:large',\n",
              "  'google-signin-client_id': '491935823116-mp6hoblsbvqe5ifpcav9blnoif9dnfon.apps.googleusercontent.com',\n",
              "  'title': 'Toyota Car Dealers | Toyota Car Showrooms in India - CarWale',\n",
              "  'language': 'en',\n",
              "  'description': 'Toyota car dealers/showrooms in India. Find new car dealer information for more than 200 cities. Dealer information includes full address, phone numbers, email, pin code etc.',\n",
              "  'favicon': 'https://imgd.aeplcdn.com/0x0/cw/design15/cw-logo.ico?v1',\n",
              "  'keywords': 'Toyota car dealers, Toyota car showrooms,Toyota dealers, Toyota showrooms, Toyota dealerships, dealerships, test drive',\n",
              "  'google-signin-scope': 'profile email',\n",
              "  'viewport': 'width=device-width, initial-scale=1.0',\n",
              "  'referrer': 'strict-origin-when-cross-origin',\n",
              "  'scrapeId': '8eebb9e4-f78a-4a2b-af61-5d442b96c74e',\n",
              "  'sourceURL': 'https://www.carwale.com/dealer-showrooms/toyota',\n",
              "  'url': 'https://www.carwale.com/dealer-showrooms/toyota/',\n",
              "  'statusCode': 200},\n",
              " 'extract': {'showroom_counts': {'total_showrooms': 501,\n",
              "   'cities': {'Andaman Nicobar': {'Port Blair': 1},\n",
              "    'Andhra Pradesh': {'Adoni': 1,\n",
              "     'Anantapur': 1,\n",
              "     'Bhimavaram': 1,\n",
              "     'Chittoor': 1,\n",
              "     'Guntakal': 1,\n",
              "     'Guntur': 1,\n",
              "     'Hindupur': 1,\n",
              "     'Kadapa': 2,\n",
              "     'Kakinada': 2,\n",
              "     'Kavali': 1,\n",
              "     'Kurnool': 1,\n",
              "     'Machilipatnam': 1,\n",
              "     'Madanapalle': 1,\n",
              "     'Nellore': 1,\n",
              "     'Ongole': 1,\n",
              "     'Prakasam': 1,\n",
              "     'Rajahumundry': 3,\n",
              "     'Srikakulam': 2,\n",
              "     'Tirupati': 1,\n",
              "     'Vijaywada': 2,\n",
              "     'Visakhapatnam': 4},\n",
              "    'Arunachal Pradesh': {'East Siang': 1, 'Naharlagun': 1},\n",
              "    'Assam': {'Barpeta': 1,\n",
              "     'Dibrugarh': 1,\n",
              "     'Guwahati': 2,\n",
              "     'Jorhat': 2,\n",
              "     'Nagaon': 1,\n",
              "     'Silchar': 1,\n",
              "     'Tezpur': 1,\n",
              "     'Tinsukia': 1},\n",
              "    'Bihar': {'Araria': 1,\n",
              "     'Bhagalpur': 1,\n",
              "     'Buxar': 1,\n",
              "     'Gaya': 2,\n",
              "     'Muzaffurpur': 1,\n",
              "     'Nawada': 1,\n",
              "     'Patna': 3,\n",
              "     'Purnea': 1,\n",
              "     'Sasaram': 1},\n",
              "    'Chandigarh': {'Chandigarh': 3},\n",
              "    'Chhattisgarh': {'Ambikapur': 1,\n",
              "     'Bhilai': 1,\n",
              "     'Bilaspur': 1,\n",
              "     'Dhamtari': 2,\n",
              "     'Jagdalpur': 2,\n",
              "     'Janjgir-Champa': 1,\n",
              "     'Korba': 1,\n",
              "     'Raigarh': 1,\n",
              "     'Raipur': 1},\n",
              "    'Delhi': {'Delhi': 11},\n",
              "    'Goa': {'Bardez': 1, 'North Goa': 1, 'Panjim': 1, 'South Goa': 1},\n",
              "    'Gujarat': {'Ahmedabad': 4,\n",
              "     'Anand': 1,\n",
              "     'Bardoli': 2,\n",
              "     'Bharuch': 2,\n",
              "     'Bhavnagar': 1,\n",
              "     'Bhuj': 1,\n",
              "     'Devbhumi Dwarka': 1,\n",
              "     'Gandhidham': 1,\n",
              "     'Gandhinagar': 1,\n",
              "     'Godhra': 2,\n",
              "     'Himmatnagar': 1,\n",
              "     'Jamnagar': 1,\n",
              "     'Junagadh': 1,\n",
              "     'Mehsana': 1,\n",
              "     'Morbi': 1,\n",
              "     'Navsari': 1,\n",
              "     'Palanpur': 1,\n",
              "     'Rajkot': 2,\n",
              "     'Surat': 3,\n",
              "     'Tapi': 1,\n",
              "     'Vadodara': 2,\n",
              "     'Vapi': 2},\n",
              "    'Haryana': {'Ambala City': 1,\n",
              "     'Asandh': 1,\n",
              "     'Faridabad': 1,\n",
              "     'Fatehabad': 2,\n",
              "     'Gurgaon': 6,\n",
              "     'Hansi': 1,\n",
              "     'Hisar': 1,\n",
              "     'Jhajjar': 1,\n",
              "     'Jind': 1,\n",
              "     'Kaithal': 1,\n",
              "     'Karnal': 1,\n",
              "     'Kurukshetra': 1,\n",
              "     'Palwal': 1,\n",
              "     'Panchkula': 1,\n",
              "     'Panipat': 1,\n",
              "     'Rohtak': 2,\n",
              "     'Sirsa': 2,\n",
              "     'Yamunanagar': 1},\n",
              "    'Himachal Pradesh': {'Chamba': 1,\n",
              "     'Hamirpur (Himachal Pradesh)': 1,\n",
              "     'Kangra': 1,\n",
              "     'Mandi': 1,\n",
              "     'Shimla': 1,\n",
              "     'Solan': 1,\n",
              "     'Una (HP)': 1},\n",
              "    'Jammu & Kashmir': {'Jammu': 1, 'Srinagar': 2},\n",
              "    'Jharkhand': {'Daltonganj': 1,\n",
              "     'Deoghar': 1,\n",
              "     'Dhanbad': 1,\n",
              "     'Hazaribagh': 1,\n",
              "     'Jamshedpur': 3,\n",
              "     'Palamu': 1,\n",
              "     'Ranchi': 3},\n",
              "    'Karnataka': {'Bangalore': 13,\n",
              "     'Belgaum': 2,\n",
              "     'Bellary': 1,\n",
              "     'Chikamagalur': 1,\n",
              "     'Chikkaballapur': 1,\n",
              "     'Davanagere': 1,\n",
              "     'Gulbarga': 1,\n",
              "     'Hassan': 1,\n",
              "     'Hospet': 1,\n",
              "     'Hubli': 1,\n",
              "     'Kolar': 1,\n",
              "     'Madikeri': 1,\n",
              "     'Mandya': 1,\n",
              "     'Mangalore': 2,\n",
              "     'Mysore': 3,\n",
              "     'Puttur': 1,\n",
              "     'Raichur': 2,\n",
              "     'Sagara': 1,\n",
              "     'Shimoga': 1,\n",
              "     'Tumkur': 1,\n",
              "     'Udupi': 2},\n",
              "    'Kerala': {'Alappuzha': 2,\n",
              "     'Ernakulam': 2,\n",
              "     'Kannur': 1,\n",
              "     'Kasaragod': 1,\n",
              "     'Kochi': 4,\n",
              "     'Kollam': 1,\n",
              "     'Kottarakkara': 1,\n",
              "     'Kottayam': 3,\n",
              "     'Kozhikode': 5,\n",
              "     'Malappuram': 3,\n",
              "     'Muvattupuzha': 1,\n",
              "     'Palakkad': 1,\n",
              "     'Pathanamthitta': 1,\n",
              "     'Thiruvalla': 1,\n",
              "     'Thiruvananthapuram': 3,\n",
              "     'Thodupuzha': 1,\n",
              "     'Thrissur': 4,\n",
              "     'Vadakara': 2,\n",
              "     'Wayanad': 1},\n",
              "    'Madhya Pradesh': {'Betul': 1,\n",
              "     'Bhopal': 3,\n",
              "     'Chhatarpur': 1,\n",
              "     'Chhindwara': 1,\n",
              "     'Guna': 1,\n",
              "     'Gwalior': 1,\n",
              "     'Harda': 2,\n",
              "     'Indore': 3,\n",
              "     'Jabalpur': 2,\n",
              "     'Khargone': 1,\n",
              "     'Mandasur': 1,\n",
              "     'Neemuch': 1,\n",
              "     'Ratlam': 1,\n",
              "     'Satna': 1,\n",
              "     'Ujjain': 2},\n",
              "    'Maharashtra': {'Ahmednagar': 1,\n",
              "     'Amravati': 2,\n",
              "     'Aurangabad': 2,\n",
              "     'Barshi': 1,\n",
              "     'Beed': 1,\n",
              "     'Chandrapur': 2,\n",
              "     'Dhule': 1,\n",
              "     'Gondia': 1,\n",
              "     'Jalgaon': 1,\n",
              "     'Jalna': 1,\n",
              "     'Kankavali': 1,\n",
              "     'Kolhapur': 1,\n",
              "     'Latur': 1,\n",
              "     'Mumbai': 11,\n",
              "     'Nagpur': 3,\n",
              "     'Nanded': 1,\n",
              "     'Nandurbar': 1,\n",
              "     'Nashik': 1,\n",
              "     'Navi Mumbai': 1,\n",
              "     'Panvel': 1,\n",
              "     'Pune': 5,\n",
              "     'Ratnagiri': 2,\n",
              "     'Sangli': 1,\n",
              "     'Satara': 1,\n",
              "     'Shirur': 1,\n",
              "     'Solapur': 2,\n",
              "     'Thane': 6,\n",
              "     'Vasai': 1,\n",
              "     'Wardha': 1,\n",
              "     'Yavatmal': 1},\n",
              "    'Manipur': {'Imphal': 1},\n",
              "    'Meghalaya': {'Shillong': 1},\n",
              "    'Mizoram': {'Aizawl': 1},\n",
              "    'Nagaland': {'Dimapur': 1, 'Kohima': 1},\n",
              "    'Orissa': {'Angul': 1,\n",
              "     'Balasore': 2,\n",
              "     'Bhubaneswar': 3,\n",
              "     'Brahmapur': 1,\n",
              "     'Cuttack': 1,\n",
              "     'Deogarh': 1,\n",
              "     'Ganjam': 1,\n",
              "     'Rourkela': 1,\n",
              "     'Sambalpur': 1},\n",
              "    'Pondicherry': {'Pondicherry': 1},\n",
              "    'Punjab': {'Abohar': 1,\n",
              "     'Amritsar': 1,\n",
              "     'Bathinda': 1,\n",
              "     'Firozpur': 1,\n",
              "     'Hoshiarpur': 1,\n",
              "     'Jalandhar': 3,\n",
              "     'Ludhiana': 2,\n",
              "     'Moga': 1,\n",
              "     'Mohali': 1,\n",
              "     'Muktsar': 1,\n",
              "     'Nakodar': 2,\n",
              "     'Nawanshahr': 1,\n",
              "     'Patiala': 2,\n",
              "     'Phagwara': 1,\n",
              "     'Sangrur': 1,\n",
              "     'Tarn Taran': 1,\n",
              "     'Zira': 1},\n",
              "    'Rajasthan': {'Ajmer': 1,\n",
              "     'Alwar': 2,\n",
              "     'Barmer': 1,\n",
              "     'Bhilwara': 1,\n",
              "     'Bikaner': 2,\n",
              "     'Ganganagar': 1,\n",
              "     'Hanumangarh': 2,\n",
              "     'Jaipur': 4,\n",
              "     'Jaisalmer': 1,\n",
              "     'Jodhpur': 1,\n",
              "     'Kota': 1,\n",
              "     'Kuchaman': 1,\n",
              "     'Nagaur': 1,\n",
              "     'Pali': 1,\n",
              "     'Rajsamand': 1,\n",
              "     'Sikar': 1,\n",
              "     'Udaipur': 1},\n",
              "    'Sikkim': {'Gangtok': 1},\n",
              "    'Tamil Nadu': {'Chennai': 8,\n",
              "     'Coimbatore': 3,\n",
              "     'Dharapuram': 1,\n",
              "     'Dharmapuri': 1,\n",
              "     'Dindigul': 1,\n",
              "     'Erode': 2,\n",
              "     'Gobichettipalayam': 1,\n",
              "     'Gummudipoondi': 1,\n",
              "     'Hosur': 1,\n",
              "     'Kancheepuram': 1,\n",
              "     'Karaikudi': 1,\n",
              "     'Karur': 1,\n",
              "     'Kumbakonam': 1,\n",
              "     'Madurai': 1,\n",
              "     'Nagercoil': 1,\n",
              "     'Namakkal': 1,\n",
              "     'Ranipet': 1,\n",
              "     'Salem': 2,\n",
              "     'Tenkasi': 1,\n",
              "     'Thanjavur': 1,\n",
              "     'Theni': 1,\n",
              "     'Thiruvallur': 1,\n",
              "     'Tiruchirappalli': 1,\n",
              "     'Tirunelveli': 1,\n",
              "     'Tirupathur': 1,\n",
              "     'Tiruppur': 2,\n",
              "     'Thiruvannamalai': 1,\n",
              "     'Vellore': 1},\n",
              "    'Telangana': {'Hyderabad': 10,\n",
              "     'Karimnagar': 1,\n",
              "     'Khammam': 2,\n",
              "     'Medak': 1,\n",
              "     'Nalgonda': 1,\n",
              "     'Sanga Reddy': 1,\n",
              "     'Secunderabad': 1,\n",
              "     'Siddipet': 1,\n",
              "     'Suriapet': 1,\n",
              "     'Vikarabad': 1,\n",
              "     'Wanaparthy': 1,\n",
              "     'Warangal': 2},\n",
              "    'Tripura': {'Agartala': 1},\n",
              "    'Uttar Pradesh': {'Agra': 1,\n",
              "     'Aligarh': 1,\n",
              "     'Azamgarh': 1,\n",
              "     'Bareilly': 2,\n",
              "     'Deoria': 1,\n",
              "     'Etawah': 2,\n",
              "     'Faizabad': 1,\n",
              "     'Ghaziabad': 1,\n",
              "     'Gorakhpur': 1,\n",
              "     'Greater Noida': 1,\n",
              "     'Hathras': 1,\n",
              "     'Jaunpur': 1,\n",
              "     'Jhansi': 1,\n",
              "     'Kanpur': 3,\n",
              "     'Kanpur Nagar': 1,\n",
              "     'Lakhimpur Kheri': 1,\n",
              "     'Lucknow': 4,\n",
              "     'Meerut': 1,\n",
              "     'Moradabad': 1,\n",
              "     'Noida': 4,\n",
              "     'Saharanpur': 1,\n",
              "     'Sonbhadra': 1,\n",
              "     'Sultanpur': 1,\n",
              "     'Varanasi': 2},\n",
              "    'Uttarakhand': {'Dehradun': 2,\n",
              "     'Haldwani': 1,\n",
              "     'Kotdwar': 1,\n",
              "     'Roorkee': 1,\n",
              "     'Rudrapur': 1},\n",
              "    'West Bengal': {'Asansol': 1,\n",
              "     'Cooch Behar': 1,\n",
              "     'Darjeeling': 1,\n",
              "     'Durgapur': 1,\n",
              "     'Haldia': 1,\n",
              "     'Howrah': 1,\n",
              "     'Kolkata': 5,\n",
              "     'Paschim Medinipur': 1,\n",
              "     'Serampore': 1}}}}}"
            ]
          },
          "execution_count": 53,
          "metadata": {},
          "output_type": "execute_result"
        }
      ],
      "source": [
        "data"
      ]
    },
    {
      "cell_type": "code",
      "execution_count": null,
      "metadata": {
        "colab": {
          "base_uri": "https://localhost:8080/"
        },
        "id": "CHdV93v-K66a",
        "outputId": "676903fe-d249-4740-db4c-fbae50b75fd0"
      },
      "outputs": [
        {
          "data": {
            "text/plain": [
              "{'showroom_counts': {'total_showrooms': 501,\n",
              "  'cities': {'Andaman Nicobar': {'Port Blair': 1},\n",
              "   'Andhra Pradesh': {'Adoni': 1,\n",
              "    'Anantapur': 1,\n",
              "    'Bhimavaram': 1,\n",
              "    'Chittoor': 1,\n",
              "    'Guntakal': 1,\n",
              "    'Guntur': 1,\n",
              "    'Hindupur': 1,\n",
              "    'Kadapa': 2,\n",
              "    'Kakinada': 2,\n",
              "    'Kavali': 1,\n",
              "    'Kurnool': 1,\n",
              "    'Machilipatnam': 1,\n",
              "    'Madanapalle': 1,\n",
              "    'Nellore': 1,\n",
              "    'Ongole': 1,\n",
              "    'Prakasam': 1,\n",
              "    'Rajahumundry': 3,\n",
              "    'Srikakulam': 2,\n",
              "    'Tirupati': 1,\n",
              "    'Vijaywada': 2,\n",
              "    'Visakhapatnam': 4},\n",
              "   'Arunachal Pradesh': {'East Siang': 1, 'Naharlagun': 1},\n",
              "   'Assam': {'Barpeta': 1,\n",
              "    'Dibrugarh': 1,\n",
              "    'Guwahati': 2,\n",
              "    'Jorhat': 2,\n",
              "    'Nagaon': 1,\n",
              "    'Silchar': 1,\n",
              "    'Tezpur': 1,\n",
              "    'Tinsukia': 1},\n",
              "   'Bihar': {'Araria': 1,\n",
              "    'Bhagalpur': 1,\n",
              "    'Buxar': 1,\n",
              "    'Gaya': 2,\n",
              "    'Muzaffurpur': 1,\n",
              "    'Nawada': 1,\n",
              "    'Patna': 3,\n",
              "    'Purnea': 1,\n",
              "    'Sasaram': 1},\n",
              "   'Chandigarh': {'Chandigarh': 3},\n",
              "   'Chhattisgarh': {'Ambikapur': 1,\n",
              "    'Bhilai': 1,\n",
              "    'Bilaspur': 1,\n",
              "    'Dhamtari': 2,\n",
              "    'Jagdalpur': 2,\n",
              "    'Janjgir-Champa': 1,\n",
              "    'Korba': 1,\n",
              "    'Raigarh': 1,\n",
              "    'Raipur': 1},\n",
              "   'Delhi': {'Delhi': 11},\n",
              "   'Goa': {'Bardez': 1, 'North Goa': 1, 'Panjim': 1, 'South Goa': 1},\n",
              "   'Gujarat': {'Ahmedabad': 4,\n",
              "    'Anand': 1,\n",
              "    'Bardoli': 2,\n",
              "    'Bharuch': 2,\n",
              "    'Bhavnagar': 1,\n",
              "    'Bhuj': 1,\n",
              "    'Devbhumi Dwarka': 1,\n",
              "    'Gandhidham': 1,\n",
              "    'Gandhinagar': 1,\n",
              "    'Godhra': 2,\n",
              "    'Himmatnagar': 1,\n",
              "    'Jamnagar': 1,\n",
              "    'Junagadh': 1,\n",
              "    'Mehsana': 1,\n",
              "    'Morbi': 1,\n",
              "    'Navsari': 1,\n",
              "    'Palanpur': 1,\n",
              "    'Rajkot': 2,\n",
              "    'Surat': 3,\n",
              "    'Tapi': 1,\n",
              "    'Vadodara': 2,\n",
              "    'Vapi': 2},\n",
              "   'Haryana': {'Ambala City': 1,\n",
              "    'Asandh': 1,\n",
              "    'Faridabad': 1,\n",
              "    'Fatehabad': 2,\n",
              "    'Gurgaon': 6,\n",
              "    'Hansi': 1,\n",
              "    'Hisar': 1,\n",
              "    'Jhajjar': 1,\n",
              "    'Jind': 1,\n",
              "    'Kaithal': 1,\n",
              "    'Karnal': 1,\n",
              "    'Kurukshetra': 1,\n",
              "    'Palwal': 1,\n",
              "    'Panchkula': 1,\n",
              "    'Panipat': 1,\n",
              "    'Rohtak': 2,\n",
              "    'Sirsa': 2,\n",
              "    'Yamunanagar': 1},\n",
              "   'Himachal Pradesh': {'Chamba': 1,\n",
              "    'Hamirpur (Himachal Pradesh)': 1,\n",
              "    'Kangra': 1,\n",
              "    'Mandi': 1,\n",
              "    'Shimla': 1,\n",
              "    'Solan': 1,\n",
              "    'Una (HP)': 1},\n",
              "   'Jammu & Kashmir': {'Jammu': 1, 'Srinagar': 2},\n",
              "   'Jharkhand': {'Daltonganj': 1,\n",
              "    'Deoghar': 1,\n",
              "    'Dhanbad': 1,\n",
              "    'Hazaribagh': 1,\n",
              "    'Jamshedpur': 3,\n",
              "    'Palamu': 1,\n",
              "    'Ranchi': 3},\n",
              "   'Karnataka': {'Bangalore': 13,\n",
              "    'Belgaum': 2,\n",
              "    'Bellary': 1,\n",
              "    'Chikamagalur': 1,\n",
              "    'Chikkaballapur': 1,\n",
              "    'Davanagere': 1,\n",
              "    'Gulbarga': 1,\n",
              "    'Hassan': 1,\n",
              "    'Hospet': 1,\n",
              "    'Hubli': 1,\n",
              "    'Kolar': 1,\n",
              "    'Madikeri': 1,\n",
              "    'Mandya': 1,\n",
              "    'Mangalore': 2,\n",
              "    'Mysore': 3,\n",
              "    'Puttur': 1,\n",
              "    'Raichur': 2,\n",
              "    'Sagara': 1,\n",
              "    'Shimoga': 1,\n",
              "    'Tumkur': 1,\n",
              "    'Udupi': 2},\n",
              "   'Kerala': {'Alappuzha': 2,\n",
              "    'Ernakulam': 2,\n",
              "    'Kannur': 1,\n",
              "    'Kasaragod': 1,\n",
              "    'Kochi': 4,\n",
              "    'Kollam': 1,\n",
              "    'Kottarakkara': 1,\n",
              "    'Kottayam': 3,\n",
              "    'Kozhikode': 5,\n",
              "    'Malappuram': 3,\n",
              "    'Muvattupuzha': 1,\n",
              "    'Palakkad': 1,\n",
              "    'Pathanamthitta': 1,\n",
              "    'Thiruvalla': 1,\n",
              "    'Thiruvananthapuram': 3,\n",
              "    'Thodupuzha': 1,\n",
              "    'Thrissur': 4,\n",
              "    'Vadakara': 2,\n",
              "    'Wayanad': 1},\n",
              "   'Madhya Pradesh': {'Betul': 1,\n",
              "    'Bhopal': 3,\n",
              "    'Chhatarpur': 1,\n",
              "    'Chhindwara': 1,\n",
              "    'Guna': 1,\n",
              "    'Gwalior': 1,\n",
              "    'Harda': 2,\n",
              "    'Indore': 3,\n",
              "    'Jabalpur': 2,\n",
              "    'Khargone': 1,\n",
              "    'Mandasur': 1,\n",
              "    'Neemuch': 1,\n",
              "    'Ratlam': 1,\n",
              "    'Satna': 1,\n",
              "    'Ujjain': 2},\n",
              "   'Maharashtra': {'Ahmednagar': 1,\n",
              "    'Amravati': 2,\n",
              "    'Aurangabad': 2,\n",
              "    'Barshi': 1,\n",
              "    'Beed': 1,\n",
              "    'Chandrapur': 2,\n",
              "    'Dhule': 1,\n",
              "    'Gondia': 1,\n",
              "    'Jalgaon': 1,\n",
              "    'Jalna': 1,\n",
              "    'Kankavali': 1,\n",
              "    'Kolhapur': 1,\n",
              "    'Latur': 1,\n",
              "    'Mumbai': 11,\n",
              "    'Nagpur': 3,\n",
              "    'Nanded': 1,\n",
              "    'Nandurbar': 1,\n",
              "    'Nashik': 1,\n",
              "    'Navi Mumbai': 1,\n",
              "    'Panvel': 1,\n",
              "    'Pune': 5,\n",
              "    'Ratnagiri': 2,\n",
              "    'Sangli': 1,\n",
              "    'Satara': 1,\n",
              "    'Shirur': 1,\n",
              "    'Solapur': 2,\n",
              "    'Thane': 6,\n",
              "    'Vasai': 1,\n",
              "    'Wardha': 1,\n",
              "    'Yavatmal': 1},\n",
              "   'Manipur': {'Imphal': 1},\n",
              "   'Meghalaya': {'Shillong': 1},\n",
              "   'Mizoram': {'Aizawl': 1},\n",
              "   'Nagaland': {'Dimapur': 1, 'Kohima': 1},\n",
              "   'Orissa': {'Angul': 1,\n",
              "    'Balasore': 2,\n",
              "    'Bhubaneswar': 3,\n",
              "    'Brahmapur': 1,\n",
              "    'Cuttack': 1,\n",
              "    'Deogarh': 1,\n",
              "    'Ganjam': 1,\n",
              "    'Rourkela': 1,\n",
              "    'Sambalpur': 1},\n",
              "   'Pondicherry': {'Pondicherry': 1},\n",
              "   'Punjab': {'Abohar': 1,\n",
              "    'Amritsar': 1,\n",
              "    'Bathinda': 1,\n",
              "    'Firozpur': 1,\n",
              "    'Hoshiarpur': 1,\n",
              "    'Jalandhar': 3,\n",
              "    'Ludhiana': 2,\n",
              "    'Moga': 1,\n",
              "    'Mohali': 1,\n",
              "    'Muktsar': 1,\n",
              "    'Nakodar': 2,\n",
              "    'Nawanshahr': 1,\n",
              "    'Patiala': 2,\n",
              "    'Phagwara': 1,\n",
              "    'Sangrur': 1,\n",
              "    'Tarn Taran': 1,\n",
              "    'Zira': 1},\n",
              "   'Rajasthan': {'Ajmer': 1,\n",
              "    'Alwar': 2,\n",
              "    'Barmer': 1,\n",
              "    'Bhilwara': 1,\n",
              "    'Bikaner': 2,\n",
              "    'Ganganagar': 1,\n",
              "    'Hanumangarh': 2,\n",
              "    'Jaipur': 4,\n",
              "    'Jaisalmer': 1,\n",
              "    'Jodhpur': 1,\n",
              "    'Kota': 1,\n",
              "    'Kuchaman': 1,\n",
              "    'Nagaur': 1,\n",
              "    'Pali': 1,\n",
              "    'Rajsamand': 1,\n",
              "    'Sikar': 1,\n",
              "    'Udaipur': 1},\n",
              "   'Sikkim': {'Gangtok': 1},\n",
              "   'Tamil Nadu': {'Chennai': 8,\n",
              "    'Coimbatore': 3,\n",
              "    'Dharapuram': 1,\n",
              "    'Dharmapuri': 1,\n",
              "    'Dindigul': 1,\n",
              "    'Erode': 2,\n",
              "    'Gobichettipalayam': 1,\n",
              "    'Gummudipoondi': 1,\n",
              "    'Hosur': 1,\n",
              "    'Kancheepuram': 1,\n",
              "    'Karaikudi': 1,\n",
              "    'Karur': 1,\n",
              "    'Kumbakonam': 1,\n",
              "    'Madurai': 1,\n",
              "    'Nagercoil': 1,\n",
              "    'Namakkal': 1,\n",
              "    'Ranipet': 1,\n",
              "    'Salem': 2,\n",
              "    'Tenkasi': 1,\n",
              "    'Thanjavur': 1,\n",
              "    'Theni': 1,\n",
              "    'Thiruvallur': 1,\n",
              "    'Tiruchirappalli': 1,\n",
              "    'Tirunelveli': 1,\n",
              "    'Tirupathur': 1,\n",
              "    'Tiruppur': 2,\n",
              "    'Thiruvannamalai': 1,\n",
              "    'Vellore': 1},\n",
              "   'Telangana': {'Hyderabad': 10,\n",
              "    'Karimnagar': 1,\n",
              "    'Khammam': 2,\n",
              "    'Medak': 1,\n",
              "    'Nalgonda': 1,\n",
              "    'Sanga Reddy': 1,\n",
              "    'Secunderabad': 1,\n",
              "    'Siddipet': 1,\n",
              "    'Suriapet': 1,\n",
              "    'Vikarabad': 1,\n",
              "    'Wanaparthy': 1,\n",
              "    'Warangal': 2},\n",
              "   'Tripura': {'Agartala': 1},\n",
              "   'Uttar Pradesh': {'Agra': 1,\n",
              "    'Aligarh': 1,\n",
              "    'Azamgarh': 1,\n",
              "    'Bareilly': 2,\n",
              "    'Deoria': 1,\n",
              "    'Etawah': 2,\n",
              "    'Faizabad': 1,\n",
              "    'Ghaziabad': 1,\n",
              "    'Gorakhpur': 1,\n",
              "    'Greater Noida': 1,\n",
              "    'Hathras': 1,\n",
              "    'Jaunpur': 1,\n",
              "    'Jhansi': 1,\n",
              "    'Kanpur': 3,\n",
              "    'Kanpur Nagar': 1,\n",
              "    'Lakhimpur Kheri': 1,\n",
              "    'Lucknow': 4,\n",
              "    'Meerut': 1,\n",
              "    'Moradabad': 1,\n",
              "    'Noida': 4,\n",
              "    'Saharanpur': 1,\n",
              "    'Sonbhadra': 1,\n",
              "    'Sultanpur': 1,\n",
              "    'Varanasi': 2},\n",
              "   'Uttarakhand': {'Dehradun': 2,\n",
              "    'Haldwani': 1,\n",
              "    'Kotdwar': 1,\n",
              "    'Roorkee': 1,\n",
              "    'Rudrapur': 1},\n",
              "   'West Bengal': {'Asansol': 1,\n",
              "    'Cooch Behar': 1,\n",
              "    'Darjeeling': 1,\n",
              "    'Durgapur': 1,\n",
              "    'Haldia': 1,\n",
              "    'Howrah': 1,\n",
              "    'Kolkata': 5,\n",
              "    'Paschim Medinipur': 1,\n",
              "    'Serampore': 1}}}}"
            ]
          },
          "execution_count": 54,
          "metadata": {},
          "output_type": "execute_result"
        }
      ],
      "source": [
        "data[\"extract\"]"
      ]
    },
    {
      "cell_type": "code",
      "execution_count": null,
      "metadata": {
        "colab": {
          "base_uri": "https://localhost:8080/"
        },
        "id": "1fbzXEJLLJMn",
        "outputId": "7925190b-ef85-480d-a59e-53213e3de5b1"
      },
      "outputs": [
        {
          "data": {
            "text/plain": [
              "501"
            ]
          },
          "execution_count": 60,
          "metadata": {},
          "output_type": "execute_result"
        }
      ],
      "source": [
        "data[\"extract\"][\"showroom_counts\"][\"total_showrooms\"]"
      ]
    },
    {
      "cell_type": "code",
      "execution_count": null,
      "metadata": {
        "colab": {
          "base_uri": "https://localhost:8080/"
        },
        "id": "BvkoOAL7ItrV",
        "outputId": "bc5f90ab-e734-4fef-9ca3-9d7b3e01ec92"
      },
      "outputs": [
        {
          "name": "stdout",
          "output_type": "stream",
          "text": [
            "501\n"
          ]
        }
      ],
      "source": [
        "from bs4 import BeautifulSoup\n",
        "\n",
        "soup = BeautifulSoup(data, \"html.parser\")\n",
        "\n",
        "paragraphs = soup.find_all(\"p\")\n",
        "\n",
        "for p in paragraphs:\n",
        "    text = p.get_text()\n",
        "    if \"showrooms across India\" in text:\n",
        "        number = [int(s) for s in text.split() if s.isdigit()]\n",
        "        print(number[0])\n"
      ]
    },
    {
      "cell_type": "markdown",
      "metadata": {
        "id": "yXtSlhEhPRZ5"
      },
      "source": [
        "Fallback approach"
      ]
    },
    {
      "cell_type": "code",
      "execution_count": null,
      "metadata": {
        "colab": {
          "base_uri": "https://localhost:8080/"
        },
        "id": "r079oxSdSjZ7",
        "outputId": "c6f239b2-eed2-456c-a4ea-8e0dea97d860"
      },
      "outputs": [
        {
          "name": "stdout",
          "output_type": "stream",
          "text": [
            "{'kind': 'customsearch#result', 'title': 'Hero MotoCorp - Wikipedia', 'htmlTitle': '<b>Hero MotoCorp</b> - Wikipedia', 'link': 'https://en.wikipedia.org/wiki/Hero_MotoCorp', 'displayLink': 'en.wikipedia.org', 'snippet': 'Hero MotoCorp Limited is an Indian multinational motorcycle and scooter manufacturer headquartered in Delhi. It has a market share of about 30% in the\\xa0...', 'htmlSnippet': '<b>Hero MotoCorp</b> Limited is an <b>Indian</b> multinational motorcycle and scooter manufacturer headquartered in Delhi. It has a market share of about 30% in the&nbsp;...', 'formattedUrl': 'https://en.wikipedia.org/wiki/Hero_MotoCorp', 'htmlFormattedUrl': 'https://en.wikipedia.org/wiki/<b>Hero</b>_<b>MotoCorp</b>', 'pagemap': {'hcard': [{'url_text': 'www.heromotocorp.com', 'bday': '1984-01-19', 'fn': 'Hero MotoCorp Limited', 'nickname': 'Hero Honda', 'label': 'New Delhi, India', 'category': 'Public', 'url': 'www.heromotocorp.com'}], 'metatags': [{'referrer': 'origin', 'og:image': 'https://upload.wikimedia.org/wikipedia/commons/thumb/0/0f/Hero_MotoCorp.svg/1200px-Hero_MotoCorp.svg.png', 'theme-color': '#eaecf0', 'og:image:width': '1200', 'og:type': 'website', 'viewport': 'width=device-width, initial-scale=1.0, user-scalable=yes, minimum-scale=0.25, maximum-scale=5.0', 'og:title': 'Hero MotoCorp - Wikipedia', 'og:image:height': '1351', 'format-detection': 'telephone=no'}]}}\n",
            "{'kind': 'customsearch#result', 'title': 'New Delhi, March 1, 2024 - HERO MOTOCORP CONTINUES THE ...', 'htmlTitle': 'New Delhi, March 1, <b>2024</b> - <b>HERO MOTOCORP</b> CONTINUES THE ...', 'link': 'https://stage.heromotocorp.com/content/dam/hero-aem-website/in/media-center/press-release/Press-Release-Hero-MotoCorp-February-Sales-Mar1-24.pdf', 'displayLink': 'stage.heromotocorp.com', 'snippet': 'Mar 1, 2024 ... Till date, more than 370 Hero 2.0 dealerships are operational. The Company will also take the current number of four Premia outlets to 100 by\\xa0...', 'htmlSnippet': 'Mar 1, 2024 <b>...</b> Till date, more than 370 <b>Hero</b> 2.0 <b>dealerships</b> are operational. The Company will also take the current number of four Premia outlets to 100 by&nbsp;...', 'formattedUrl': 'https://stage.heromotocorp.com/.../hero.../Press-Release-Hero-MotoCorp-Fe...', 'htmlFormattedUrl': 'https://stage.<b>heromotocorp</b>.com/.../<b>hero</b>.../Press-Release-<b>Hero</b>-<b>MotoCorp</b>-Fe...', 'pagemap': {'cse_thumbnail': [{'src': 'https://encrypted-tbn0.gstatic.com/images?q=tbn:ANd9GcR5fe6kmhYtsVCcQ0l5rYxeUpAkaKih9OXGj61oHTn8RQsSsOI4NoblzhH6&s', 'width': '290', 'height': '174'}], 'metatags': [{'moddate': \"D:20240301220155+05'30'\", 'creator': 'Microsoft® Word for Microsoft 365', 'creationdate': \"D:20240301220155+05'30'\", 'author': 'SUKRITI KALRA', 'producer': 'Microsoft® Word for Microsoft 365'}], 'cse_image': [{'src': 'x-raw-image:///4f09a16a8d44761aedc42132babafb2501c9bcde9591c5ca733c9a996bf9f9be'}]}, 'mime': 'application/pdf', 'fileFormat': 'PDF/Adobe Acrobat'}\n",
            "{'kind': 'customsearch#result', 'title': \"Hero MotoCorp - India's Leading Two-Wheeler Manufacturer\", 'htmlTitle': '<b>Hero MotoCorp</b> - <b>India&#39;s</b> Leading Two-Wheeler Manufacturer', 'link': 'https://www.heromotocorp.com/en-in.html', 'displayLink': 'www.heromotocorp.com', 'snippet': \"Explore the world of Hero MotoCorp, India's favorite two-wheeler manufacturer. Explore our range of stylish and powerful two-wheelers.\", 'htmlSnippet': 'Explore the world of <b>Hero MotoCorp</b>, <b>India&#39;s</b> favorite two-wheeler manufacturer. Explore our range of stylish and powerful two-wheelers.', 'formattedUrl': 'https://www.heromotocorp.com/en-in.html', 'htmlFormattedUrl': 'https://www.<b>heromotocorp</b>.com/en-in.html', 'pagemap': {'cse_thumbnail': [{'src': 'https://encrypted-tbn0.gstatic.com/images?q=tbn:ANd9GcSprxXHes-3nQvE5I3Z5BxaZBc_DXyfun4cWtnVAe5Xpo2796K99ITLtVKw&s', 'width': '310', 'height': '163'}], 'metatags': [{'template': 'hero-homepage', 'og:image': 'https://www.heromotocorp.com/content/dam/hero-aem-website/brand/logo/hero-logo-og-image.png', 'og:type': 'website', 'viewport': 'width=device-width, initial-scale=1.0', 'og:title': \"Hero MotoCorp - India's Leading Two-Wheeler Manufacturer\", 'og:url': 'https://www.heromotocorp.com/en-in.html', 'og:description': \"Explore the world of Hero MotoCorp, India's favorite two-wheeler manufacturer. Explore our range of stylish and powerful two-wheelers. Find your dream ride now!\"}], 'cse_image': [{'src': 'https://www.heromotocorp.com/content/dam/hero-aem-website/brand/logo/hero-logo-og-image.png'}]}}\n",
            "{'kind': 'customsearch#result', 'title': 'Hero Splendor remains largest selling 2-wheeler brand in 2024 - ET ...', 'htmlTitle': '<b>Hero</b> Splendor remains largest selling 2-wheeler brand in <b>2024</b> - ET ...', 'link': 'https://www.linkedin.com/posts/kriti-saraiya-014234204_hero-splendor-remains-largest-selling-2-wheeler-activity-7277571284874444800-5GVp', 'displayLink': 'www.linkedin.com', 'snippet': 'Dec 24, 2024 ... Hero Splendor remains the top-selling two-wheeler in India and Honda Activa holds second place. -Hero Splendor: 3.3 million units sold between January and\\xa0...', 'htmlSnippet': 'Dec 24, 2024 <b>...</b> <b>Hero</b> Splendor remains the top-selling two-wheeler in <b>India</b> and <b>Honda</b> Activa holds second place. -<b>Hero</b> Splendor: 3.3 million units sold between January and&nbsp;...', 'formattedUrl': 'https://www.linkedin.com/.../kriti-saraiya-014234204_hero-splendor-remai...', 'htmlFormattedUrl': 'https://www.linkedin.com/.../kriti-saraiya-014234204_<b>hero</b>-splendor-remai...', 'pagemap': {'cse_thumbnail': [{'src': 'https://encrypted-tbn0.gstatic.com/images?q=tbn:ANd9GcR2fbxpa157CLISkxxg8y5T91uz_Ce8JOwwURrtdk2fPzMnkfFquJK3&s', 'width': '96', 'height': '96'}], 'metatags': [{'og:image': 'https://static.licdn.com/scds/common/u/images/email/artdeco/logos/96/linkedin-bug-color.png', 'twitter:title': 'Hero Splendor remains largest selling 2-wheeler brand in 2024 - ET Auto | Kriti Saraiya', 'twitter:card': 'summary_large_image', 'og:type': 'article', 'al:ios:app_name': 'LinkedIn', 'twitter:url': 'https://www.linkedin.com/posts/kriti-saraiya-014234204_hero-splendor-remains-largest-selling-2-wheeler-activity-7277571284874444800-5GVp', 'og:title': 'Hero Splendor remains largest selling 2-wheeler brand in 2024 - ET Auto | Kriti Saraiya', 'al:android:package': 'com.linkedin.android', 'pagekey': 'p_public_post', 'locale': 'en_US', 'al:ios:url': 'https://www.linkedin.com/posts/kriti-saraiya-014234204_hero-splendor-remains-largest-selling-2-wheeler-activity-7277571284874444800-5GVp', 'og:description': 'Hero Splendor remains one of the oldest and most successful two-wheeler models in India, continuing its strong performance even after three decades.\\n\\nHero…', 'al:ios:app_store_id': '288429040', 'twitter:image': 'https://media.licdn.com/dms/image/sync/v2/D4D27AQEouOkOHyl_dQ/articleshare-shrink_800/articleshare-shrink_800/0/1740039801002?e=2147483647&v=beta&t=3Db5kBW-aHD4Qo1kj5ROkhyOz_dEl5JyR4ORZhZNZ5c', 'al:android:url': 'https://www.linkedin.com/posts/kriti-saraiya-014234204_hero-splendor-remains-largest-selling-2-wheeler-activity-7277571284874444800-5GVp', 'lnkd:url': 'https://www.linkedin.com/feed/update/urn:li:activity:7277571284874444800', 'twitter:site': '@linkedin', 'viewport': 'width=device-width, initial-scale=1.0', 'twitter:description': 'Hero Splendor remains one of the oldest and most successful two-wheeler models in India, continuing its strong performance even after three decades.\\n\\nHero…', 'og:url': 'https://www.linkedin.com/posts/kriti-saraiya-014234204_hero-splendor-remains-largest-selling-2-wheeler-activity-7277571284874444800-5GVp', 'al:android:app_name': 'LinkedIn'}], 'cse_image': [{'src': 'https://static.licdn.com/scds/common/u/images/email/artdeco/logos/96/linkedin-bug-color.png'}]}}\n",
            "{'kind': 'customsearch#result', 'title': 'Investor Relations', 'htmlTitle': 'Investor Relations', 'link': 'https://www.heromotocorp.com/en-in/company/investors/investor-relations.html', 'displayLink': 'www.heromotocorp.com', 'snippet': 'OTHERS. Changing Gears India Auto Hero · Corporate Overview- June, 2024 · Hero ... Copyright Hero MotoCorp Ltd. 2025 . All Rights Reserved.', 'htmlSnippet': 'OTHERS. Changing Gears <b>India</b> Auto Hero &middot; Corporate Overview- June, <b>2024</b> &middot; Hero ... Copyright <b>Hero MotoCorp</b> Ltd. 2025 . All Rights Reserved.', 'formattedUrl': 'https://www.heromotocorp.com/en-in/company/.../investor-relations.html', 'htmlFormattedUrl': 'https://www.<b>heromotocorp</b>.com/en-in/company/.../investor-relations.html', 'pagemap': {'cse_thumbnail': [{'src': 'https://encrypted-tbn0.gstatic.com/images?q=tbn:ANd9GcSBU-Qk9LeFLp6xg3wUS6NlWiypSgleLJS-odV5aR6r-JJu3w0ZcYnNjrGf&s', 'width': '310', 'height': '163'}], 'metatags': [{'template': 'company-page-content', 'og:image': 'https://www.heromotocorp.com/content/dam/hero-aem-website/brand/logo/hero-logo-dark.png', 'og:type': 'website', 'viewport': 'width=device-width, initial-scale=1.0', 'og:title': 'Investor Relations', 'og:url': 'https://www.heromotocorp.com/en-in/company/investors/investor-relations.html', 'og:description': \"Explore the world of Hero MotoCorp, India's favorite two-wheeler manufacturer.\"}], 'cse_image': [{'src': 'https://www.heromotocorp.com/content/dam/hero-aem-website/brand/logo/hero-logo-dark.png'}]}}\n"
          ]
        }
      ],
      "source": [
        "from google.colab import userdata\n",
        "CSE = userdata.get('CSE')\n",
        "\n",
        "API_KEY = userdata.get('API_KEY')\n",
        "\n",
        "from googleapiclient.discovery import build\n",
        "cse_id = CSE\n",
        "api_key = API_KEY\n",
        "\n",
        "def google_search(search_term, api_key, cse_id, **kwargs):\n",
        "    service = build(\"customsearch\", \"v1\", developerKey=api_key)\n",
        "    res = service.cse().list(q=search_term, cx=cse_id, **kwargs).execute()\n",
        "    return res['items']\n",
        "\n",
        "\n",
        "results = google_search('Hero MotoCorp dealerships in India as of Decemeber 2024', api_key, cse_id, num=5)\n",
        "for result in results:\n",
        "    print(result)"
      ]
    },
    {
      "cell_type": "code",
      "execution_count": null,
      "metadata": {
        "id": "sucRn3NlYdSz"
      },
      "outputs": [],
      "source": [
        "import requests\n",
        "\n",
        "payload = { 'api_key': '6b33e2f0dc361b83ab1fa379af266083', 'query': '' }\n",
        "r = requests.get('https://api.scraperapi.com/structured/google/search', params=payload)\n",
        "print(r.text)\n"
      ]
    },
    {
      "cell_type": "code",
      "execution_count": null,
      "metadata": {
        "colab": {
          "base_uri": "https://localhost:8080/"
        },
        "id": "axhf4YWbedPR",
        "outputId": "c6f239b2-eed2-456c-a4ea-8e0dea97d860"
      },
      "outputs": [
        {
          "name": "stdout",
          "output_type": "stream",
          "text": [
            "{'kind': 'customsearch#result', 'title': 'Hero MotoCorp - Wikipedia', 'htmlTitle': '<b>Hero MotoCorp</b> - Wikipedia', 'link': 'https://en.wikipedia.org/wiki/Hero_MotoCorp', 'displayLink': 'en.wikipedia.org', 'snippet': 'Hero MotoCorp Limited is an Indian multinational motorcycle and scooter manufacturer headquartered in Delhi. It has a market share of about 30% in the\\xa0...', 'htmlSnippet': '<b>Hero MotoCorp</b> Limited is an <b>Indian</b> multinational motorcycle and scooter manufacturer headquartered in Delhi. It has a market share of about 30% in the&nbsp;...', 'formattedUrl': 'https://en.wikipedia.org/wiki/Hero_MotoCorp', 'htmlFormattedUrl': 'https://en.wikipedia.org/wiki/<b>Hero</b>_<b>MotoCorp</b>', 'pagemap': {'hcard': [{'url_text': 'www.heromotocorp.com', 'bday': '1984-01-19', 'fn': 'Hero MotoCorp Limited', 'nickname': 'Hero Honda', 'label': 'New Delhi, India', 'category': 'Public', 'url': 'www.heromotocorp.com'}], 'metatags': [{'referrer': 'origin', 'og:image': 'https://upload.wikimedia.org/wikipedia/commons/thumb/0/0f/Hero_MotoCorp.svg/1200px-Hero_MotoCorp.svg.png', 'theme-color': '#eaecf0', 'og:image:width': '1200', 'og:type': 'website', 'viewport': 'width=device-width, initial-scale=1.0, user-scalable=yes, minimum-scale=0.25, maximum-scale=5.0', 'og:title': 'Hero MotoCorp - Wikipedia', 'og:image:height': '1351', 'format-detection': 'telephone=no'}]}}\n",
            "{'kind': 'customsearch#result', 'title': 'New Delhi, March 1, 2024 - HERO MOTOCORP CONTINUES THE ...', 'htmlTitle': 'New Delhi, March 1, <b>2024</b> - <b>HERO MOTOCORP</b> CONTINUES THE ...', 'link': 'https://stage.heromotocorp.com/content/dam/hero-aem-website/in/media-center/press-release/Press-Release-Hero-MotoCorp-February-Sales-Mar1-24.pdf', 'displayLink': 'stage.heromotocorp.com', 'snippet': 'Mar 1, 2024 ... Till date, more than 370 Hero 2.0 dealerships are operational. The Company will also take the current number of four Premia outlets to 100 by\\xa0...', 'htmlSnippet': 'Mar 1, 2024 <b>...</b> Till date, more than 370 <b>Hero</b> 2.0 <b>dealerships</b> are operational. The Company will also take the current number of four Premia outlets to 100 by&nbsp;...', 'formattedUrl': 'https://stage.heromotocorp.com/.../hero.../Press-Release-Hero-MotoCorp-Fe...', 'htmlFormattedUrl': 'https://stage.<b>heromotocorp</b>.com/.../<b>hero</b>.../Press-Release-<b>Hero</b>-<b>MotoCorp</b>-Fe...', 'pagemap': {'cse_thumbnail': [{'src': 'https://encrypted-tbn0.gstatic.com/images?q=tbn:ANd9GcR5fe6kmhYtsVCcQ0l5rYxeUpAkaKih9OXGj61oHTn8RQsSsOI4NoblzhH6&s', 'width': '290', 'height': '174'}], 'metatags': [{'moddate': \"D:20240301220155+05'30'\", 'creator': 'Microsoft® Word for Microsoft 365', 'creationdate': \"D:20240301220155+05'30'\", 'author': 'SUKRITI KALRA', 'producer': 'Microsoft® Word for Microsoft 365'}], 'cse_image': [{'src': 'x-raw-image:///4f09a16a8d44761aedc42132babafb2501c9bcde9591c5ca733c9a996bf9f9be'}]}, 'mime': 'application/pdf', 'fileFormat': 'PDF/Adobe Acrobat'}\n",
            "{'kind': 'customsearch#result', 'title': \"Hero MotoCorp - India's Leading Two-Wheeler Manufacturer\", 'htmlTitle': '<b>Hero MotoCorp</b> - <b>India&#39;s</b> Leading Two-Wheeler Manufacturer', 'link': 'https://www.heromotocorp.com/en-in.html', 'displayLink': 'www.heromotocorp.com', 'snippet': \"Explore the world of Hero MotoCorp, India's favorite two-wheeler manufacturer. Explore our range of stylish and powerful two-wheelers.\", 'htmlSnippet': 'Explore the world of <b>Hero MotoCorp</b>, <b>India&#39;s</b> favorite two-wheeler manufacturer. Explore our range of stylish and powerful two-wheelers.', 'formattedUrl': 'https://www.heromotocorp.com/en-in.html', 'htmlFormattedUrl': 'https://www.<b>heromotocorp</b>.com/en-in.html', 'pagemap': {'cse_thumbnail': [{'src': 'https://encrypted-tbn0.gstatic.com/images?q=tbn:ANd9GcSprxXHes-3nQvE5I3Z5BxaZBc_DXyfun4cWtnVAe5Xpo2796K99ITLtVKw&s', 'width': '310', 'height': '163'}], 'metatags': [{'template': 'hero-homepage', 'og:image': 'https://www.heromotocorp.com/content/dam/hero-aem-website/brand/logo/hero-logo-og-image.png', 'og:type': 'website', 'viewport': 'width=device-width, initial-scale=1.0', 'og:title': \"Hero MotoCorp - India's Leading Two-Wheeler Manufacturer\", 'og:url': 'https://www.heromotocorp.com/en-in.html', 'og:description': \"Explore the world of Hero MotoCorp, India's favorite two-wheeler manufacturer. Explore our range of stylish and powerful two-wheelers. Find your dream ride now!\"}], 'cse_image': [{'src': 'https://www.heromotocorp.com/content/dam/hero-aem-website/brand/logo/hero-logo-og-image.png'}]}}\n",
            "{'kind': 'customsearch#result', 'title': 'Hero Splendor remains largest selling 2-wheeler brand in 2024 - ET ...', 'htmlTitle': '<b>Hero</b> Splendor remains largest selling 2-wheeler brand in <b>2024</b> - ET ...', 'link': 'https://www.linkedin.com/posts/kriti-saraiya-014234204_hero-splendor-remains-largest-selling-2-wheeler-activity-7277571284874444800-5GVp', 'displayLink': 'www.linkedin.com', 'snippet': 'Dec 24, 2024 ... Hero Splendor remains the top-selling two-wheeler in India and Honda Activa holds second place. -Hero Splendor: 3.3 million units sold between January and\\xa0...', 'htmlSnippet': 'Dec 24, 2024 <b>...</b> <b>Hero</b> Splendor remains the top-selling two-wheeler in <b>India</b> and <b>Honda</b> Activa holds second place. -<b>Hero</b> Splendor: 3.3 million units sold between January and&nbsp;...', 'formattedUrl': 'https://www.linkedin.com/.../kriti-saraiya-014234204_hero-splendor-remai...', 'htmlFormattedUrl': 'https://www.linkedin.com/.../kriti-saraiya-014234204_<b>hero</b>-splendor-remai...', 'pagemap': {'cse_thumbnail': [{'src': 'https://encrypted-tbn0.gstatic.com/images?q=tbn:ANd9GcR2fbxpa157CLISkxxg8y5T91uz_Ce8JOwwURrtdk2fPzMnkfFquJK3&s', 'width': '96', 'height': '96'}], 'metatags': [{'og:image': 'https://static.licdn.com/scds/common/u/images/email/artdeco/logos/96/linkedin-bug-color.png', 'twitter:title': 'Hero Splendor remains largest selling 2-wheeler brand in 2024 - ET Auto | Kriti Saraiya', 'twitter:card': 'summary_large_image', 'og:type': 'article', 'al:ios:app_name': 'LinkedIn', 'twitter:url': 'https://www.linkedin.com/posts/kriti-saraiya-014234204_hero-splendor-remains-largest-selling-2-wheeler-activity-7277571284874444800-5GVp', 'og:title': 'Hero Splendor remains largest selling 2-wheeler brand in 2024 - ET Auto | Kriti Saraiya', 'al:android:package': 'com.linkedin.android', 'pagekey': 'p_public_post', 'locale': 'en_US', 'al:ios:url': 'https://www.linkedin.com/posts/kriti-saraiya-014234204_hero-splendor-remains-largest-selling-2-wheeler-activity-7277571284874444800-5GVp', 'og:description': 'Hero Splendor remains one of the oldest and most successful two-wheeler models in India, continuing its strong performance even after three decades.\\n\\nHero…', 'al:ios:app_store_id': '288429040', 'twitter:image': 'https://media.licdn.com/dms/image/sync/v2/D4D27AQEouOkOHyl_dQ/articleshare-shrink_800/articleshare-shrink_800/0/1740039801002?e=2147483647&v=beta&t=3Db5kBW-aHD4Qo1kj5ROkhyOz_dEl5JyR4ORZhZNZ5c', 'al:android:url': 'https://www.linkedin.com/posts/kriti-saraiya-014234204_hero-splendor-remains-largest-selling-2-wheeler-activity-7277571284874444800-5GVp', 'lnkd:url': 'https://www.linkedin.com/feed/update/urn:li:activity:7277571284874444800', 'twitter:site': '@linkedin', 'viewport': 'width=device-width, initial-scale=1.0', 'twitter:description': 'Hero Splendor remains one of the oldest and most successful two-wheeler models in India, continuing its strong performance even after three decades.\\n\\nHero…', 'og:url': 'https://www.linkedin.com/posts/kriti-saraiya-014234204_hero-splendor-remains-largest-selling-2-wheeler-activity-7277571284874444800-5GVp', 'al:android:app_name': 'LinkedIn'}], 'cse_image': [{'src': 'https://static.licdn.com/scds/common/u/images/email/artdeco/logos/96/linkedin-bug-color.png'}]}}\n",
            "{'kind': 'customsearch#result', 'title': 'Investor Relations', 'htmlTitle': 'Investor Relations', 'link': 'https://www.heromotocorp.com/en-in/company/investors/investor-relations.html', 'displayLink': 'www.heromotocorp.com', 'snippet': 'OTHERS. Changing Gears India Auto Hero · Corporate Overview- June, 2024 · Hero ... Copyright Hero MotoCorp Ltd. 2025 . All Rights Reserved.', 'htmlSnippet': 'OTHERS. Changing Gears <b>India</b> Auto Hero &middot; Corporate Overview- June, <b>2024</b> &middot; Hero ... Copyright <b>Hero MotoCorp</b> Ltd. 2025 . All Rights Reserved.', 'formattedUrl': 'https://www.heromotocorp.com/en-in/company/.../investor-relations.html', 'htmlFormattedUrl': 'https://www.<b>heromotocorp</b>.com/en-in/company/.../investor-relations.html', 'pagemap': {'cse_thumbnail': [{'src': 'https://encrypted-tbn0.gstatic.com/images?q=tbn:ANd9GcSBU-Qk9LeFLp6xg3wUS6NlWiypSgleLJS-odV5aR6r-JJu3w0ZcYnNjrGf&s', 'width': '310', 'height': '163'}], 'metatags': [{'template': 'company-page-content', 'og:image': 'https://www.heromotocorp.com/content/dam/hero-aem-website/brand/logo/hero-logo-dark.png', 'og:type': 'website', 'viewport': 'width=device-width, initial-scale=1.0', 'og:title': 'Investor Relations', 'og:url': 'https://www.heromotocorp.com/en-in/company/investors/investor-relations.html', 'og:description': \"Explore the world of Hero MotoCorp, India's favorite two-wheeler manufacturer.\"}], 'cse_image': [{'src': 'https://www.heromotocorp.com/content/dam/hero-aem-website/brand/logo/hero-logo-dark.png'}]}}\n"
          ]
        }
      ],
      "source": [
        "from google.colab import userdata\n",
        "CSE = userdata.get('CSE')\n",
        "\n",
        "API_KEY = userdata.get('API_KEY')\n",
        "\n",
        "from googleapiclient.discovery import build\n",
        "cse_id = CSE\n",
        "api_key = API_KEY\n",
        "\n",
        "def google_search(search_term, api_key, cse_id, **kwargs):\n",
        "    service = build(\"customsearch\", \"v1\", developerKey=api_key)\n",
        "    res = service.cse().list(q=search_term, cx=cse_id, **kwargs).execute()\n",
        "    return res['items']\n",
        "\n",
        "\n",
        "results = google_search('Hero MotoCorp dealerships in India as of Decemeber 2024', api_key, cse_id, num=5)\n",
        "for result in results:\n",
        "    print(result)"
      ]
    },
    {
      "cell_type": "code",
      "execution_count": null,
      "metadata": {
        "colab": {
          "base_uri": "https://localhost:8080/"
        },
        "id": "0i3OvbHheg_i",
        "outputId": "c6f239b2-eed2-456c-a4ea-8e0dea97d860"
      },
      "outputs": [
        {
          "name": "stdout",
          "output_type": "stream",
          "text": [
            "{'kind': 'customsearch#result', 'title': 'Hero MotoCorp - Wikipedia', 'htmlTitle': '<b>Hero MotoCorp</b> - Wikipedia', 'link': 'https://en.wikipedia.org/wiki/Hero_MotoCorp', 'displayLink': 'en.wikipedia.org', 'snippet': 'Hero MotoCorp Limited is an Indian multinational motorcycle and scooter manufacturer headquartered in Delhi. It has a market share of about 30% in the\\xa0...', 'htmlSnippet': '<b>Hero MotoCorp</b> Limited is an <b>Indian</b> multinational motorcycle and scooter manufacturer headquartered in Delhi. It has a market share of about 30% in the&nbsp;...', 'formattedUrl': 'https://en.wikipedia.org/wiki/Hero_MotoCorp', 'htmlFormattedUrl': 'https://en.wikipedia.org/wiki/<b>Hero</b>_<b>MotoCorp</b>', 'pagemap': {'hcard': [{'url_text': 'www.heromotocorp.com', 'bday': '1984-01-19', 'fn': 'Hero MotoCorp Limited', 'nickname': 'Hero Honda', 'label': 'New Delhi, India', 'category': 'Public', 'url': 'www.heromotocorp.com'}], 'metatags': [{'referrer': 'origin', 'og:image': 'https://upload.wikimedia.org/wikipedia/commons/thumb/0/0f/Hero_MotoCorp.svg/1200px-Hero_MotoCorp.svg.png', 'theme-color': '#eaecf0', 'og:image:width': '1200', 'og:type': 'website', 'viewport': 'width=device-width, initial-scale=1.0, user-scalable=yes, minimum-scale=0.25, maximum-scale=5.0', 'og:title': 'Hero MotoCorp - Wikipedia', 'og:image:height': '1351', 'format-detection': 'telephone=no'}]}}\n",
            "{'kind': 'customsearch#result', 'title': 'New Delhi, March 1, 2024 - HERO MOTOCORP CONTINUES THE ...', 'htmlTitle': 'New Delhi, March 1, <b>2024</b> - <b>HERO MOTOCORP</b> CONTINUES THE ...', 'link': 'https://stage.heromotocorp.com/content/dam/hero-aem-website/in/media-center/press-release/Press-Release-Hero-MotoCorp-February-Sales-Mar1-24.pdf', 'displayLink': 'stage.heromotocorp.com', 'snippet': 'Mar 1, 2024 ... Till date, more than 370 Hero 2.0 dealerships are operational. The Company will also take the current number of four Premia outlets to 100 by\\xa0...', 'htmlSnippet': 'Mar 1, 2024 <b>...</b> Till date, more than 370 <b>Hero</b> 2.0 <b>dealerships</b> are operational. The Company will also take the current number of four Premia outlets to 100 by&nbsp;...', 'formattedUrl': 'https://stage.heromotocorp.com/.../hero.../Press-Release-Hero-MotoCorp-Fe...', 'htmlFormattedUrl': 'https://stage.<b>heromotocorp</b>.com/.../<b>hero</b>.../Press-Release-<b>Hero</b>-<b>MotoCorp</b>-Fe...', 'pagemap': {'cse_thumbnail': [{'src': 'https://encrypted-tbn0.gstatic.com/images?q=tbn:ANd9GcR5fe6kmhYtsVCcQ0l5rYxeUpAkaKih9OXGj61oHTn8RQsSsOI4NoblzhH6&s', 'width': '290', 'height': '174'}], 'metatags': [{'moddate': \"D:20240301220155+05'30'\", 'creator': 'Microsoft® Word for Microsoft 365', 'creationdate': \"D:20240301220155+05'30'\", 'author': 'SUKRITI KALRA', 'producer': 'Microsoft® Word for Microsoft 365'}], 'cse_image': [{'src': 'x-raw-image:///4f09a16a8d44761aedc42132babafb2501c9bcde9591c5ca733c9a996bf9f9be'}]}, 'mime': 'application/pdf', 'fileFormat': 'PDF/Adobe Acrobat'}\n",
            "{'kind': 'customsearch#result', 'title': \"Hero MotoCorp - India's Leading Two-Wheeler Manufacturer\", 'htmlTitle': '<b>Hero MotoCorp</b> - <b>India&#39;s</b> Leading Two-Wheeler Manufacturer', 'link': 'https://www.heromotocorp.com/en-in.html', 'displayLink': 'www.heromotocorp.com', 'snippet': \"Explore the world of Hero MotoCorp, India's favorite two-wheeler manufacturer. Explore our range of stylish and powerful two-wheelers.\", 'htmlSnippet': 'Explore the world of <b>Hero MotoCorp</b>, <b>India&#39;s</b> favorite two-wheeler manufacturer. Explore our range of stylish and powerful two-wheelers.', 'formattedUrl': 'https://www.heromotocorp.com/en-in.html', 'htmlFormattedUrl': 'https://www.<b>heromotocorp</b>.com/en-in.html', 'pagemap': {'cse_thumbnail': [{'src': 'https://encrypted-tbn0.gstatic.com/images?q=tbn:ANd9GcSprxXHes-3nQvE5I3Z5BxaZBc_DXyfun4cWtnVAe5Xpo2796K99ITLtVKw&s', 'width': '310', 'height': '163'}], 'metatags': [{'template': 'hero-homepage', 'og:image': 'https://www.heromotocorp.com/content/dam/hero-aem-website/brand/logo/hero-logo-og-image.png', 'og:type': 'website', 'viewport': 'width=device-width, initial-scale=1.0', 'og:title': \"Hero MotoCorp - India's Leading Two-Wheeler Manufacturer\", 'og:url': 'https://www.heromotocorp.com/en-in.html', 'og:description': \"Explore the world of Hero MotoCorp, India's favorite two-wheeler manufacturer. Explore our range of stylish and powerful two-wheelers. Find your dream ride now!\"}], 'cse_image': [{'src': 'https://www.heromotocorp.com/content/dam/hero-aem-website/brand/logo/hero-logo-og-image.png'}]}}\n",
            "{'kind': 'customsearch#result', 'title': 'Hero Splendor remains largest selling 2-wheeler brand in 2024 - ET ...', 'htmlTitle': '<b>Hero</b> Splendor remains largest selling 2-wheeler brand in <b>2024</b> - ET ...', 'link': 'https://www.linkedin.com/posts/kriti-saraiya-014234204_hero-splendor-remains-largest-selling-2-wheeler-activity-7277571284874444800-5GVp', 'displayLink': 'www.linkedin.com', 'snippet': 'Dec 24, 2024 ... Hero Splendor remains the top-selling two-wheeler in India and Honda Activa holds second place. -Hero Splendor: 3.3 million units sold between January and\\xa0...', 'htmlSnippet': 'Dec 24, 2024 <b>...</b> <b>Hero</b> Splendor remains the top-selling two-wheeler in <b>India</b> and <b>Honda</b> Activa holds second place. -<b>Hero</b> Splendor: 3.3 million units sold between January and&nbsp;...', 'formattedUrl': 'https://www.linkedin.com/.../kriti-saraiya-014234204_hero-splendor-remai...', 'htmlFormattedUrl': 'https://www.linkedin.com/.../kriti-saraiya-014234204_<b>hero</b>-splendor-remai...', 'pagemap': {'cse_thumbnail': [{'src': 'https://encrypted-tbn0.gstatic.com/images?q=tbn:ANd9GcR2fbxpa157CLISkxxg8y5T91uz_Ce8JOwwURrtdk2fPzMnkfFquJK3&s', 'width': '96', 'height': '96'}], 'metatags': [{'og:image': 'https://static.licdn.com/scds/common/u/images/email/artdeco/logos/96/linkedin-bug-color.png', 'twitter:title': 'Hero Splendor remains largest selling 2-wheeler brand in 2024 - ET Auto | Kriti Saraiya', 'twitter:card': 'summary_large_image', 'og:type': 'article', 'al:ios:app_name': 'LinkedIn', 'twitter:url': 'https://www.linkedin.com/posts/kriti-saraiya-014234204_hero-splendor-remains-largest-selling-2-wheeler-activity-7277571284874444800-5GVp', 'og:title': 'Hero Splendor remains largest selling 2-wheeler brand in 2024 - ET Auto | Kriti Saraiya', 'al:android:package': 'com.linkedin.android', 'pagekey': 'p_public_post', 'locale': 'en_US', 'al:ios:url': 'https://www.linkedin.com/posts/kriti-saraiya-014234204_hero-splendor-remains-largest-selling-2-wheeler-activity-7277571284874444800-5GVp', 'og:description': 'Hero Splendor remains one of the oldest and most successful two-wheeler models in India, continuing its strong performance even after three decades.\\n\\nHero…', 'al:ios:app_store_id': '288429040', 'twitter:image': 'https://media.licdn.com/dms/image/sync/v2/D4D27AQEouOkOHyl_dQ/articleshare-shrink_800/articleshare-shrink_800/0/1740039801002?e=2147483647&v=beta&t=3Db5kBW-aHD4Qo1kj5ROkhyOz_dEl5JyR4ORZhZNZ5c', 'al:android:url': 'https://www.linkedin.com/posts/kriti-saraiya-014234204_hero-splendor-remains-largest-selling-2-wheeler-activity-7277571284874444800-5GVp', 'lnkd:url': 'https://www.linkedin.com/feed/update/urn:li:activity:7277571284874444800', 'twitter:site': '@linkedin', 'viewport': 'width=device-width, initial-scale=1.0', 'twitter:description': 'Hero Splendor remains one of the oldest and most successful two-wheeler models in India, continuing its strong performance even after three decades.\\n\\nHero…', 'og:url': 'https://www.linkedin.com/posts/kriti-saraiya-014234204_hero-splendor-remains-largest-selling-2-wheeler-activity-7277571284874444800-5GVp', 'al:android:app_name': 'LinkedIn'}], 'cse_image': [{'src': 'https://static.licdn.com/scds/common/u/images/email/artdeco/logos/96/linkedin-bug-color.png'}]}}\n",
            "{'kind': 'customsearch#result', 'title': 'Investor Relations', 'htmlTitle': 'Investor Relations', 'link': 'https://www.heromotocorp.com/en-in/company/investors/investor-relations.html', 'displayLink': 'www.heromotocorp.com', 'snippet': 'OTHERS. Changing Gears India Auto Hero · Corporate Overview- June, 2024 · Hero ... Copyright Hero MotoCorp Ltd. 2025 . All Rights Reserved.', 'htmlSnippet': 'OTHERS. Changing Gears <b>India</b> Auto Hero &middot; Corporate Overview- June, <b>2024</b> &middot; Hero ... Copyright <b>Hero MotoCorp</b> Ltd. 2025 . All Rights Reserved.', 'formattedUrl': 'https://www.heromotocorp.com/en-in/company/.../investor-relations.html', 'htmlFormattedUrl': 'https://www.<b>heromotocorp</b>.com/en-in/company/.../investor-relations.html', 'pagemap': {'cse_thumbnail': [{'src': 'https://encrypted-tbn0.gstatic.com/images?q=tbn:ANd9GcSBU-Qk9LeFLp6xg3wUS6NlWiypSgleLJS-odV5aR6r-JJu3w0ZcYnNjrGf&s', 'width': '310', 'height': '163'}], 'metatags': [{'template': 'company-page-content', 'og:image': 'https://www.heromotocorp.com/content/dam/hero-aem-website/brand/logo/hero-logo-dark.png', 'og:type': 'website', 'viewport': 'width=device-width, initial-scale=1.0', 'og:title': 'Investor Relations', 'og:url': 'https://www.heromotocorp.com/en-in/company/investors/investor-relations.html', 'og:description': \"Explore the world of Hero MotoCorp, India's favorite two-wheeler manufacturer.\"}], 'cse_image': [{'src': 'https://www.heromotocorp.com/content/dam/hero-aem-website/brand/logo/hero-logo-dark.png'}]}}\n"
          ]
        }
      ],
      "source": [
        "from google.colab import userdata\n",
        "CSE = userdata.get('CSE')\n",
        "\n",
        "API_KEY = userdata.get('API_KEY')\n",
        "\n",
        "from googleapiclient.discovery import build\n",
        "cse_id = CSE\n",
        "api_key = API_KEY\n",
        "\n",
        "def google_search(search_term, api_key, cse_id, **kwargs):\n",
        "    service = build(\"customsearch\", \"v1\", developerKey=api_key)\n",
        "    res = service.cse().list(q=search_term, cx=cse_id, **kwargs).execute()\n",
        "    return res['items']\n",
        "\n",
        "\n",
        "results = google_search('Hero MotoCorp dealerships in India as of Decemeber 2024', api_key, cse_id, num=5)\n",
        "for result in results:\n",
        "    print(result)"
      ]
    },
    {
      "cell_type": "code",
      "execution_count": 114,
      "metadata": {
        "colab": {
          "base_uri": "https://localhost:8080/"
        },
        "id": "Br0_M7kgelGi",
        "outputId": "9fa1c125-e4c7-413e-dfb6-f7a6c4ccbc96"
      },
      "outputs": [
        {
          "name": "stdout",
          "output_type": "stream",
          "text": [
            "{\"search_information\":{\"query_displayed\":\"hero motorcorp total number of dealerships in India\",\"total_results\":692000,\"time_taken_displayed\":0.56},\"featured_snippet\":{\"text\":\"Hero MotoCorp has a sales and service network with over 6,000 dealerships and service points across India.\",\"title\":\"Hero MotoCorp - Wikipedia\",\"link\":\"https://en.wikipedia.org/wiki/Hero_MotoCorp\",\"position\":0},\"related_questions\":[{\"question\":\"How many Hero Service Centers are there in India?\",\"position\":1},{\"question\":\"How many Hero companies are there in India?\",\"position\":2},{\"question\":\"How much hero showroom in India?\",\"position\":3},{\"question\":\"How many Hero Premia showrooms are there in India?\",\"position\":4}],\"organic_results\":[{\"position\":5,\"title\":\"Hero showroom in India | 1877 Hero bike dealers\",\"snippet\":\"We bring you a list of 1877 Hero showrooms present in 733 cities in India. The showroom locator tool will help you find the Hero showroom in your city. BikeWale ...\",\"highlighs\":[\"1877 Hero showrooms present in 733 cities in India\"],\"link\":\"https://www.bikewale.com/dealer-showrooms/hero/\",\"displayed_link\":\"https://www.bikewale.com › Hero\",\"sitelinks\":{\"inline\":[{\"title\":\"ይህን ገፅ መተርጎም\",\"link\":\"https://translate.google.com/translate?u=https://www.bikewale.com/dealer-showrooms/hero/&hl=am&sl=en&tl=am&client=search&prev=search\"}]}},{\"position\":6,\"title\":\"Hero MotoCorp - India's Leading Two-Wheeler Manufacturer\",\"snippet\":\"Explore the world of Hero MotoCorp, India's favorite two-wheeler manufacturer. Explore our range of stylish and powerful two-wheelers.\",\"highlighs\":[\"Hero MotoCorp\",\"India's\"],\"link\":\"https://www.heromotocorp.com/en-in.html\",\"displayed_link\":\"https://www.heromotocorp.com › en-in\",\"sitelinks\":{\"inline\":[{\"title\":\"ይህን ገፅ መተርጎም\",\"link\":\"https://translate.google.com/translate?u=https://www.heromotocorp.com/en-in.html&hl=am&sl=en&tl=am&client=search&prev=search\"}]}},{\"position\":7,\"title\":\"Number of Hero dealers in India in 2025\",\"snippet\":\"2 ጃን 2025 — There are 2,612 Hero dealers in India as of January 02, 2025. The state and territory with the most number of Hero locations in India is Uttar ...\",\"highlighs\":[\"There are 2,612 Hero dealers in India\"],\"link\":\"https://www.scrapehero.com/location-reports/Hero-India/\",\"displayed_link\":\"https://www.scrapehero.com › Hero-I...\",\"sitelinks\":{\"inline\":[{\"title\":\"ይህን ገፅ መተርጎም\",\"link\":\"https://translate.google.com/translate?u=https://www.scrapehero.com/location-reports/Hero-India/&hl=am&sl=en&tl=am&client=search&prev=search\"}]}},{\"position\":8,\"title\":\"Hero MotoCorp Locator/Finder | Two Wheeler Dealer\",\"snippet\":\"Find closest Hero MotoCorp dealer. Get accurate dealer information e.g. address, phone no, map & timings.\",\"highlighs\":[\"MotoCorp\"],\"link\":\"https://dealers.heromotocorp.com/\",\"displayed_link\":\"https://dealers.heromotocorp.com\",\"sitelinks\":{\"inline\":[{\"title\":\"ይህን ገፅ መተርጎም\",\"link\":\"https://translate.google.com/translate?u=https://dealers.heromotocorp.com/&hl=am&sl=en&tl=am&client=search&prev=search\"}]}},{\"position\":9,\"title\":\"Hero Bike Showrooms in India - All Dealers of Hero Moto ...\",\"snippet\":\"Hero Moto Corp Bike Showrooms in India - Get the list of Hero Moto Corp bike showrooms in all major cities across India. Also check details of Hero Moto ...\",\"highlighs\":[\"Hero Moto Corp Bike Showrooms in India\"],\"link\":\"https://www.zigwheels.com/bikes/dealers/hero\",\"displayed_link\":\"https://www.zigwheels.com › bikes › he...\",\"sitelinks\":{\"inline\":[{\"title\":\"ይህን ገፅ መተርጎም\",\"link\":\"https://translate.google.com/translate?u=https://www.zigwheels.com/bikes/dealers/hero&hl=am&sl=en&tl=am&client=search&prev=search\"}]}},{\"position\":10,\"title\":\"About Us: Vision, Values, and Innovation\",\"snippet\":\"Hero MotoCorp, the world's No. 1 two-wheeler manufacturer, offers innovative ... Find Dealers · icon. Help & Support · icon. Corporate Offers. hamburger-icon\",\"highlighs\":[\"Hero MotoCorp\",\"Dealers\"],\"link\":\"https://www.heromotocorp.com/en-in/company/about-us/overview.html\",\"displayed_link\":\"https://www.heromotocorp.com › about-us › overview\"},{\"position\":11,\"title\":\"Hero MotoCorp targets 100% green dealerships by 2030\",\"snippet\":\"24 ጁላይ 2023 — Hero MotoCorp, the world's largest two-wheeler maker aims to transition its entire dealer network to green dealerships by 2030.\",\"highlighs\":[\"Hero MotoCorp\",\"dealer\",\"dealerships\"],\"link\":\"https://www.financialexpress.com/business/express-mobility-hero-motocorp-targets-100-green-dealerships-by-2030-3183938/\",\"displayed_link\":\"https://www.financialexpress.com › ex...\",\"sitelinks\":{\"inline\":[{\"title\":\"ይህን ገፅ መተርጎም\",\"link\":\"https://translate.google.com/translate?u=https://www.financialexpress.com/business/express-mobility-hero-motocorp-targets-100-green-dealerships-by-2030-3183938/&hl=am&sl=en&tl=am&client=search&prev=search\"}]}},{\"position\":12,\"title\":\"Hero Dealer Locator - Hero Bike Dealers India\",\"snippet\":\"There are 948 Hero dealerships spread across 33 states and Union Territories in India. Find the location of Hero bike dealers near you from the statewise list.\",\"highlighs\":[\"Hero dealerships\",\"India\",\"Hero\",\"dealers\"],\"link\":\"https://www.prokerala.com/bikes/hero/dealers/\",\"displayed_link\":\"https://www.prokerala.com › ... › Hero\",\"sitelinks\":{\"inline\":[{\"title\":\"ይህን ገፅ መተርጎም\",\"link\":\"https://translate.google.com/translate?u=https://www.prokerala.com/bikes/hero/dealers/&hl=am&sl=en&tl=am&client=search&prev=search\"},{\"title\":\"motorcorp\",\"link\":\"https://www.google.com/search?sca_esv=618eb12c7c97926b&q=hero+%22motorcorp%22+total+number+of+dealerships+in+India&sa=X&ved=2ahUKEwji_76eoK2MAxXtUGcHHWvSNs0Q5t4CegQIMxAB\"}]}},{\"position\":13,\"title\":\"Hero Bikes Price in India\",\"snippet\":\"Hero Bikes offer 23 models in India, Price List starting from Rs 56318. Check new Hero Bikes, on-road price, reviews, images & showrooms for Hero ...\",\"highlighs\":[\"Hero Bikes offer 23 models in India\"],\"link\":\"https://www.bikedekho.com/hero-bikes\",\"displayed_link\":\"https://www.bikedekho.com › hero-bi...\",\"sitelinks\":{\"inline\":[{\"title\":\"ይህን ገፅ መተርጎም\",\"link\":\"https://translate.google.com/translate?u=https://www.bikedekho.com/hero-bikes&hl=am&sl=en&tl=am&client=search&prev=search\"}]}}],\"related_searches\":[{\"position\":14,\"query\":\"Hero MotoCorp\",\"link\":\"https://www.google.com/search?sca_esv=618eb12c7c97926b&q=Hero+MotoCorp&sa=X&ved=2ahUKEwji_76eoK2MAxXtUGcHHWvSNs0Q1QJ6BAhPEAE\"},{\"position\":15,\"query\":\"Hero MotoCorp bikes\",\"link\":\"https://www.google.com/search?sca_esv=618eb12c7c97926b&q=Hero+MotoCorp+bikes&sa=X&ved=2ahUKEwji_76eoK2MAxXtUGcHHWvSNs0Q1QJ6BAhOEAE\"},{\"position\":16,\"query\":\"Hero showroom near me\",\"link\":\"https://www.google.com/search?sca_esv=618eb12c7c97926b&q=Hero+showroom+near+me&sa=X&ved=2ahUKEwji_76eoK2MAxXtUGcHHWvSNs0Q1QJ6BAhNEAE\"},{\"position\":17,\"query\":\"Hero dealership apply\",\"link\":\"https://www.google.com/search?sca_esv=618eb12c7c97926b&q=Hero+dealership+apply&sa=X&ved=2ahUKEwji_76eoK2MAxXtUGcHHWvSNs0Q1QJ6BAhMEAE\"},{\"position\":18,\"query\":\"Hero bike\",\"link\":\"https://www.google.com/search?sca_esv=618eb12c7c97926b&q=Hero+bike&sa=X&ved=2ahUKEwji_76eoK2MAxXtUGcHHWvSNs0Q1QJ6BAhLEAE\"},{\"position\":19,\"query\":\"Hero bike new model\",\"link\":\"https://www.google.com/search?sca_esv=618eb12c7c97926b&q=Hero+bike+new+model&sa=X&ved=2ahUKEwji_76eoK2MAxXtUGcHHWvSNs0Q1QJ6BAhKEAE\"},{\"position\":20,\"query\":\"Hero showroom Near me contact Number\",\"link\":\"https://www.google.com/search?sca_esv=618eb12c7c97926b&q=Hero+showroom+Near+me+contact+Number&sa=X&ved=2ahUKEwji_76eoK2MAxXtUGcHHWvSNs0Q1QJ6BAhJEAE\"},{\"position\":21,\"query\":\"Hero MotoCorp login\",\"link\":\"https://www.google.com/search?sca_esv=618eb12c7c97926b&q=Hero+MotoCorp+login&sa=X&ved=2ahUKEwji_76eoK2MAxXtUGcHHWvSNs0Q1QJ6BAhQEAE\"}],\"pagination\":{\"pages_count\":10,\"current_page\":1,\"next_page_url\":\"http://api.scraperapi.com/?url=https%3A%2F%2Fwww.google.com%2Fsearch%3Fq%3Dhero%2Bmotorcorp%2Btotal%2Bnumber%2Bof%2Bdealerships%2Bin%2BIndia%26sca_esv%3D618eb12c7c97926b%26ei%3DzNXmZ-LpHu2hnesP66Tb6Qw%26start%3D10%26sa%3DN%26sstk%3DAf40H4VklcIv779KsGwt0sHxtb2EBNH94EegDKvZHapNj9bobwa3aOXXbUz58O08qkVnKqUHq5sZBCdw48dhigu-4XKgyR44QNm9xw%26ved%3D2ahUKEwji_76eoK2MAxXtUGcHHWvSNs0Q8tMDegQICRAE&autoparse=true&tld=com\",\"pages\":[{\"page\":2,\"url\":\"http://api.scraperapi.com/?url=https%3A%2F%2Fwww.google.com%2Fsearch%3Fq%3Dhero%2Bmotorcorp%2Btotal%2Bnumber%2Bof%2Bdealerships%2Bin%2BIndia%26sca_esv%3D618eb12c7c97926b%26ei%3DzNXmZ-LpHu2hnesP66Tb6Qw%26start%3D10%26sa%3DN%26sstk%3DAf40H4VklcIv779KsGwt0sHxtb2EBNH94EegDKvZHapNj9bobwa3aOXXbUz58O08qkVnKqUHq5sZBCdw48dhigu-4XKgyR44QNm9xw%26ved%3D2ahUKEwji_76eoK2MAxXtUGcHHWvSNs0Q8tMDegQICRAE&autoparse=true&tld=com\"},{\"page\":3,\"url\":\"http://api.scraperapi.com/?url=https%3A%2F%2Fwww.google.com%2Fsearch%3Fq%3Dhero%2Bmotorcorp%2Btotal%2Bnumber%2Bof%2Bdealerships%2Bin%2BIndia%26sca_esv%3D618eb12c7c97926b%26ei%3DzNXmZ-LpHu2hnesP66Tb6Qw%26start%3D20%26sa%3DN%26sstk%3DAf40H4VklcIv779KsGwt0sHxtb2EBNH94EegDKvZHapNj9bobwa3aOXXbUz58O08qkVnKqUHq5sZBCdw48dhigu-4XKgyR44QNm9xw%26ved%3D2ahUKEwji_76eoK2MAxXtUGcHHWvSNs0Q8tMDegQICRAG&autoparse=true&tld=com\"},{\"page\":4,\"url\":\"http://api.scraperapi.com/?url=https%3A%2F%2Fwww.google.com%2Fsearch%3Fq%3Dhero%2Bmotorcorp%2Btotal%2Bnumber%2Bof%2Bdealerships%2Bin%2BIndia%26sca_esv%3D618eb12c7c97926b%26ei%3DzNXmZ-LpHu2hnesP66Tb6Qw%26start%3D30%26sa%3DN%26sstk%3DAf40H4VklcIv779KsGwt0sHxtb2EBNH94EegDKvZHapNj9bobwa3aOXXbUz58O08qkVnKqUHq5sZBCdw48dhigu-4XKgyR44QNm9xw%26ved%3D2ahUKEwji_76eoK2MAxXtUGcHHWvSNs0Q8tMDegQICRAI&autoparse=true&tld=com\"},{\"page\":5,\"url\":\"http://api.scraperapi.com/?url=https%3A%2F%2Fwww.google.com%2Fsearch%3Fq%3Dhero%2Bmotorcorp%2Btotal%2Bnumber%2Bof%2Bdealerships%2Bin%2BIndia%26sca_esv%3D618eb12c7c97926b%26ei%3DzNXmZ-LpHu2hnesP66Tb6Qw%26start%3D40%26sa%3DN%26sstk%3DAf40H4VklcIv779KsGwt0sHxtb2EBNH94EegDKvZHapNj9bobwa3aOXXbUz58O08qkVnKqUHq5sZBCdw48dhigu-4XKgyR44QNm9xw%26ved%3D2ahUKEwji_76eoK2MAxXtUGcHHWvSNs0Q8tMDegQICRAK&autoparse=true&tld=com\"},{\"page\":6,\"url\":\"http://api.scraperapi.com/?url=https%3A%2F%2Fwww.google.com%2Fsearch%3Fq%3Dhero%2Bmotorcorp%2Btotal%2Bnumber%2Bof%2Bdealerships%2Bin%2BIndia%26sca_esv%3D618eb12c7c97926b%26ei%3DzNXmZ-LpHu2hnesP66Tb6Qw%26start%3D50%26sa%3DN%26sstk%3DAf40H4VklcIv779KsGwt0sHxtb2EBNH94EegDKvZHapNj9bobwa3aOXXbUz58O08qkVnKqUHq5sZBCdw48dhigu-4XKgyR44QNm9xw%26ved%3D2ahUKEwji_76eoK2MAxXtUGcHHWvSNs0Q8tMDegQICRAM&autoparse=true&tld=com\"},{\"page\":7,\"url\":\"http://api.scraperapi.com/?url=https%3A%2F%2Fwww.google.com%2Fsearch%3Fq%3Dhero%2Bmotorcorp%2Btotal%2Bnumber%2Bof%2Bdealerships%2Bin%2BIndia%26sca_esv%3D618eb12c7c97926b%26ei%3DzNXmZ-LpHu2hnesP66Tb6Qw%26start%3D60%26sa%3DN%26sstk%3DAf40H4VklcIv779KsGwt0sHxtb2EBNH94EegDKvZHapNj9bobwa3aOXXbUz58O08qkVnKqUHq5sZBCdw48dhigu-4XKgyR44QNm9xw%26ved%3D2ahUKEwji_76eoK2MAxXtUGcHHWvSNs0Q8tMDegQICRAO&autoparse=true&tld=com\"},{\"page\":8,\"url\":\"http://api.scraperapi.com/?url=https%3A%2F%2Fwww.google.com%2Fsearch%3Fq%3Dhero%2Bmotorcorp%2Btotal%2Bnumber%2Bof%2Bdealerships%2Bin%2BIndia%26sca_esv%3D618eb12c7c97926b%26ei%3DzNXmZ-LpHu2hnesP66Tb6Qw%26start%3D70%26sa%3DN%26sstk%3DAf40H4VklcIv779KsGwt0sHxtb2EBNH94EegDKvZHapNj9bobwa3aOXXbUz58O08qkVnKqUHq5sZBCdw48dhigu-4XKgyR44QNm9xw%26ved%3D2ahUKEwji_76eoK2MAxXtUGcHHWvSNs0Q8tMDegQICRAQ&autoparse=true&tld=com\"},{\"page\":9,\"url\":\"http://api.scraperapi.com/?url=https%3A%2F%2Fwww.google.com%2Fsearch%3Fq%3Dhero%2Bmotorcorp%2Btotal%2Bnumber%2Bof%2Bdealerships%2Bin%2BIndia%26sca_esv%3D618eb12c7c97926b%26ei%3DzNXmZ-LpHu2hnesP66Tb6Qw%26start%3D80%26sa%3DN%26sstk%3DAf40H4VklcIv779KsGwt0sHxtb2EBNH94EegDKvZHapNj9bobwa3aOXXbUz58O08qkVnKqUHq5sZBCdw48dhigu-4XKgyR44QNm9xw%26ved%3D2ahUKEwji_76eoK2MAxXtUGcHHWvSNs0Q8tMDegQICRAS&autoparse=true&tld=com\"},{\"page\":10,\"url\":\"http://api.scraperapi.com/?url=https%3A%2F%2Fwww.google.com%2Fsearch%3Fq%3Dhero%2Bmotorcorp%2Btotal%2Bnumber%2Bof%2Bdealerships%2Bin%2BIndia%26sca_esv%3D618eb12c7c97926b%26ei%3DzNXmZ-LpHu2hnesP66Tb6Qw%26start%3D90%26sa%3DN%26sstk%3DAf40H4VklcIv779KsGwt0sHxtb2EBNH94EegDKvZHapNj9bobwa3aOXXbUz58O08qkVnKqUHq5sZBCdw48dhigu-4XKgyR44QNm9xw%26ved%3D2ahUKEwji_76eoK2MAxXtUGcHHWvSNs0Q8tMDegQICRAU&autoparse=true&tld=com\"}]}}\n"
          ]
        }
      ],
      "source": [
        "import requests\n",
        "\n",
        "payload = { 'api_key': '6b33e2f0dc361b83ab1fa379af266083', 'query': 'hero motorcorp total number of dealerships in India' }\n",
        "r = requests.get('https://api.scraperapi.com/structured/google/search', params=payload)\n",
        "print(r.text)\n"
      ]
    },
    {
      "cell_type": "code",
      "execution_count": 115,
      "metadata": {
        "colab": {
          "base_uri": "https://localhost:8080/"
        },
        "id": "nlmVybkIgvbk",
        "outputId": "95aa1423-c71b-47c5-da46-21373bfb097d"
      },
      "outputs": [
        {
          "data": {
            "text/plain": [
              "<Response [200]>"
            ]
          },
          "execution_count": 115,
          "metadata": {},
          "output_type": "execute_result"
        }
      ],
      "source": [
        "r"
      ]
    },
    {
      "cell_type": "code",
      "execution_count": 116,
      "metadata": {
        "colab": {
          "base_uri": "https://localhost:8080/",
          "height": 36
        },
        "id": "AehnIQQ_h16i",
        "outputId": "9fe63e40-5f40-4777-830e-9418b3f79d0f"
      },
      "outputs": [
        {
          "data": {
            "application/vnd.google.colaboratory.intrinsic+json": {
              "type": "string"
            },
            "text/plain": [
              "'Hero MotoCorp has a sales and service network with over 6,000 dealerships and service points across India.'"
            ]
          },
          "execution_count": 116,
          "metadata": {},
          "output_type": "execute_result"
        }
      ],
      "source": [
        "data = r.json()\n",
        "data[\"featured_snippet\"][\"text\"]"
      ]
    },
    {
      "cell_type": "markdown",
      "metadata": {
        "id": "QPNLXSb7sXfi"
      },
      "source": [
        "If above method throws key error, using serpAPI"
      ]
    },
    {
      "cell_type": "code",
      "execution_count": 117,
      "metadata": {
        "colab": {
          "base_uri": "https://localhost:8080/"
        },
        "id": "kqePj9atmB-_",
        "outputId": "7631344f-b574-4041-dd35-aa28bdc4f451"
      },
      "outputs": [
        {
          "name": "stdout",
          "output_type": "stream",
          "text": [
            "Collecting serpapi\n",
            "  Downloading serpapi-0.1.5-py2.py3-none-any.whl.metadata (10 kB)\n",
            "Requirement already satisfied: requests in /usr/local/lib/python3.11/dist-packages (from serpapi) (2.32.3)\n",
            "Requirement already satisfied: charset-normalizer<4,>=2 in /usr/local/lib/python3.11/dist-packages (from requests->serpapi) (3.4.1)\n",
            "Requirement already satisfied: idna<4,>=2.5 in /usr/local/lib/python3.11/dist-packages (from requests->serpapi) (3.10)\n",
            "Requirement already satisfied: urllib3<3,>=1.21.1 in /usr/local/lib/python3.11/dist-packages (from requests->serpapi) (2.3.0)\n",
            "Requirement already satisfied: certifi>=2017.4.17 in /usr/local/lib/python3.11/dist-packages (from requests->serpapi) (2025.1.31)\n",
            "Downloading serpapi-0.1.5-py2.py3-none-any.whl (10 kB)\n",
            "Installing collected packages: serpapi\n",
            "Successfully installed serpapi-0.1.5\n"
          ]
        }
      ],
      "source": [
        "!pip install serpapi"
      ]
    },
    {
      "cell_type": "code",
      "execution_count": 118,
      "metadata": {
        "colab": {
          "base_uri": "https://localhost:8080/"
        },
        "id": "AdxbU3I-tcDS",
        "outputId": "937d2d7b-882c-4525-b38f-0d1bb0eb8fa4"
      },
      "outputs": [
        {
          "name": "stdout",
          "output_type": "stream",
          "text": [
            "Collecting google-search-results\n",
            "  Downloading google_search_results-2.4.2.tar.gz (18 kB)\n",
            "  Preparing metadata (setup.py) ... \u001b[?25l\u001b[?25hdone\n",
            "Requirement already satisfied: requests in /usr/local/lib/python3.11/dist-packages (from google-search-results) (2.32.3)\n",
            "Requirement already satisfied: charset-normalizer<4,>=2 in /usr/local/lib/python3.11/dist-packages (from requests->google-search-results) (3.4.1)\n",
            "Requirement already satisfied: idna<4,>=2.5 in /usr/local/lib/python3.11/dist-packages (from requests->google-search-results) (3.10)\n",
            "Requirement already satisfied: urllib3<3,>=1.21.1 in /usr/local/lib/python3.11/dist-packages (from requests->google-search-results) (2.3.0)\n",
            "Requirement already satisfied: certifi>=2017.4.17 in /usr/local/lib/python3.11/dist-packages (from requests->google-search-results) (2025.1.31)\n",
            "Building wheels for collected packages: google-search-results\n",
            "  Building wheel for google-search-results (setup.py) ... \u001b[?25l\u001b[?25hdone\n",
            "  Created wheel for google-search-results: filename=google_search_results-2.4.2-py3-none-any.whl size=32009 sha256=9ac34119cc23e8f1485a4546b47069e0fa0c1dc340299860776bbe8b58a47870\n",
            "  Stored in directory: /root/.cache/pip/wheels/6e/42/3e/aeb691b02cb7175ec70e2da04b5658d4739d2b41e5f73cd06f\n",
            "Successfully built google-search-results\n",
            "Installing collected packages: google-search-results\n",
            "Successfully installed google-search-results-2.4.2\n"
          ]
        }
      ],
      "source": [
        "!pip install google-search-results"
      ]
    },
    {
      "cell_type": "code",
      "execution_count": 122,
      "metadata": {
        "colab": {
          "base_uri": "https://localhost:8080/"
        },
        "id": "1gka3Ye606Jt",
        "outputId": "32d3395f-f28a-4ba0-e5fd-b53d7a454676"
      },
      "outputs": [
        {
          "name": "stdout",
          "output_type": "stream",
          "text": [
            "{'search_metadata': {'id': '67e6e021c132efbbdb3b4445', 'status': 'Success', 'json_endpoint': 'https://serpapi.com/searches/94d5629fcd6e3f5d/67e6e021c132efbbdb3b4445.json', 'created_at': '2025-03-28 17:45:05 UTC', 'processed_at': '2025-03-28 17:45:05 UTC', 'google_url': 'https://www.google.com/search?q=hero+motorcorp+total+number+of+dealerships+in+India&oq=hero+motorcorp+total+number+of+dealerships+in+India&uule=w+CAIQICIFSW5kaWE&sourceid=chrome&ie=UTF-8', 'raw_html_file': 'https://serpapi.com/searches/94d5629fcd6e3f5d/67e6e021c132efbbdb3b4445.html', 'total_time_taken': 8.19}, 'search_parameters': {'engine': 'google', 'q': 'hero motorcorp total number of dealerships in India', 'location_requested': 'India', 'location_used': 'India', 'google_domain': 'google.com', 'device': 'desktop'}, 'search_information': {'query_displayed': 'hero motorcorp total number of dealerships in India', 'total_results': 384000, 'time_taken_displayed': 0.36, 'organic_results_state': 'Some results for exact spelling but showing fixed spelling', 'spelling_fix': 'hero motocorp total number of dealerships in India', 'showing_results_for': 'hero motocorp total number of dealerships in India'}, 'knowledge_graph': {'entity_type': 'webanswers'}, 'related_questions': [{'question': 'How much Hero showroom in India?', 'snippet': 'We bring you a list of 1876 Hero showrooms present in 733 cities in India. The showroom locator tool will help you find the Hero showroom in your city. BikeWale works with more than 200+ bike showrooms in India to provide you a hassle-free bike buying experience.', 'title': 'Hero showroom in India | 1877 Hero bike dealers - BikeWale', 'link': 'https://www.bikewale.com/dealer-showrooms/hero/#:~:text=We%20bring%20you%20a%20list,hassle%2Dfree%20bike%20buying%20experience.', 'displayed_link': 'https://www.bikewale.com › Hero', 'source_logo': 'https://serpapi.com/searches/67e6e021c132efbbdb3b4445/images/5892be3ce49e4a9dcccf6fed7fea3c4976aefb5253cec6860aa8de6d8cdba771.png', 'next_page_token': 'eyJvbnMiOiIxMDA0MSIsImZjIjoiRXFFQkNtSkJRUzFMVkdobVJXZFpXR1JwVkRodlIxWmZNMVE1YlVaUmVFdzRkVTk1YzFoTmJXTmphR3RuY25sSk5GQldXRlpxYVcwdE1FWm5iVVZzT0hWZk9EUnhhazlXVFRkMmRHUkZiMnRMZW1sS2RuRkllV3RaVFVjd2FYVktVMGhTUmxOa1FSSVhTMlZFYlZvMFlXeEJaRXhwTVdVNFVEQmpNak54VVVVYUlrRkRSRmhNTkcxVFNGaENUVk5QYVdKa2JuZzROazlHTFRsUGJtbDJVSEV4U1VFIiwiZmN2IjoiMyIsImVpIjoiS2VEbVo0YWxBZExpMWU4UDBjMjNxUUUiLCJxYyI6IkNqSm9aWEp2SUcxdmRHOWpiM0p3SUhSdmRHRnNJRzUxYldKbGNpQnZaaUJrWldGc1pYSnphR2x3Y3lCcGJpQnBibVJwWVJBQWZZc0NCajgiLCJxdWVzdGlvbiI6IkhvdyBtdWNoIEhlcm8gc2hvd3Jvb20gaW4gSW5kaWE/IiwibGsiOiJjNU9TejhndlY4Z3RUYzVReUVndHlsY29CbktMOHZOekZUTHpnQ2dsTXhFQSIsImJzIjoiYzNYUHNRckNNQkFHWUZ3ek9Vb1hyd3JpS1BVQk9yaFUwTG11YVQyOTBLWW5TYVQ2YUU2LWpPQnIyRVlMUlhIT2RfX19SeVFDRXE1Qm4zT0NCQTJESmE0TnN3WlZ3YnJhS3htUEhuRVVCbVBxR0gwejFUS3hFNHVVVlBPdUxEaENLS1U1b25VUVFVMklKUnJJV1o5a2RlMGwzOVp0c3JfXzc4VkdUUHpHOXRadnpGU0JGaXlYLTE3Vzh4Sk5nNUE2U0xfd3ZUTVR5NVNrNjJacWFRcDB6WC1rUWVERHUyRExqbGRzVHIzNHU0dm13ZXhiLXhiZDZQeWpmY2R3OEFJIiwiaWQiOiJmY19LZURtWjRhbEFkTGkxZThQMGMyM3FRRV8xIn0=', 'serpapi_link': 'https://serpapi.com/search.json?device=desktop&engine=google_related_questions&google_domain=google.com&next_page_token=eyJvbnMiOiIxMDA0MSIsImZjIjoiRXFFQkNtSkJRUzFMVkdobVJXZFpXR1JwVkRodlIxWmZNMVE1YlVaUmVFdzRkVTk1YzFoTmJXTmphR3RuY25sSk5GQldXRlpxYVcwdE1FWm5iVVZzT0hWZk9EUnhhazlXVFRkMmRHUkZiMnRMZW1sS2RuRkllV3RaVFVjd2FYVktVMGhTUmxOa1FSSVhTMlZFYlZvMFlXeEJaRXhwTVdVNFVEQmpNak54VVVVYUlrRkRSRmhNTkcxVFNGaENUVk5QYVdKa2JuZzROazlHTFRsUGJtbDJVSEV4U1VFIiwiZmN2IjoiMyIsImVpIjoiS2VEbVo0YWxBZExpMWU4UDBjMjNxUUUiLCJxYyI6IkNqSm9aWEp2SUcxdmRHOWpiM0p3SUhSdmRHRnNJRzUxYldKbGNpQnZaaUJrWldGc1pYSnphR2x3Y3lCcGJpQnBibVJwWVJBQWZZc0NCajgiLCJxdWVzdGlvbiI6IkhvdyBtdWNoIEhlcm8gc2hvd3Jvb20gaW4gSW5kaWE%2FIiwibGsiOiJjNU9TejhndlY4Z3RUYzVReUVndHlsY29CbktMOHZOekZUTHpnQ2dsTXhFQSIsImJzIjoiYzNYUHNRckNNQkFHWUZ3ek9Vb1hyd3JpS1BVQk9yaFUwTG11YVQyOTBLWW5TYVQ2YUU2LWpPQnIyRVlMUlhIT2RfX19SeVFDRXE1Qm4zT0NCQTJESmE0TnN3WlZ3YnJhS3htUEhuRVVCbVBxR0gwejFUS3hFNHVVVlBPdUxEaENLS1U1b25VUVFVMklKUnJJV1o5a2RlMGwzOVp0c3JfXzc4VkdUUHpHOXRadnpGU0JGaXlYLTE3Vzh4Sk5nNUE2U0xfd3ZUTVR5NVNrNjJacWFRcDB6WC1rUWVERHUyRExqbGRzVHIzNHU0dm13ZXhiLXhiZDZQeWpmY2R3OEFJIiwiaWQiOiJmY19LZURtWjRhbEFkTGkxZThQMGMyM3FRRV8xIn0%3D'}, {'question': 'Which is the largest 2 wheeler company in India?', 'snippet': 'Hero MotoCorp is the biggest manufacturer of two wheelers in the world given the number of units made per year.', 'title': 'Hero MotoCorp', 'link': 'https://www.bankbazaar.com/two-wheeler-insurance/guide/top-two-wheeler-companies-in-india.html#:~:text=Hero%20MotoCorp%20is%20the%20biggest,of%20units%20made%20per%20year.', 'displayed_link': 'https://www.bankbazaar.com › guide › top-two-wheeler-...', 'source_logo': 'https://serpapi.com/searches/67e6e021c132efbbdb3b4445/images/5892be3ce49e4a9dcccf6fed7fea3c4927817c4f4bd787c3c2527a38691740e2.png', 'next_page_token': 'eyJvbnMiOiIxMDA0MSIsImZjIjoiRXFFQkNtSkJRUzFMVkdobVJXZFpXR1JwVkRodlIxWmZNMVE1YlVaUmVFdzRkVTk1YzFoTmJXTmphR3RuY25sSk5GQldXRlpxYVcwdE1FWm5iVVZzT0hWZk9EUnhhazlXVFRkMmRHUkZiMnRMZW1sS2RuRkllV3RaVFVjd2FYVktVMGhTUmxOa1FSSVhTMlZFYlZvMFlXeEJaRXhwTVdVNFVEQmpNak54VVVVYUlrRkRSRmhNTkcxVFNGaENUVk5QYVdKa2JuZzROazlHTFRsUGJtbDJVSEV4U1VFIiwiZmN2IjoiMyIsImVpIjoiS2VEbVo0YWxBZExpMWU4UDBjMjNxUUUiLCJxYyI6IkNqSm9aWEp2SUcxdmRHOWpiM0p3SUhSdmRHRnNJRzUxYldKbGNpQnZaaUJrWldGc1pYSnphR2x3Y3lCcGJpQnBibVJwWVJBQWZZc0NCajgiLCJxdWVzdGlvbiI6IldoaWNoIGlzIHRoZSBsYXJnZXN0IDIgd2hlZWxlciBjb21wYW55IGluIEluZGlhPyIsImxrIjoiR2g5cGJtUnBZU0JzWVhKblpYTjBJRElnZDJobFpXeGxjaUJqYjIxd1lXNTUiLCJicyI6ImMzWFBzUXJDTUJBR1lGd3pPVW9YcndyaUtQVUJPcmhVMExtdWFUMjkwS1luU2FUNmFFNi1qT0JyMkVZTFJYSE9kX19fUnlRQ0VxNUJuM09DQkEyREphNE5zd1pWd2JyYUt4bVBIbkVVQm1QcUdIMHoxVEt4RTR1VVZQT3VMRGhDS0tVNW9uVVFRVTJJSlJySVdaOWtkZTBsMzladHNyX183OFZHVFB6Rzl0WnZ6RlNCRml5WC0xN1c4eEpOZzVBNlNMX3d2VE1UeTVTazYyWnFhUXAwelgta1FlRER1MkRMamxkc1RyMzR1NHZtd2V4Yi14YmQ2UHlqZmNkdzhBSSIsImlkIjoiZmNfS2VEbVo0YWxBZExpMWU4UDBjMjNxUUVfMSJ9', 'serpapi_link': 'https://serpapi.com/search.json?device=desktop&engine=google_related_questions&google_domain=google.com&next_page_token=eyJvbnMiOiIxMDA0MSIsImZjIjoiRXFFQkNtSkJRUzFMVkdobVJXZFpXR1JwVkRodlIxWmZNMVE1YlVaUmVFdzRkVTk1YzFoTmJXTmphR3RuY25sSk5GQldXRlpxYVcwdE1FWm5iVVZzT0hWZk9EUnhhazlXVFRkMmRHUkZiMnRMZW1sS2RuRkllV3RaVFVjd2FYVktVMGhTUmxOa1FSSVhTMlZFYlZvMFlXeEJaRXhwTVdVNFVEQmpNak54VVVVYUlrRkRSRmhNTkcxVFNGaENUVk5QYVdKa2JuZzROazlHTFRsUGJtbDJVSEV4U1VFIiwiZmN2IjoiMyIsImVpIjoiS2VEbVo0YWxBZExpMWU4UDBjMjNxUUUiLCJxYyI6IkNqSm9aWEp2SUcxdmRHOWpiM0p3SUhSdmRHRnNJRzUxYldKbGNpQnZaaUJrWldGc1pYSnphR2x3Y3lCcGJpQnBibVJwWVJBQWZZc0NCajgiLCJxdWVzdGlvbiI6IldoaWNoIGlzIHRoZSBsYXJnZXN0IDIgd2hlZWxlciBjb21wYW55IGluIEluZGlhPyIsImxrIjoiR2g5cGJtUnBZU0JzWVhKblpYTjBJRElnZDJobFpXeGxjaUJqYjIxd1lXNTUiLCJicyI6ImMzWFBzUXJDTUJBR1lGd3pPVW9YcndyaUtQVUJPcmhVMExtdWFUMjkwS1luU2FUNmFFNi1qT0JyMkVZTFJYSE9kX19fUnlRQ0VxNUJuM09DQkEyREphNE5zd1pWd2JyYUt4bVBIbkVVQm1QcUdIMHoxVEt4RTR1VVZQT3VMRGhDS0tVNW9uVVFRVTJJSlJySVdaOWtkZTBsMzladHNyX183OFZHVFB6Rzl0WnZ6RlNCRml5WC0xN1c4eEpOZzVBNlNMX3d2VE1UeTVTazYyWnFhUXAwelgta1FlRER1MkRMamxkc1RyMzR1NHZtd2V4Yi14YmQ2UHlqZmNkdzhBSSIsImlkIjoiZmNfS2VEbVo0YWxBZExpMWU4UDBjMjNxUUVfMSJ9'}, {'question': 'How many Hero bikes sold in India?', 'snippet': 'CEO Niranjan Gupta highlighted significant growth across various segments with optimism for 2025. Two-wheeler major Hero MotoCorp on Thursday reported a 7.5 per cent rise in total sales at 59,11,065 units on 2024 as compared to 54,99,524 units in 2023.', 'title': 'Hero MotoCorp posts 7.5 pc rise in sales at 59,11065 units in 2024', 'date': 'Jan 2, 2025', 'link': 'https://m.economictimes.com/industry/auto/two-wheelers-three-wheelers/hero-motocorp-posts-7-5-pc-rise-in-sales-at-5911065-units-in-2024/articleshow/116892046.cms#:~:text=CEO%20Niranjan%20Gupta%20highlighted%20significant,segments%20with%20optimism%20for%202025.&text=Two%2Dwheeler%20major%20Hero%20MotoCorp,54%2C99%2C524%20units%20in%202023.', 'displayed_link': 'https://m.economictimes.com › auto › articleshow', 'source_logo': 'https://serpapi.com/searches/67e6e021c132efbbdb3b4445/images/5892be3ce49e4a9dcccf6fed7fea3c49c712d8bf3e55d30288726b07e1d44aaf.png', 'next_page_token': 'eyJvbnMiOiIxMDA0MSIsImZjIjoiRXFFQkNtSkJRUzFMVkdobVJXZFpXR1JwVkRodlIxWmZNMVE1YlVaUmVFdzRkVTk1YzFoTmJXTmphR3RuY25sSk5GQldXRlpxYVcwdE1FWm5iVVZzT0hWZk9EUnhhazlXVFRkMmRHUkZiMnRMZW1sS2RuRkllV3RaVFVjd2FYVktVMGhTUmxOa1FSSVhTMlZFYlZvMFlXeEJaRXhwTVdVNFVEQmpNak54VVVVYUlrRkRSRmhNTkcxVFNGaENUVk5QYVdKa2JuZzROazlHTFRsUGJtbDJVSEV4U1VFIiwiZmN2IjoiMyIsImVpIjoiS2VEbVo0YWxBZExpMWU4UDBjMjNxUUUiLCJxYyI6IkNqSm9aWEp2SUcxdmRHOWpiM0p3SUhSdmRHRnNJRzUxYldKbGNpQnZaaUJrWldGc1pYSnphR2x3Y3lCcGJpQnBibVJwWVJBQWZZc0NCajgiLCJxdWVzdGlvbiI6IkhvdyBtYW55IEhlcm8gYmlrZXMgc29sZCBpbiBJbmRpYT8iLCJsayI6IkdpRm9iM2NnYldGdWVTQm9aWEp2SUdKcGEyVnpJSE52YkdRZ2FXNGdhVzVrYVdFIiwiYnMiOiJjM1hQc1FyQ01CQUdZRnd6T1VvWHJ3cmlLUFVCT3JoVTBMbXVhVDI5MEtZblNhVDZhRTYtak9CcjJFWUxSWEhPZF9fX1J5UUNFcTVCbjNPQ0JBMkRKYTROc3daVndicmFLeG1QSG5FVUJtUHFHSDB6MVRLeEU0dVVWUE91TERoQ0tLVTVvblVRUVUySUpScklXWjlrZGUwbDM5WnRzcl9fNzhWR1RQekc5dFp2ekZTQkZpeVgtMTdXOHhKTmc1QTZTTF93dlRNVHk1U2s2MlpxYVFwMHpYLWtRZUREdTJETGpsZHNUcjM0dTR2bXdleGIteGJkNlB5amZjZHc4QUkiLCJpZCI6ImZjX0tlRG1aNGFsQWRMaTFlOFAwYzIzcVFFXzEifQ==', 'serpapi_link': 'https://serpapi.com/search.json?device=desktop&engine=google_related_questions&google_domain=google.com&next_page_token=eyJvbnMiOiIxMDA0MSIsImZjIjoiRXFFQkNtSkJRUzFMVkdobVJXZFpXR1JwVkRodlIxWmZNMVE1YlVaUmVFdzRkVTk1YzFoTmJXTmphR3RuY25sSk5GQldXRlpxYVcwdE1FWm5iVVZzT0hWZk9EUnhhazlXVFRkMmRHUkZiMnRMZW1sS2RuRkllV3RaVFVjd2FYVktVMGhTUmxOa1FSSVhTMlZFYlZvMFlXeEJaRXhwTVdVNFVEQmpNak54VVVVYUlrRkRSRmhNTkcxVFNGaENUVk5QYVdKa2JuZzROazlHTFRsUGJtbDJVSEV4U1VFIiwiZmN2IjoiMyIsImVpIjoiS2VEbVo0YWxBZExpMWU4UDBjMjNxUUUiLCJxYyI6IkNqSm9aWEp2SUcxdmRHOWpiM0p3SUhSdmRHRnNJRzUxYldKbGNpQnZaaUJrWldGc1pYSnphR2x3Y3lCcGJpQnBibVJwWVJBQWZZc0NCajgiLCJxdWVzdGlvbiI6IkhvdyBtYW55IEhlcm8gYmlrZXMgc29sZCBpbiBJbmRpYT8iLCJsayI6IkdpRm9iM2NnYldGdWVTQm9aWEp2SUdKcGEyVnpJSE52YkdRZ2FXNGdhVzVrYVdFIiwiYnMiOiJjM1hQc1FyQ01CQUdZRnd6T1VvWHJ3cmlLUFVCT3JoVTBMbXVhVDI5MEtZblNhVDZhRTYtak9CcjJFWUxSWEhPZF9fX1J5UUNFcTVCbjNPQ0JBMkRKYTROc3daVndicmFLeG1QSG5FVUJtUHFHSDB6MVRLeEU0dVVWUE91TERoQ0tLVTVvblVRUVUySUpScklXWjlrZGUwbDM5WnRzcl9fNzhWR1RQekc5dFp2ekZTQkZpeVgtMTdXOHhKTmc1QTZTTF93dlRNVHk1U2s2MlpxYVFwMHpYLWtRZUREdTJETGpsZHNUcjM0dTR2bXdleGIteGJkNlB5amZjZHc4QUkiLCJpZCI6ImZjX0tlRG1aNGFsQWRMaTFlOFAwYzIzcVFFXzEifQ%3D%3D'}, {'question': 'What is the market share of Hero MotoCorp in India?', 'snippet': \"Hero's market share in the two-wheeler segment dropped to 28 per cent in the second quarter of FY2024-25 and slightly recovered to 29 per cent in the third quarter. However, for the entire year, the share fell from 31.33 per cent in 2023 to 29.02 per cent in 2024.\", 'title': 'Hero MotoCorp faces challenges as market share declines, leaders quit', 'date': 'Feb 14, 2025', 'link': \"https://www.business-standard.com/companies/news/hero-motocorp-market-share-decline-leadership-exits-ev-challenges-2025-125021400732_1.html#:~:text=Hero's%20market%20share%20in%20the,29.02%20per%20cent%20in%202024.\", 'displayed_link': 'https://www.business-standard.com › companies › news', 'source_logo': 'https://serpapi.com/searches/67e6e021c132efbbdb3b4445/images/5892be3ce49e4a9dcccf6fed7fea3c49a133e9d07a404b62ce8c8d1404275885.png', 'next_page_token': 'eyJvbnMiOiIxMDA0MSIsImZjIjoiRXFFQkNtSkJRUzFMVkdobVJXZFpXR1JwVkRodlIxWmZNMVE1YlVaUmVFdzRkVTk1YzFoTmJXTmphR3RuY25sSk5GQldXRlpxYVcwdE1FWm5iVVZzT0hWZk9EUnhhazlXVFRkMmRHUkZiMnRMZW1sS2RuRkllV3RaVFVjd2FYVktVMGhTUmxOa1FSSVhTMlZFYlZvMFlXeEJaRXhwTVdVNFVEQmpNak54VVVVYUlrRkRSRmhNTkcxVFNGaENUVk5QYVdKa2JuZzROazlHTFRsUGJtbDJVSEV4U1VFIiwiZmN2IjoiMyIsImVpIjoiS2VEbVo0YWxBZExpMWU4UDBjMjNxUUUiLCJxYyI6IkNqSm9aWEp2SUcxdmRHOWpiM0p3SUhSdmRHRnNJRzUxYldKbGNpQnZaaUJrWldGc1pYSnphR2x3Y3lCcGJpQnBibVJwWVJBQWZZc0NCajgiLCJxdWVzdGlvbiI6IldoYXQgaXMgdGhlIG1hcmtldCBzaGFyZSBvZiBIZXJvIE1vdG9Db3JwIGluIEluZGlhPyIsImxrIjoiR2ladFlYSnJaWFFnYzJoaGNtVWdiMllnYUdWeWJ5QnRiM1J2WTI5eWNDQnBiaUJwYm1ScFlRIiwiYnMiOiJjM1hQc1FyQ01CQUdZRnd6T1VvWHJ3cmlLUFVCT3JoVTBMbXVhVDI5MEtZblNhVDZhRTYtak9CcjJFWUxSWEhPZF9fX1J5UUNFcTVCbjNPQ0JBMkRKYTROc3daVndicmFLeG1QSG5FVUJtUHFHSDB6MVRLeEU0dVVWUE91TERoQ0tLVTVvblVRUVUySUpScklXWjlrZGUwbDM5WnRzcl9fNzhWR1RQekc5dFp2ekZTQkZpeVgtMTdXOHhKTmc1QTZTTF93dlRNVHk1U2s2MlpxYVFwMHpYLWtRZUREdTJETGpsZHNUcjM0dTR2bXdleGIteGJkNlB5amZjZHc4QUkiLCJpZCI6ImZjX0tlRG1aNGFsQWRMaTFlOFAwYzIzcVFFXzEifQ==', 'serpapi_link': 'https://serpapi.com/search.json?device=desktop&engine=google_related_questions&google_domain=google.com&next_page_token=eyJvbnMiOiIxMDA0MSIsImZjIjoiRXFFQkNtSkJRUzFMVkdobVJXZFpXR1JwVkRodlIxWmZNMVE1YlVaUmVFdzRkVTk1YzFoTmJXTmphR3RuY25sSk5GQldXRlpxYVcwdE1FWm5iVVZzT0hWZk9EUnhhazlXVFRkMmRHUkZiMnRMZW1sS2RuRkllV3RaVFVjd2FYVktVMGhTUmxOa1FSSVhTMlZFYlZvMFlXeEJaRXhwTVdVNFVEQmpNak54VVVVYUlrRkRSRmhNTkcxVFNGaENUVk5QYVdKa2JuZzROazlHTFRsUGJtbDJVSEV4U1VFIiwiZmN2IjoiMyIsImVpIjoiS2VEbVo0YWxBZExpMWU4UDBjMjNxUUUiLCJxYyI6IkNqSm9aWEp2SUcxdmRHOWpiM0p3SUhSdmRHRnNJRzUxYldKbGNpQnZaaUJrWldGc1pYSnphR2x3Y3lCcGJpQnBibVJwWVJBQWZZc0NCajgiLCJxdWVzdGlvbiI6IldoYXQgaXMgdGhlIG1hcmtldCBzaGFyZSBvZiBIZXJvIE1vdG9Db3JwIGluIEluZGlhPyIsImxrIjoiR2ladFlYSnJaWFFnYzJoaGNtVWdiMllnYUdWeWJ5QnRiM1J2WTI5eWNDQnBiaUJwYm1ScFlRIiwiYnMiOiJjM1hQc1FyQ01CQUdZRnd6T1VvWHJ3cmlLUFVCT3JoVTBMbXVhVDI5MEtZblNhVDZhRTYtak9CcjJFWUxSWEhPZF9fX1J5UUNFcTVCbjNPQ0JBMkRKYTROc3daVndicmFLeG1QSG5FVUJtUHFHSDB6MVRLeEU0dVVWUE91TERoQ0tLVTVvblVRUVUySUpScklXWjlrZGUwbDM5WnRzcl9fNzhWR1RQekc5dFp2ekZTQkZpeVgtMTdXOHhKTmc1QTZTTF93dlRNVHk1U2s2MlpxYVFwMHpYLWtRZUREdTJETGpsZHNUcjM0dTR2bXdleGIteGJkNlB5amZjZHc4QUkiLCJpZCI6ImZjX0tlRG1aNGFsQWRMaTFlOFAwYzIzcVFFXzEifQ%3D%3D'}], 'ai_overview': {'page_token': 'jPRAInicvZXdbuJGFMcv-yTlhg0YMBAioerM2I4NIcSYLEtu0GDM-JMxHhNj7vZd-lS965t0MCakJN2qVdUjge3D-fL8fzp8_zX0NsFvP_3upmnM7-r1LMtqlDEaOjWbRXXC841dX7OQJ7b7y24XOv2sisEwDWxo1qwdkJlayV_7rYrN-1LF8fpDR4leZBLC6sFrOLdPkt1sbU21UlTqL5aEO75otPd5fVEXX8HPLUU81HjN2dSe7n3tELaRtZJqTalxWxvXSSQC4N8Zfv-ANDAB1IuDXW6D880IH7OoVaaU3gwoAlMFDYZXHURFMDB4oHQXcxvBtQkPNs8PCiBT1EcZ4MdAw9d1CjvPR4_J5iXgfWl6znj3-webi88QMAY9O5fI3jrJCrqHySXYMZH8BFjX0IeSQuoBVbaTtape_1RYTD2yezQR1FdUKCXVl4m4NOoJP-qGpz2JaeHufknk_fZ1r7L22uK-Ih1uOIw8g34piLD5GxL8PRKHrWS0JDLOJFp7qKHGGw-G6VN0OTmTYvaj4yj1xZcLHsFEvBD2piefOwZD4cXtCHTbcKdoDm_h1lsl9diGmvSoAdVOPksczVwohDMQ-k6KlOMsYsIMQwmvAWM_FEF6IfHRqReqDooWxrNWTK8yoxSrfB31qADY4Am90DMgH1TzlCFi0GUiweiwSBODKZLoBuvicAbHbuJsRsesoXAgUOan0kYJ24P5gYfL-_6VfQSlNPoJAPdycwmbr1pj50BvZuYdSWFTMhsE00lWAsCi5T9YCvb_gwj6Kg4bRxdE2AWR2zMiH1ZGIUhmUlesDFqujCtEipUxFSvj9lNE8DOUiBQrY3BaGZJW9DgjYv4dIso7ROgZEfMHiJxWhoWRfigRGWRqEfIJIv_NyihIcU6XP--PnU-vMVItbRrvAx_Js1dXyvnUo00StnFv7ppfFusovYsTJjaKt7pDzUGaryrbvuskrBqxlNksiaspS0lY3eyipZNU2bq6ckjoJNz1Yl71NlVjs_JIJQoT1pdI58aK0eSFrZUXJ8y64Lsqsex7qXWLZNnLGx0U-1TfrGdZkh96ZDIf6pnWnY173midp0ia2ONO1PXyYB_As2VZhxbeNuYJmfOANsFdwrdYT7dDvRM9yIfnBR-2Up02U8f5Zij5Yqrbk9XTjA82nf226T8CLebi_dEkTm60RpckQSVK7L6gbwtQ4TZZOFz8ETc7y7Xd6LZ7ROq1iVyJaJrHfbnxBympU_0', 'serpapi_link': 'https://serpapi.com/search.json?engine=google_ai_overview&page_token=jPRAInicvZXdbuJGFMcv-yTlhg0YMBAioerM2I4NIcSYLEtu0GDM-JMxHhNj7vZd-lS965t0MCakJN2qVdUjge3D-fL8fzp8_zX0NsFvP_3upmnM7-r1LMtqlDEaOjWbRXXC841dX7OQJ7b7y24XOv2sisEwDWxo1qwdkJlayV_7rYrN-1LF8fpDR4leZBLC6sFrOLdPkt1sbU21UlTqL5aEO75otPd5fVEXX8HPLUU81HjN2dSe7n3tELaRtZJqTalxWxvXSSQC4N8Zfv-ANDAB1IuDXW6D880IH7OoVaaU3gwoAlMFDYZXHURFMDB4oHQXcxvBtQkPNs8PCiBT1EcZ4MdAw9d1CjvPR4_J5iXgfWl6znj3-webi88QMAY9O5fI3jrJCrqHySXYMZH8BFjX0IeSQuoBVbaTtape_1RYTD2yezQR1FdUKCXVl4m4NOoJP-qGpz2JaeHufknk_fZ1r7L22uK-Ih1uOIw8g34piLD5GxL8PRKHrWS0JDLOJFp7qKHGGw-G6VN0OTmTYvaj4yj1xZcLHsFEvBD2piefOwZD4cXtCHTbcKdoDm_h1lsl9diGmvSoAdVOPksczVwohDMQ-k6KlOMsYsIMQwmvAWM_FEF6IfHRqReqDooWxrNWTK8yoxSrfB31qADY4Am90DMgH1TzlCFi0GUiweiwSBODKZLoBuvicAbHbuJsRsesoXAgUOan0kYJ24P5gYfL-_6VfQSlNPoJAPdycwmbr1pj50BvZuYdSWFTMhsE00lWAsCi5T9YCvb_gwj6Kg4bRxdE2AWR2zMiH1ZGIUhmUlesDFqujCtEipUxFSvj9lNE8DOUiBQrY3BaGZJW9DgjYv4dIso7ROgZEfMHiJxWhoWRfigRGWRqEfIJIv_NyihIcU6XP--PnU-vMVItbRrvAx_Js1dXyvnUo00StnFv7ppfFusovYsTJjaKt7pDzUGaryrbvuskrBqxlNksiaspS0lY3eyipZNU2bq6ckjoJNz1Yl71NlVjs_JIJQoT1pdI58aK0eSFrZUXJ8y64Lsqsex7qXWLZNnLGx0U-1TfrGdZkh96ZDIf6pnWnY173midp0ia2ONO1PXyYB_As2VZhxbeNuYJmfOANsFdwrdYT7dDvRM9yIfnBR-2Up02U8f5Zij5Yqrbk9XTjA82nf226T8CLebi_dEkTm60RpckQSVK7L6gbwtQ4TZZOFz8ETc7y7Xd6LZ7ROq1iVyJaJrHfbnxBympU_0'}, 'answer_box': {'type': 'organic_result', 'title': 'Hero MotoCorp - Wikipedia', 'link': 'https://en.wikipedia.org/wiki/Hero_MotoCorp#:~:text=Hero%20MotoCorp%20has%20a%20sales,and%20service%20points%20across%20India.', 'displayed_link': 'https://en.wikipedia.org › wiki › Hero_MotoCorp', 'snippet': 'Hero MotoCorp has a sales and service network with over 6,000 dealerships and service points across India.', 'snippet_highlighted_words': ['over 6,000'], 'favicon': 'https://serpapi.com/searches/67e6e021c132efbbdb3b4445/images/c50e900a46e051bfd2f010d0ff103c2d0d2f199bcd445020.png', 'source': 'Wikipedia'}, 'organic_results': [{'position': 1, 'title': 'Number of Hero dealers in India in 2025', 'link': 'https://www.scrapehero.com/location-reports/Hero-India/', 'redirect_link': 'https://www.google.com/url?sa=t&source=web&rct=j&opi=89978449&url=https://www.scrapehero.com/location-reports/Hero-India/&ved=2ahUKEwjG3aePqq2MAxVScfUHHdHmLRUQFnoECCoQAQ', 'displayed_link': 'https://www.scrapehero.com › location-reports › Hero-I...', 'favicon': 'https://serpapi.com/searches/67e6e021c132efbbdb3b4445/images/8d19cb4b5409b15ca8fb7db1bed5aa389319e5fade9b480af21117263678752e.png', 'date': 'Jan 2, 2025', 'snippet': 'There are 2,612 Hero dealers in India as of January 02, 2025. The state and territory with the most number of Hero locations in India is Uttar ...', 'snippet_highlighted_words': ['There are 2,612 Hero dealers in India'], 'source': 'ScrapeHero'}, {'position': 2, 'title': 'Press Release', 'link': 'https://www.heromotocorp.com/content/dam/hero-aem-website/in/en-in/company-section/press-releases/2025/january-pdf/press_release_hero_motocorp_cy_24_sales_020125.pdf', 'redirect_link': 'https://www.google.com/url?sa=t&source=web&rct=j&opi=89978449&url=https://www.heromotocorp.com/content/dam/hero-aem-website/in/en-in/company-section/press-releases/2025/january-pdf/press_release_hero_motocorp_cy_24_sales_020125.pdf&ved=2ahUKEwjG3aePqq2MAxVScfUHHdHmLRUQFnoECC8QAQ', 'displayed_link': 'https://www.heromotocorp.com › january-pdf', 'favicon': 'https://serpapi.com/searches/67e6e021c132efbbdb3b4445/images/8d19cb4b5409b15ca8fb7db1bed5aa38961da8ec677d3955eecfe862e74587c5.png', 'date': 'Jan 2, 2025', 'snippet': 'The company also inaugurated over 400 Hero 2.0 stores during the year, expanding the total number of Hero 2.0 outlets to 685. SUSTAINABILITY.', 'snippet_highlighted_words': ['Hero', 'total number', 'Hero'], 'rich_snippet': {'top': {'detected_extensions': {'pages': 4}, 'extensions': ['4 pages']}}, 'source': 'Hero MotoCorp'}, {'position': 3, 'title': 'Hero showroom in India | 1877 Hero bike dealers', 'link': 'https://www.bikewale.com/dealer-showrooms/hero/', 'redirect_link': 'https://www.google.com/url?sa=t&source=web&rct=j&opi=89978449&url=https://www.bikewale.com/dealer-showrooms/hero/&ved=2ahUKEwjG3aePqq2MAxVScfUHHdHmLRUQFnoECDMQAQ', 'displayed_link': 'https://www.bikewale.com › Hero', 'favicon': 'https://serpapi.com/searches/67e6e021c132efbbdb3b4445/images/8d19cb4b5409b15ca8fb7db1bed5aa38f4aac52ba5466768205cc3754ab8e028.png', 'snippet': 'BikeWale recommends to buy your Hero bike only from authorized Hero showrooms. We bring you a list of 1877 Hero showrooms present in 733 cities in India.', 'snippet_highlighted_words': ['1877 Hero showrooms present in 733 cities in India'], 'sitelinks': {'inline': [{'title': 'Delhi (52)', 'link': 'https://www.bikewale.com/dealer-showrooms/hero/delhi/'}, {'title': 'Gurgaon (12)', 'link': 'https://www.bikewale.com/dealer-showrooms/hero/gurgaon/'}, {'title': 'Patna (7)', 'link': 'https://www.bikewale.com/dealer-showrooms/hero/patna/'}, {'title': 'Raipur (7)', 'link': 'https://www.bikewale.com/dealer-showrooms/hero/raipur/'}]}, 'source': 'BikeWale'}, {'position': 4, 'title': 'Hero MotoCorp and Honda retail sales battle heats up', 'link': 'https://www.autocarpro.in/analysis-sales/hero-motocorp-and-honda-retail-sales-battle-heats-up-separated-by-6000-units-in-august-122314', 'redirect_link': 'https://www.google.com/url?sa=t&source=web&rct=j&opi=89978449&url=https://www.autocarpro.in/analysis-sales/hero-motocorp-and-honda-retail-sales-battle-heats-up-separated-by-6000-units-in-august-122314&ved=2ahUKEwjG3aePqq2MAxVScfUHHdHmLRUQFnoECCsQAQ', 'displayed_link': 'https://www.autocarpro.in › Analysis Sales', 'favicon': 'https://serpapi.com/searches/67e6e021c132efbbdb3b4445/images/8d19cb4b5409b15ca8fb7db1bed5aa3884c26268fcea0afa32d8fed1392c7a5c.png', 'date': 'Sep 1, 2024', 'snippet': 'Hero MotoCorp has started scaling up brand presence for Vida and its network now stands at 203 touchpoints comprising 180 dealers across 116 ...', 'snippet_highlighted_words': ['180 dealers'], 'source': 'Autocar Professional'}, {'position': 5, 'title': 'Hero MotoCorp Statistics By Sales, Revenue and Profit', 'link': 'https://electroiq.com/stats/hero-motocorp-statistics/', 'redirect_link': 'https://www.google.com/url?sa=t&source=web&rct=j&opi=89978449&url=https://electroiq.com/stats/hero-motocorp-statistics/&ved=2ahUKEwjG3aePqq2MAxVScfUHHdHmLRUQFnoECFAQAQ', 'displayed_link': 'https://electroiq.com › stats › hero-motocorp-statistics', 'favicon': 'https://serpapi.com/searches/67e6e021c132efbbdb3b4445/images/8d19cb4b5409b15ca8fb7db1bed5aa38d232d64648efe0069fef86970796f074.png', 'date': 'Aug 20, 2024', 'snippet': 'According to Hero MotoCorp Statistics, the number of vehicles sold by them reached a peak of 7.8 million in FY 2019. As of 2023, it is yet to ...', 'snippet_highlighted_words': ['Hero MotoCorp', 'number'], 'source': 'Electro IQ -'}, {'position': 6, 'title': 'Hero MotoCorp aims to change its gear in the Indian ...', 'link': 'https://auto.economictimes.indiatimes.com/news/two-wheelers/hero-motocorp-aims-to-change-its-gear-in-the-indian-auto-industry-using-4s/112659768', 'redirect_link': 'https://www.google.com/url?sa=t&source=web&rct=j&opi=89978449&url=https://auto.economictimes.indiatimes.com/news/two-wheelers/hero-motocorp-aims-to-change-its-gear-in-the-indian-auto-industry-using-4s/112659768&ved=2ahUKEwjG3aePqq2MAxVScfUHHdHmLRUQFnoECCwQAQ', 'displayed_link': 'https://auto.economictimes.indiatimes.com › two-wheelers', 'favicon': 'https://serpapi.com/searches/67e6e021c132efbbdb3b4445/images/8d19cb4b5409b15ca8fb7db1bed5aa38ec90d665462c96f8e01dd0ecca95a933.png', 'date': 'Aug 20, 2024', 'snippet': 'It aims to increase its dealership count from 300 to 800 by FY25. In the Premium segment of Hero, it targets almost 3x its dealerships count i.e ...', 'snippet_highlighted_words': ['dealership count', 'Hero', 'dealerships count'], 'source': 'ET Auto'}, {'position': 7, 'title': 'About Us: Vision, Values, and Innovation', 'link': 'https://www.heromotocorp.com/en-in/company/about-us/overview.html', 'redirect_link': 'https://www.google.com/url?sa=t&source=web&rct=j&opi=89978449&url=https://www.heromotocorp.com/en-in/company/about-us/overview.html&ved=2ahUKEwjG3aePqq2MAxVScfUHHdHmLRUQFnoECDIQAQ', 'displayed_link': 'https://www.heromotocorp.com › about-us › overview', 'favicon': 'https://serpapi.com/searches/67e6e021c132efbbdb3b4445/images/8d19cb4b5409b15ca8fb7db1bed5aa38762dc5dc2076197b68c8b47921bab0a3.png', 'snippet': '#1 Two-Wheeler Manufacturer in the World. We are empowering millions around the globe through our portfolio of innovative and sustainable products.', 'sitelinks': {'inline': [{'title': 'Careers', 'link': 'https://www.heromotocorp.com/en-in/company/careers/career-overview.html'}, {'title': 'Board and Leadership', 'link': 'https://www.heromotocorp.com/en-in/company/about-us/board-and-leadership.html'}, {'title': 'ESG Sustainability', 'link': 'https://www.heromotocorp.com/en-in/company/sustainability/esg-sustainability.html'}, {'title': 'Our Reports', 'link': 'https://www.heromotocorp.com/en-in/company/reports-and-policies/reports.html'}]}, 'source': 'Hero MotoCorp'}, {'position': 8, 'title': '️ Hero MotoCorp Dealerships Across India! 🏍️🔥 ...', 'link': 'https://www.instagram.com/maps_by_aditya/p/DHqc9K6oWKr/', 'redirect_link': 'https://www.google.com/url?sa=t&source=web&rct=j&opi=89978449&url=https://www.instagram.com/maps_by_aditya/p/DHqc9K6oWKr/&ved=2ahUKEwjG3aePqq2MAxVScfUHHdHmLRUQFnoECDEQAQ', 'displayed_link': '140+ likes · 2 days ago', 'favicon': 'https://serpapi.com/searches/67e6e021c132efbbdb3b4445/images/8d19cb4b5409b15ca8fb7db1bed5aa38d2e2931426c60521d03103fc627b7def.png', 'snippet': \"Did you know that Hero MotoCorp, India's leading two-wheeler brand, has 941 dealerships across the country? Whether you're in the bustling ...\", 'snippet_highlighted_words': [\"Hero MotoCorp, India's leading two-wheeler brand, has 941 dealerships\"], 'source': 'Instagram · maps_by_aditya'}, {'position': 9, 'title': 'Annual Report 2023-24', 'link': 'https://www.heromotocorp.com/content/dam/hero-aem-website/in/en-in/company-section/investors/annual-report/annual-reports/2023-2024/Hero_MotoCorp_AR_23-24_Web_final.pdf', 'redirect_link': 'https://www.google.com/url?sa=t&source=web&rct=j&opi=89978449&url=https://www.heromotocorp.com/content/dam/hero-aem-website/in/en-in/company-section/investors/annual-report/annual-reports/2023-2024/Hero_MotoCorp_AR_23-24_Web_final.pdf&ved=2ahUKEwjG3aePqq2MAxVScfUHHdHmLRUQFnoECC4QAQ', 'displayed_link': 'https://www.heromotocorp.com › annual-reports', 'favicon': 'https://serpapi.com/searches/67e6e021c132efbbdb3b4445/images/8d19cb4b5409b15ca8fb7db1bed5aa38bc5b5427b273773c18e4c312f06f1e31.png', 'date': 'Aug 12, 2024', 'snippet': 'At Hero MotoCorp, we are changing gears as well, transforming mobility for millions in India and around the world. Over four decades, our world- ...', 'snippet_highlighted_words': ['Hero MotoCorp', 'India'], 'source': 'Hero MotoCorp'}], 'related_searches': [{'block_position': 1, 'items': [{'name': 'TVS', 'image': 'https://serpapi.com/searches/67e6e021c132efbbdb3b4445/images/5892be3ce49e4a9d4f9147b64d0ad96f376552b8add0a5255b7b2e1607850c13f02970abbd72b61f.gif', 'link': 'https://www.google.com/search?sca_esv=326bfc1759a095a4&q=TVS&stick=H4sIAAAAAAAAAOMwVOLVT9c3NEyyMDIpS0rK-sXIsIGF4RULPxeqOJJIZXJVYUa8OZJIslllpWW8BZJIuZFhsVFJIbKIYWVFbhqamgIjowwUc0oKk5MKUeyqKDbMTUESMU9ONs4yqkQVScqoMl_EyhwSFnyLTZIhzC_8c-KMw2zv9lWlFScocmnOin504J7VukUcYgGp-QU5qQqJOcX5CsWpiUXJGQpp-UUrOBgB1A1SXQkBAAA&sa=X&ved=2ahUKEwjG3aePqq2MAxVScfUHHdHmLRUQs9oBKAB6BAgpEAk', 'serpapi_link': 'https://serpapi.com/search.json?device=desktop&engine=google&google_domain=google.com&location=India&q=TVS&stick=H4sIAAAAAAAAAOMwVOLVT9c3NEyyMDIpS0rK-sXIsIGF4RULPxeqOJJIZXJVYUa8OZJIslllpWW8BZJIuZFhsVFJIbKIYWVFbhqamgIjowwUc0oKk5MKUeyqKDbMTUESMU9ONs4yqkQVScqoMl_EyhwSFnyLTZIhzC_8c-KMw2zv9lWlFScocmnOin504J7VukUcYgGp-QU5qQqJOcX5CsWpiUXJGQpp-UUrOBgB1A1SXQkBAAA'}, {'name': 'Hero', 'image': 'https://serpapi.com/searches/67e6e021c132efbbdb3b4445/images/5892be3ce49e4a9d4f9147b64d0ad96f376552b8add0a525947c525eb263ed5bdbf1e17b241ba2c2.gif', 'link': 'https://www.google.com/search?sca_esv=326bfc1759a095a4&q=Hero+MotoCorp&stick=H4sIAAAAAAAAAOMwVOLVT9c3NEyqTK4qzIg3_8XIsIGF4RULPxdU3MLIpCwpKQtJBKoSSSTZrLLSMt4CSaTcyLDYqKQQWcSwsiI3DU1NgZFRBoo5JYXJSYUodlUUG-amIImYJycbZxlVoookZVSZL2Ll9UgtylfwzS_Jd84vKrjFJskQ5hf-OXHGYbZ3-6rSihMUuTRnRT86cM9q3SIOsYDU_IKcVIXEnOJ8heLUxKLkDIW0_KIVHIwAvzE07RMBAAA&sa=X&ved=2ahUKEwjG3aePqq2MAxVScfUHHdHmLRUQs9oBKAB6BAgpEA4', 'serpapi_link': 'https://serpapi.com/search.json?device=desktop&engine=google&google_domain=google.com&location=India&q=Hero+MotoCorp&stick=H4sIAAAAAAAAAOMwVOLVT9c3NEyqTK4qzIg3_8XIsIGF4RULPxdU3MLIpCwpKQtJBKoSSSTZrLLSMt4CSaTcyLDYqKQQWcSwsiI3DU1NgZFRBoo5JYXJSYUodlUUG-amIImYJycbZxlVoookZVSZL2Ll9UgtylfwzS_Jd84vKrjFJskQ5hf-OXHGYbZ3-6rSihMUuTRnRT86cM9q3SIOsYDU_IKcVIXEnOJ8heLUxKLkDIW0_KIVHIwAvzE07RMBAAA'}, {'name': 'Suzuki', 'image': 'https://serpapi.com/searches/67e6e021c132efbbdb3b4445/images/5892be3ce49e4a9d4f9147b64d0ad96f376552b8add0a525e0c224ca3465b31461704f29f230cd82.gif', 'link': 'https://www.google.com/search?sca_esv=326bfc1759a095a4&q=MARUTI+SUZUKI&stick=H4sIAAAAAAAAAOMwVOLVT9c3NExKNqustIy3-MXIsIGF4RULPxdU3MLIpCwpKQtJpDK5qjAj3hxJBKoXSaTcyLDYqKQQWcSwsiI3DU1NgZFRBoo5JYXJSYUodlUUG-amIImYJycbZxlVoookZVSZL2Ll9XUMCg3xVAgOjQr19rzFJskQ5hf-OXHGYbZ3-6rSihMUuTRnRT86cM9q3SIOsYDU_IKcVIXEnOJ8heLUxKLkDIW0_KIVHIwAB5797hMBAAA&sa=X&ved=2ahUKEwjG3aePqq2MAxVScfUHHdHmLRUQs9oBKAB6BAgpEBM', 'serpapi_link': 'https://serpapi.com/search.json?device=desktop&engine=google&google_domain=google.com&location=India&q=MARUTI+SUZUKI&stick=H4sIAAAAAAAAAOMwVOLVT9c3NExKNqustIy3-MXIsIGF4RULPxdU3MLIpCwpKQtJpDK5qjAj3hxJBKoXSaTcyLDYqKQQWcSwsiI3DU1NgZFRBoo5JYXJSYUodlUUG-amIImYJycbZxlVoookZVSZL2Ll9XUMCg3xVAgOjQr19rzFJskQ5hf-OXHGYbZ3-6rSihMUuTRnRT86cM9q3SIOsYDU_IKcVIXEnOJ8heLUxKLkDIW0_KIVHIwAB5797hMBAAA'}, {'name': 'Honda', 'image': 'https://serpapi.com/searches/67e6e021c132efbbdb3b4445/images/5892be3ce49e4a9d4f9147b64d0ad96f376552b8add0a5257a43f965a0853e888080e7a2ecada470.gif', 'link': 'https://www.google.com/search?sca_esv=326bfc1759a095a4&q=Honda&stick=H4sIAAAAAAAAAOMwVOLVT9c3NEwqNzIsNiop_MXIsIGF4RULPxdU3MLIpCwpKQtJpDK5qjAj3hxJJNmsstIy3gJJBGoasohhZUVuGpqaAiOjDBRzSgqTkwpR7KooNsxNQRIxT042zjKqRBVJyqgyX8TK6pGfl5J4i02SIcwv_HPijMNs7_ZVpRUnKHJpzop-dOCe1bpFHGIBqfkFOakKiTnF-QrFqYlFyRkKaflFKzgYAQtc0z8LAQAA&sa=X&ved=2ahUKEwjG3aePqq2MAxVScfUHHdHmLRUQs9oBKAB6BAgpEBg', 'serpapi_link': 'https://serpapi.com/search.json?device=desktop&engine=google&google_domain=google.com&location=India&q=Honda&stick=H4sIAAAAAAAAAOMwVOLVT9c3NEwqNzIsNiop_MXIsIGF4RULPxdU3MLIpCwpKQtJpDK5qjAj3hxJJNmsstIy3gJJBGoasohhZUVuGpqaAiOjDBRzSgqTkwpR7KooNsxNQRIxT042zjKqRBVJyqgyX8TK6pGfl5J4i02SIcwv_HPijMNs7_ZVpRUnKHJpzop-dOCe1bpFHGIBqfkFOakKiTnF-QrFqYlFyRkKaflFKzgYAQtc0z8LAQAA'}, {'name': 'Bajaj', 'image': 'https://serpapi.com/searches/67e6e021c132efbbdb3b4445/images/5892be3ce49e4a9d4f9147b64d0ad96f376552b8add0a52558019a663422591521a45626cbc72293.gif', 'link': 'https://www.google.com/search?sca_esv=326bfc1759a095a4&q=BAJAJ+AUTO&stick=H4sIAAAAAAAAAOMwVOLVT9c3NEwqN6ysyE2z-MXIsIGF4RULPxdU3MLIpCwpKQtJpDK5qjAj3hxJJNmsstIy3gJJpNzIsNiopBBZBGI-qpoCI6MMFHNKCpOTClHsqig2zE1BEjFPTjbOMqpEFUnKqDJfxMrl5Ojl6KXgGBrif4tNkiHML_xz4ozDbO_2VaUVJyhyac6KfnTgntW6RRxiAan5BTmpCok5xfkKxamJRckZCmn5RSs4GAH0Zp_5EAEAAA&sa=X&ved=2ahUKEwjG3aePqq2MAxVScfUHHdHmLRUQs9oBKAB6BAgpEB0', 'serpapi_link': 'https://serpapi.com/search.json?device=desktop&engine=google&google_domain=google.com&location=India&q=BAJAJ+AUTO&stick=H4sIAAAAAAAAAOMwVOLVT9c3NEwqN6ysyE2z-MXIsIGF4RULPxdU3MLIpCwpKQtJpDK5qjAj3hxJJNmsstIy3gJJpNzIsNiopBBZBGI-qpoCI6MMFHNKCpOTClHsqig2zE1BEjFPTjbOMqpEFUnKqDJfxMrl5Ojl6KXgGBrif4tNkiHML_xz4ozDbO_2VaUVJyhyac6KfnTgntW6RRxiAan5BTmpCok5xfkKxamJRckZCmn5RSs4GAH0Zp_5EAEAAA'}, {'name': 'Yamaha Motor', 'image': 'https://serpapi.com/searches/67e6e021c132efbbdb3b4445/images/5892be3ce49e4a9d4f9147b64d0ad96f376552b8add0a525b2a1bcc27e36a26b5be4b05be496297e.gif', 'link': 'https://www.google.com/search?sca_esv=326bfc1759a095a4&q=Yamaha&stick=H4sIAAAAAAAAAOMwVOLVT9c3NEwqNzIsMDLK-MXIsIGF4RULPxdU3MLIpCwpKQtJpDK5qjAj3hxJJNmsstIy3gJJBGhasVFJIbKIYWVFbhqaGpCNKOaUFCYnFaLYVVFsmJuCJGKenGycZVSJKpKUUWW-iJUtMjE3MSPxFpskQ5hf-OfEGYfZ3u2rSitOUOTSnBX96MA9q3WLOMQCUvMLclIVEnOK8xWKUxOLkjMU0vKLVnAwAgDDK_XNDAEAAA&sa=X&ved=2ahUKEwjG3aePqq2MAxVScfUHHdHmLRUQs9oBKAB6BAgpECI', 'serpapi_link': 'https://serpapi.com/search.json?device=desktop&engine=google&google_domain=google.com&location=India&q=Yamaha&stick=H4sIAAAAAAAAAOMwVOLVT9c3NEwqNzIsMDLK-MXIsIGF4RULPxdU3MLIpCwpKQtJpDK5qjAj3hxJJNmsstIy3gJJBGhasVFJIbKIYWVFbhqaGpCNKOaUFCYnFaLYVVFsmJuCJGKenGycZVSJKpKUUWW-iJUtMjE3MSPxFpskQ5hf-OfEGYfZ3u2rSitOUOTSnBX96MA9q3WLOMQCUvMLclIVEnOK8xWKUxOLkjMU0vKLVnAwAgDDK_XNDAEAAA'}]}, {'block_position': 1, 'query': 'Hero motocorp total number of dealerships in india pdf', 'link': 'https://www.google.com/search?sca_esv=326bfc1759a095a4&q=Hero+motocorp+total+number+of+dealerships+in+india+pdf&sa=X&ved=2ahUKEwjG3aePqq2MAxVScfUHHdHmLRUQ1QJ6BAhLEAE', 'serpapi_link': 'https://serpapi.com/search.json?device=desktop&engine=google&google_domain=google.com&location=India&q=Hero+motocorp+total+number+of+dealerships+in+india+pdf'}, {'block_position': 1, 'query': 'Hero motocorp total number of dealerships in india 2022', 'link': 'https://www.google.com/search?sca_esv=326bfc1759a095a4&q=Hero+motocorp+total+number+of+dealerships+in+india+2022&sa=X&ved=2ahUKEwjG3aePqq2MAxVScfUHHdHmLRUQ1QJ6BAhOEAE', 'serpapi_link': 'https://serpapi.com/search.json?device=desktop&engine=google&google_domain=google.com&location=India&q=Hero+motocorp+total+number+of+dealerships+in+india+2022'}, {'block_position': 1, 'query': 'Hero MotoCorp owner', 'link': 'https://www.google.com/search?sca_esv=326bfc1759a095a4&q=Hero+MotoCorp+owner&sa=X&ved=2ahUKEwjG3aePqq2MAxVScfUHHdHmLRUQ1QJ6BAhPEAE', 'serpapi_link': 'https://serpapi.com/search.json?device=desktop&engine=google&google_domain=google.com&location=India&q=Hero+MotoCorp+owner'}, {'block_position': 1, 'query': 'Hero company which country', 'link': 'https://www.google.com/search?sca_esv=326bfc1759a095a4&q=Hero+company+which+country&sa=X&ved=2ahUKEwjG3aePqq2MAxVScfUHHdHmLRUQ1QJ6BAhJEAE', 'serpapi_link': 'https://serpapi.com/search.json?device=desktop&engine=google&google_domain=google.com&location=India&q=Hero+company+which+country'}, {'block_position': 1, 'query': 'Hero MotoCorp bikes', 'link': 'https://www.google.com/search?sca_esv=326bfc1759a095a4&q=Hero+MotoCorp+bikes&sa=X&ved=2ahUKEwjG3aePqq2MAxVScfUHHdHmLRUQ1QJ6BAhFEAE', 'serpapi_link': 'https://serpapi.com/search.json?device=desktop&engine=google&google_domain=google.com&location=India&q=Hero+MotoCorp+bikes'}, {'block_position': 1, 'query': 'Hero Honda company history', 'link': 'https://www.google.com/search?sca_esv=326bfc1759a095a4&q=Hero+Honda+company+history&sa=X&ved=2ahUKEwjG3aePqq2MAxVScfUHHdHmLRUQ1QJ6BAhIEAE', 'serpapi_link': 'https://serpapi.com/search.json?device=desktop&engine=google&google_domain=google.com&location=India&q=Hero+Honda+company+history'}, {'block_position': 1, 'query': 'Hero MotoCorp career', 'link': 'https://www.google.com/search?sca_esv=326bfc1759a095a4&q=Hero+MotoCorp+career&sa=X&ved=2ahUKEwjG3aePqq2MAxVScfUHHdHmLRUQ1QJ6BAhKEAE', 'serpapi_link': 'https://serpapi.com/search.json?device=desktop&engine=google&google_domain=google.com&location=India&q=Hero+MotoCorp+career'}, {'block_position': 1, 'query': 'Hero bike', 'link': 'https://www.google.com/search?sca_esv=326bfc1759a095a4&q=Hero+bike&sa=X&ved=2ahUKEwjG3aePqq2MAxVScfUHHdHmLRUQ1QJ6BAhMEAE', 'serpapi_link': 'https://serpapi.com/search.json?device=desktop&engine=google&google_domain=google.com&location=India&q=Hero+bike'}], 'pagination': {'current': 1, 'next': 'https://www.google.com/search?q=hero+motocorp+total+number+of+dealerships+in+India&sca_esv=326bfc1759a095a4&ei=KeDmZ4alAdLi1e8P0c23qQE&start=10&sa=N&sstk=Af40H4WSH5Bt-KU01yGRX5XVHXIj2iN9Ay8e_BFgb5xmZQa3fx3jakLjt_bFb0OC98s3mh75H3Avi90H5BeZ0Gv7t0h3h1YPWHn04Q&ved=2ahUKEwjG3aePqq2MAxVScfUHHdHmLRUQ8NMDegQICxAW', 'other_pages': {'2': 'https://www.google.com/search?q=hero+motocorp+total+number+of+dealerships+in+India&sca_esv=326bfc1759a095a4&ei=KeDmZ4alAdLi1e8P0c23qQE&start=10&sa=N&sstk=Af40H4WSH5Bt-KU01yGRX5XVHXIj2iN9Ay8e_BFgb5xmZQa3fx3jakLjt_bFb0OC98s3mh75H3Avi90H5BeZ0Gv7t0h3h1YPWHn04Q&ved=2ahUKEwjG3aePqq2MAxVScfUHHdHmLRUQ8tMDegQICxAE', '3': 'https://www.google.com/search?q=hero+motocorp+total+number+of+dealerships+in+India&sca_esv=326bfc1759a095a4&ei=KeDmZ4alAdLi1e8P0c23qQE&start=20&sa=N&sstk=Af40H4WSH5Bt-KU01yGRX5XVHXIj2iN9Ay8e_BFgb5xmZQa3fx3jakLjt_bFb0OC98s3mh75H3Avi90H5BeZ0Gv7t0h3h1YPWHn04Q&ved=2ahUKEwjG3aePqq2MAxVScfUHHdHmLRUQ8tMDegQICxAG', '4': 'https://www.google.com/search?q=hero+motocorp+total+number+of+dealerships+in+India&sca_esv=326bfc1759a095a4&ei=KeDmZ4alAdLi1e8P0c23qQE&start=30&sa=N&sstk=Af40H4WSH5Bt-KU01yGRX5XVHXIj2iN9Ay8e_BFgb5xmZQa3fx3jakLjt_bFb0OC98s3mh75H3Avi90H5BeZ0Gv7t0h3h1YPWHn04Q&ved=2ahUKEwjG3aePqq2MAxVScfUHHdHmLRUQ8tMDegQICxAI', '5': 'https://www.google.com/search?q=hero+motocorp+total+number+of+dealerships+in+India&sca_esv=326bfc1759a095a4&ei=KeDmZ4alAdLi1e8P0c23qQE&start=40&sa=N&sstk=Af40H4WSH5Bt-KU01yGRX5XVHXIj2iN9Ay8e_BFgb5xmZQa3fx3jakLjt_bFb0OC98s3mh75H3Avi90H5BeZ0Gv7t0h3h1YPWHn04Q&ved=2ahUKEwjG3aePqq2MAxVScfUHHdHmLRUQ8tMDegQICxAK', '6': 'https://www.google.com/search?q=hero+motocorp+total+number+of+dealerships+in+India&sca_esv=326bfc1759a095a4&ei=KeDmZ4alAdLi1e8P0c23qQE&start=50&sa=N&sstk=Af40H4WSH5Bt-KU01yGRX5XVHXIj2iN9Ay8e_BFgb5xmZQa3fx3jakLjt_bFb0OC98s3mh75H3Avi90H5BeZ0Gv7t0h3h1YPWHn04Q&ved=2ahUKEwjG3aePqq2MAxVScfUHHdHmLRUQ8tMDegQICxAM', '7': 'https://www.google.com/search?q=hero+motocorp+total+number+of+dealerships+in+India&sca_esv=326bfc1759a095a4&ei=KeDmZ4alAdLi1e8P0c23qQE&start=60&sa=N&sstk=Af40H4WSH5Bt-KU01yGRX5XVHXIj2iN9Ay8e_BFgb5xmZQa3fx3jakLjt_bFb0OC98s3mh75H3Avi90H5BeZ0Gv7t0h3h1YPWHn04Q&ved=2ahUKEwjG3aePqq2MAxVScfUHHdHmLRUQ8tMDegQICxAO', '8': 'https://www.google.com/search?q=hero+motocorp+total+number+of+dealerships+in+India&sca_esv=326bfc1759a095a4&ei=KeDmZ4alAdLi1e8P0c23qQE&start=70&sa=N&sstk=Af40H4WSH5Bt-KU01yGRX5XVHXIj2iN9Ay8e_BFgb5xmZQa3fx3jakLjt_bFb0OC98s3mh75H3Avi90H5BeZ0Gv7t0h3h1YPWHn04Q&ved=2ahUKEwjG3aePqq2MAxVScfUHHdHmLRUQ8tMDegQICxAQ', '9': 'https://www.google.com/search?q=hero+motocorp+total+number+of+dealerships+in+India&sca_esv=326bfc1759a095a4&ei=KeDmZ4alAdLi1e8P0c23qQE&start=80&sa=N&sstk=Af40H4WSH5Bt-KU01yGRX5XVHXIj2iN9Ay8e_BFgb5xmZQa3fx3jakLjt_bFb0OC98s3mh75H3Avi90H5BeZ0Gv7t0h3h1YPWHn04Q&ved=2ahUKEwjG3aePqq2MAxVScfUHHdHmLRUQ8tMDegQICxAS', '10': 'https://www.google.com/search?q=hero+motocorp+total+number+of+dealerships+in+India&sca_esv=326bfc1759a095a4&ei=KeDmZ4alAdLi1e8P0c23qQE&start=90&sa=N&sstk=Af40H4WSH5Bt-KU01yGRX5XVHXIj2iN9Ay8e_BFgb5xmZQa3fx3jakLjt_bFb0OC98s3mh75H3Avi90H5BeZ0Gv7t0h3h1YPWHn04Q&ved=2ahUKEwjG3aePqq2MAxVScfUHHdHmLRUQ8tMDegQICxAU'}}, 'serpapi_pagination': {'current': 1, 'next_link': 'https://serpapi.com/search.json?device=desktop&engine=google&google_domain=google.com&location=India&q=hero+motocorp+total+number+of+dealerships+in+India&start=10', 'next': 'https://serpapi.com/search.json?device=desktop&engine=google&google_domain=google.com&location=India&q=hero+motocorp+total+number+of+dealerships+in+India&start=10', 'other_pages': {'2': 'https://serpapi.com/search.json?device=desktop&engine=google&google_domain=google.com&location=India&q=hero+motocorp+total+number+of+dealerships+in+India&start=10', '3': 'https://serpapi.com/search.json?device=desktop&engine=google&google_domain=google.com&location=India&q=hero+motocorp+total+number+of+dealerships+in+India&start=20', '4': 'https://serpapi.com/search.json?device=desktop&engine=google&google_domain=google.com&location=India&q=hero+motocorp+total+number+of+dealerships+in+India&start=30', '5': 'https://serpapi.com/search.json?device=desktop&engine=google&google_domain=google.com&location=India&q=hero+motocorp+total+number+of+dealerships+in+India&start=40', '6': 'https://serpapi.com/search.json?device=desktop&engine=google&google_domain=google.com&location=India&q=hero+motocorp+total+number+of+dealerships+in+India&start=50', '7': 'https://serpapi.com/search.json?device=desktop&engine=google&google_domain=google.com&location=India&q=hero+motocorp+total+number+of+dealerships+in+India&start=60', '8': 'https://serpapi.com/search.json?device=desktop&engine=google&google_domain=google.com&location=India&q=hero+motocorp+total+number+of+dealerships+in+India&start=70', '9': 'https://serpapi.com/search.json?device=desktop&engine=google&google_domain=google.com&location=India&q=hero+motocorp+total+number+of+dealerships+in+India&start=80', '10': 'https://serpapi.com/search.json?device=desktop&engine=google&google_domain=google.com&location=India&q=hero+motocorp+total+number+of+dealerships+in+India&start=90'}}}\n"
          ]
        }
      ],
      "source": [
        "from serpapi import GoogleSearch\n",
        "\n",
        "params = {\n",
        "    \"q\": \"hero motorcorp total number of dealerships in India\",\n",
        "    \"location\": \"India\",\n",
        "    \"api_key\": \"47d6e7db23eda610711990fd266ad2d0e699d1a2eda580c7967d37dca9ca9cb4\"\n",
        "}\n",
        "\n",
        "search = GoogleSearch(params)\n",
        "results = search.get_dict()\n",
        "print(results)\n"
      ]
    },
    {
      "cell_type": "code",
      "execution_count": 126,
      "metadata": {
        "id": "Z6NxyEk61xuI"
      },
      "outputs": [],
      "source": [
        "res = results[\"answer_box\"][\"snippet_highlighted_words\"]"
      ]
    },
    {
      "cell_type": "code",
      "execution_count": null,
      "metadata": {
        "colab": {
          "base_uri": "https://localhost:8080/"
        },
        "id": "sz_8t69t4XRl",
        "outputId": "af182514-3ce9-4276-c060-cf6e4e31961f"
      },
      "outputs": [
        {
          "name": "stdout",
          "output_type": "stream",
          "text": [
            "6000\n"
          ]
        }
      ],
      "source": [
        "value = res[0]\n",
        "if value.isdigit():\n",
        "    print(value)\n",
        "else:\n",
        "    print(int(''.join(filter(str.isdigit, value))))"
      ]
    }
  ],
  "metadata": {
    "colab": {
      "provenance": []
    },
    "kernelspec": {
      "display_name": "Python 3",
      "name": "python3"
    },
    "language_info": {
      "name": "python"
    }
  },
  "nbformat": 4,
  "nbformat_minor": 0
}
